{
 "nbformat": 4,
 "nbformat_minor": 0,
 "metadata": {
  "colab": {
   "provenance": []
  },
  "kernelspec": {
   "name": "python3",
   "display_name": "Python 3"
  },
  "language_info": {
   "name": "python"
  }
 },
 "cells": [
  {
   "cell_type": "markdown",
   "source": [
    "# ID2214 Programming for Data Science\n",
    "\n",
    "### Assignment 4\n",
    "\n",
    "Authors: \\\n",
    "Lucas Larsson lulars@kth.se \\\n",
    "Mihaela Bakšić baksic@kth.se"
   ],
   "metadata": {
    "id": "t2XfUy_nXWlI"
   }
  },
  {
   "cell_type": "code",
   "execution_count": 11,
   "metadata": {
    "id": "zApNmXz8W5UW"
   },
   "outputs": [],
   "source": [
    "import pandas as pd\n",
    "from rdkit import Chem\n",
    "from rdkit.Chem import ChemicalFeatures, AllChem, Draw, rdmolops, Lipinski, rdMolDescriptors, Fragments\n",
    "from rdkit import RDConfig\n",
    "from molmass import Formula\n",
    "import os\n",
    "import re"
   ]
  },
  {
   "cell_type": "code",
   "source": [
    "train_data = pd.read_csv('training_smiles.csv', dtype = {'ACTIVE': int})\n",
    "test_data = pd.read_csv('test_smiles.csv')\n",
    "\n",
    "train_data.head()"
   ],
   "metadata": {
    "colab": {
     "base_uri": "https://localhost:8080/",
     "height": 206
    },
    "id": "QBiu6FB0iKap",
    "outputId": "f086646e-e61e-46f8-f8b4-ed85096607cb"
   },
   "execution_count": 12,
   "outputs": [
    {
     "data": {
      "text/plain": "   INDEX                                             SMILES  ACTIVE\n0      1               CC(C)N1CC(=O)C(c2nc3ccccc3[nH]2)=C1N       0\n1      2  COc1ccc(-c2ccc3c(N)c(C(=O)c4ccc(OC)c(OC)c4)sc3...       0\n2      3    CCc1ccc(C(=O)COC(=O)CCc2nc(=O)c3ccccc3[nH]2)cc1       0\n3      4        O=C(CN1CCOCC1)Nc1ccc(S(=O)(=O)N2CCCCCC2)cc1       0\n4      5                   C=CCC(Nc1ccccc1)c1ccc(OC)c(OC)c1       0",
      "text/html": "<div>\n<style scoped>\n    .dataframe tbody tr th:only-of-type {\n        vertical-align: middle;\n    }\n\n    .dataframe tbody tr th {\n        vertical-align: top;\n    }\n\n    .dataframe thead th {\n        text-align: right;\n    }\n</style>\n<table border=\"1\" class=\"dataframe\">\n  <thead>\n    <tr style=\"text-align: right;\">\n      <th></th>\n      <th>INDEX</th>\n      <th>SMILES</th>\n      <th>ACTIVE</th>\n    </tr>\n  </thead>\n  <tbody>\n    <tr>\n      <th>0</th>\n      <td>1</td>\n      <td>CC(C)N1CC(=O)C(c2nc3ccccc3[nH]2)=C1N</td>\n      <td>0</td>\n    </tr>\n    <tr>\n      <th>1</th>\n      <td>2</td>\n      <td>COc1ccc(-c2ccc3c(N)c(C(=O)c4ccc(OC)c(OC)c4)sc3...</td>\n      <td>0</td>\n    </tr>\n    <tr>\n      <th>2</th>\n      <td>3</td>\n      <td>CCc1ccc(C(=O)COC(=O)CCc2nc(=O)c3ccccc3[nH]2)cc1</td>\n      <td>0</td>\n    </tr>\n    <tr>\n      <th>3</th>\n      <td>4</td>\n      <td>O=C(CN1CCOCC1)Nc1ccc(S(=O)(=O)N2CCCCCC2)cc1</td>\n      <td>0</td>\n    </tr>\n    <tr>\n      <th>4</th>\n      <td>5</td>\n      <td>C=CCC(Nc1ccccc1)c1ccc(OC)c(OC)c1</td>\n      <td>0</td>\n    </tr>\n  </tbody>\n</table>\n</div>"
     },
     "execution_count": 12,
     "metadata": {},
     "output_type": "execute_result"
    }
   ]
  },
  {
   "cell_type": "code",
   "source": [
    "train_data[['INDEX', 'ACTIVE']].groupby('ACTIVE').count()"
   ],
   "metadata": {
    "colab": {
     "base_uri": "https://localhost:8080/",
     "height": 143
    },
    "id": "FL4MGwDyax_b",
    "outputId": "4a4c8adb-02fa-4978-8687-c544172f7046"
   },
   "execution_count": 13,
   "outputs": [
    {
     "data": {
      "text/plain": "         INDEX\nACTIVE        \n0       154528\n1         1730",
      "text/html": "<div>\n<style scoped>\n    .dataframe tbody tr th:only-of-type {\n        vertical-align: middle;\n    }\n\n    .dataframe tbody tr th {\n        vertical-align: top;\n    }\n\n    .dataframe thead th {\n        text-align: right;\n    }\n</style>\n<table border=\"1\" class=\"dataframe\">\n  <thead>\n    <tr style=\"text-align: right;\">\n      <th></th>\n      <th>INDEX</th>\n    </tr>\n    <tr>\n      <th>ACTIVE</th>\n      <th></th>\n    </tr>\n  </thead>\n  <tbody>\n    <tr>\n      <th>0</th>\n      <td>154528</td>\n    </tr>\n    <tr>\n      <th>1</th>\n      <td>1730</td>\n    </tr>\n  </tbody>\n</table>\n</div>"
     },
     "execution_count": 13,
     "metadata": {},
     "output_type": "execute_result"
    }
   ]
  },
  {
   "cell_type": "markdown",
   "source": [
    "### Feature extracting functions"
   ],
   "metadata": {
    "id": "y6TY2hbri1X2"
   }
  },
  {
   "cell_type": "code",
   "source": [
    "def extract_charge(df):\n",
    "  '''\n",
    "    Extracts molecule charge from the mol column of the dataframe\n",
    "    Returns charge series\n",
    "  '''\n",
    "  return df['MOL'].apply(lambda x: rdmolops.GetFormalCharge(x))\n",
    "\n",
    "\n",
    "def extract_mol(df):\n",
    "  '''\n",
    "    Extracts molecule object from the smiles column of the dataframe\n",
    "    Returns molecule series\n",
    "  '''\n",
    "  return df['SMILES'].apply(lambda x: Chem.MolFromSmiles(x))\n",
    "\n",
    "\n",
    "def extract_num_atoms(df, atom_symbol):\n",
    "  '''\n",
    "    Extracts number of atoms with a given symbol from the molecule\n",
    "    Returns count series\n",
    "  '''\n",
    "\n",
    "  m = Chem.MolFromSmarts(atom_symbol)\n",
    "  return df['MOL'].apply(lambda x: len(x.GetSubstructMatches(m)))\n",
    "\n",
    "\n",
    "def extract_fingerprints(df, size_fp=124):\n",
    "  '''\n",
    "    Extracts fingerprint vectors from smiles columns\n",
    "    Returns a dataframe where each column is a fingerprint bit and a list of fingerprint feature names\n",
    "  '''\n",
    "\n",
    "  fingerprints = df['MOL'].apply(lambda x: AllChem.GetMorganFingerprintAsBitVect(x, 2, nBits=size_fp))\n",
    "  fp_features = [f'fp_{i}' for i in range(size_fp)]\n",
    "\n",
    "  fingerprints_array = [ [ fp[i] for i in range(size_fp) ] for fp in fingerprints]\n",
    "  return pd.DataFrame(data=fingerprints_array, columns=fp_features), fp_features\n",
    "\n",
    "\n",
    "def extract_heavy_atom_count(df):\n",
    "  '''\n",
    "  Extracts number of heavy atoms from the molecule\n",
    "  Returns a series with the heavy atom count\n",
    "  '''\n",
    "  return df['MOL'].apply(lambda x: Lipinski.HeavyAtomCount(x))\n",
    "\n",
    "def extract_NHOH(df):\n",
    "\n",
    "  return df['MOL'].apply(lambda x: Lipinski.NHOHCount(x))\n",
    "\n",
    "\n",
    "def extract_rotatable_bonds(df):\n",
    "  return df['MOL'].apply(lambda x: Lipinski.NumRotatableBonds(x))\n",
    "\n",
    "\n",
    "def extract_num_rings(df):\n",
    "  return df['MOL'].apply(lambda x: Lipinski.RingCount(x))\n",
    "  \n",
    "def extract_num_aromatic_rings(df):\n",
    "  return df['MOL'].apply(lambda x: Lipinski.NumAromaticRings(x))\n",
    "\n",
    "def extract_num_saturated_rings(df):\n",
    "  return df['MOL'].apply(lambda x: Lipinski.NumSaturatedRings(x))\n",
    "\n",
    "\n",
    "def extract_donors_and_acceptors(df):\n",
    "  '''\n",
    "  Extracts number of hydrogen Acceptors and Donors respectivlly \n",
    "  Returns two seriess containing the number bondes of 'Acceptors' and 'Donors'\n",
    "  '''\n",
    "  acceptors = df['MOL'].apply(lambda x: Lipinski.NumHAcceptors(x))\n",
    "  donors = df['MOL'].apply(lambda x: Lipinski.NumHDonors(x))\n",
    "  return acceptors, donors\n",
    "  \n",
    "\n",
    "def calculate_mass(df):\n",
    "  '''\n",
    "  Calculates the mass of a molecule\n",
    "  Returns a series with mass of molecule in dalton\n",
    "  '''\n",
    "  return df['MOL'].apply(lambda x: Formula(re.sub(r\"-\\d+\",\"\", rdMolDescriptors.CalcMolFormula(x))).mass)\n",
    "\n",
    "\n",
    "def extract_Al_OOF(df):\n",
    "  return df['MOL'].apply(lambda x: Fragments.fr_Al_COO(x))\n",
    "\n",
    "def extract_Al_OH(df):\n",
    "  return df['MOL'].apply(lambda x: Fragments.fr_Al_OH(x))\n",
    "\n",
    "def extract_saturated_carbocycles(df):\n",
    "  return df['MOL'].apply(lambda x: Lipinski.NumSaturatedCarbocycles(x))\n",
    "\n",
    "def extract_saturated_heterocycles(df):\n",
    "  return df['MOL'].apply(lambda x: Lipinski.NumSaturatedHeterocycles(x))\n"
   ],
   "metadata": {
    "id": "IAEmVETai0-W"
   },
   "execution_count": 15,
   "outputs": []
  },
  {
   "cell_type": "markdown",
   "source": [
    "## Applying feature extraction\n"
   ],
   "metadata": {
    "id": "0nl3aKF5Y-L9"
   }
  },
  {
   "cell_type": "code",
   "source": [
    "train_data['MOL'] = extract_mol(train_data)\n",
    "train_data['CHARGE'] = extract_charge(train_data)\n",
    "train_data['NUM_C'] = extract_num_atoms(train_data, 'C')\n",
    "train_data['NUM_O'] = extract_num_atoms(train_data, 'O')\n",
    "train_data['NUM_N'] = extract_num_atoms(train_data, 'N')\n",
    "train_data['NUM_HEAVY'] = extract_heavy_atom_count(train_data)\n",
    "train_data['MASS'] = calculate_mass(train_data)\n",
    "train_data['ACCEPTORS'], train_data['DONORS'] = extract_donors_and_acceptors(train_data)\n",
    "train_data['AL_OOF'] = extract_Al_OOF(train_data)\n",
    "train_data['AL_OH'] = extract_Al_OH(train_data)\n",
    "train_data['NUM_NHOH'] = extract_NHOH(train_data)\n",
    "train_data['NUM_RINGS'] = extract_num_rings(train_data)\n",
    "train_data['NUM_AROM_RINGS'] = extract_num_aromatic_rings(train_data)\n",
    "train_data['NUM_SAT_RINGS'] = extract_num_saturated_rings(train_data)\n",
    "train_data['NUM_ROT_BONDS'] = extract_rotatable_bonds(train_data)\n",
    "train_data['NUM_HETCYCLES'] = extract_saturated_heterocycles(train_data)\n",
    "train_data['NUM_CARBCYCLES'] = extract_saturated_carbocycles(train_data)\n",
    "\n",
    "\n",
    "# fingerprints\n",
    "size_fp = 64\n",
    "fingerprints, fp_features = extract_fingerprints(train_data, size_fp)\n",
    "train_data = train_data.join(fingerprints)\n"
   ],
   "metadata": {
    "id": "NJ4bEYjSY9q-"
   },
   "execution_count": 16,
   "outputs": [
    {
     "name": "stderr",
     "output_type": "stream",
     "text": [
      "[19:34:01] WARNING: not removing hydrogen atom without neighbors\n"
     ]
    }
   ]
  },
  {
   "cell_type": "code",
   "source": [
    "custom_features = ['CHARGE','MASS', 'NUM_C', 'NUM_O', 'NUM_N', 'NUM_HEAVY', \n",
    "                   'ACCEPTORS', 'DONORS', 'AL_OOF', 'AL_OH', 'NUM_NHOH', \n",
    "                   'NUM_RINGS', 'NUM_AROM_RINGS', 'NUM_SAT_RINGS', 'NUM_ROT_BONDS',\n",
    "                   'NUM_HETCYCLES', 'NUM_CARBCYCLES']\n"
   ],
   "metadata": {
    "id": "cJB8oFP80z-R"
   },
   "execution_count": 17,
   "outputs": []
  },
  {
   "cell_type": "code",
   "source": [
    "train_data.head()"
   ],
   "metadata": {
    "colab": {
     "base_uri": "https://localhost:8080/",
     "height": 473
    },
    "id": "1jWQwCpt8UZa",
    "outputId": "801a3386-2a54-43b7-db7a-cd81160d566e"
   },
   "execution_count": 18,
   "outputs": [
    {
     "data": {
      "text/plain": "   INDEX                                             SMILES  ACTIVE  \\\n0      1               CC(C)N1CC(=O)C(c2nc3ccccc3[nH]2)=C1N       0   \n1      2  COc1ccc(-c2ccc3c(N)c(C(=O)c4ccc(OC)c(OC)c4)sc3...       0   \n2      3    CCc1ccc(C(=O)COC(=O)CCc2nc(=O)c3ccccc3[nH]2)cc1       0   \n3      4        O=C(CN1CCOCC1)Nc1ccc(S(=O)(=O)N2CCCCCC2)cc1       0   \n4      5                   C=CCC(Nc1ccccc1)c1ccc(OC)c(OC)c1       0   \n\n                                                MOL  CHARGE  NUM_C  NUM_O  \\\n0  <rdkit.Chem.rdchem.Mol object at 0x7f906992f920>       0      7      1   \n1  <rdkit.Chem.rdchem.Mol object at 0x7f906992fae0>       0      4      4   \n2  <rdkit.Chem.rdchem.Mol object at 0x7f906992f8b0>       0      7      4   \n3  <rdkit.Chem.rdchem.Mol object at 0x7f906992f5a0>       0     12      4   \n4  <rdkit.Chem.rdchem.Mol object at 0x7f906992f6f0>       0      6      2   \n\n   NUM_N  NUM_HEAVY        MASS  ...  fp_54  fp_55  fp_56  fp_57  fp_58  \\\n0      2         19  256.303633  ...      0      1      0      0      1   \n1      1         30  420.481666  ...      0      1      1      1      1   \n2      0         27  364.395386  ...      1      1      0      0      1   \n3      3         26  381.490256  ...      1      0      0      1      0   \n4      1         21  283.365594  ...      1      1      0      1      0   \n\n   fp_59  fp_60  fp_61  fp_62  fp_63  \n0      0      0      0      0      1  \n1      0      0      1      1      1  \n2      0      0      1      1      1  \n3      0      0      1      0      1  \n4      0      0      1      0      1  \n\n[5 rows x 85 columns]",
      "text/html": "<div>\n<style scoped>\n    .dataframe tbody tr th:only-of-type {\n        vertical-align: middle;\n    }\n\n    .dataframe tbody tr th {\n        vertical-align: top;\n    }\n\n    .dataframe thead th {\n        text-align: right;\n    }\n</style>\n<table border=\"1\" class=\"dataframe\">\n  <thead>\n    <tr style=\"text-align: right;\">\n      <th></th>\n      <th>INDEX</th>\n      <th>SMILES</th>\n      <th>ACTIVE</th>\n      <th>MOL</th>\n      <th>CHARGE</th>\n      <th>NUM_C</th>\n      <th>NUM_O</th>\n      <th>NUM_N</th>\n      <th>NUM_HEAVY</th>\n      <th>MASS</th>\n      <th>...</th>\n      <th>fp_54</th>\n      <th>fp_55</th>\n      <th>fp_56</th>\n      <th>fp_57</th>\n      <th>fp_58</th>\n      <th>fp_59</th>\n      <th>fp_60</th>\n      <th>fp_61</th>\n      <th>fp_62</th>\n      <th>fp_63</th>\n    </tr>\n  </thead>\n  <tbody>\n    <tr>\n      <th>0</th>\n      <td>1</td>\n      <td>CC(C)N1CC(=O)C(c2nc3ccccc3[nH]2)=C1N</td>\n      <td>0</td>\n      <td>&lt;rdkit.Chem.rdchem.Mol object at 0x7f906992f920&gt;</td>\n      <td>0</td>\n      <td>7</td>\n      <td>1</td>\n      <td>2</td>\n      <td>19</td>\n      <td>256.303633</td>\n      <td>...</td>\n      <td>0</td>\n      <td>1</td>\n      <td>0</td>\n      <td>0</td>\n      <td>1</td>\n      <td>0</td>\n      <td>0</td>\n      <td>0</td>\n      <td>0</td>\n      <td>1</td>\n    </tr>\n    <tr>\n      <th>1</th>\n      <td>2</td>\n      <td>COc1ccc(-c2ccc3c(N)c(C(=O)c4ccc(OC)c(OC)c4)sc3...</td>\n      <td>0</td>\n      <td>&lt;rdkit.Chem.rdchem.Mol object at 0x7f906992fae0&gt;</td>\n      <td>0</td>\n      <td>4</td>\n      <td>4</td>\n      <td>1</td>\n      <td>30</td>\n      <td>420.481666</td>\n      <td>...</td>\n      <td>0</td>\n      <td>1</td>\n      <td>1</td>\n      <td>1</td>\n      <td>1</td>\n      <td>0</td>\n      <td>0</td>\n      <td>1</td>\n      <td>1</td>\n      <td>1</td>\n    </tr>\n    <tr>\n      <th>2</th>\n      <td>3</td>\n      <td>CCc1ccc(C(=O)COC(=O)CCc2nc(=O)c3ccccc3[nH]2)cc1</td>\n      <td>0</td>\n      <td>&lt;rdkit.Chem.rdchem.Mol object at 0x7f906992f8b0&gt;</td>\n      <td>0</td>\n      <td>7</td>\n      <td>4</td>\n      <td>0</td>\n      <td>27</td>\n      <td>364.395386</td>\n      <td>...</td>\n      <td>1</td>\n      <td>1</td>\n      <td>0</td>\n      <td>0</td>\n      <td>1</td>\n      <td>0</td>\n      <td>0</td>\n      <td>1</td>\n      <td>1</td>\n      <td>1</td>\n    </tr>\n    <tr>\n      <th>3</th>\n      <td>4</td>\n      <td>O=C(CN1CCOCC1)Nc1ccc(S(=O)(=O)N2CCCCCC2)cc1</td>\n      <td>0</td>\n      <td>&lt;rdkit.Chem.rdchem.Mol object at 0x7f906992f5a0&gt;</td>\n      <td>0</td>\n      <td>12</td>\n      <td>4</td>\n      <td>3</td>\n      <td>26</td>\n      <td>381.490256</td>\n      <td>...</td>\n      <td>1</td>\n      <td>0</td>\n      <td>0</td>\n      <td>1</td>\n      <td>0</td>\n      <td>0</td>\n      <td>0</td>\n      <td>1</td>\n      <td>0</td>\n      <td>1</td>\n    </tr>\n    <tr>\n      <th>4</th>\n      <td>5</td>\n      <td>C=CCC(Nc1ccccc1)c1ccc(OC)c(OC)c1</td>\n      <td>0</td>\n      <td>&lt;rdkit.Chem.rdchem.Mol object at 0x7f906992f6f0&gt;</td>\n      <td>0</td>\n      <td>6</td>\n      <td>2</td>\n      <td>1</td>\n      <td>21</td>\n      <td>283.365594</td>\n      <td>...</td>\n      <td>1</td>\n      <td>1</td>\n      <td>0</td>\n      <td>1</td>\n      <td>0</td>\n      <td>0</td>\n      <td>0</td>\n      <td>1</td>\n      <td>0</td>\n      <td>1</td>\n    </tr>\n  </tbody>\n</table>\n<p>5 rows × 85 columns</p>\n</div>"
     },
     "execution_count": 18,
     "metadata": {},
     "output_type": "execute_result"
    }
   ]
  },
  {
   "cell_type": "code",
   "source": [
    "from sklearn.preprocessing import StandardScaler\n",
    "from sklearn.pipeline import make_pipeline\n",
    "\n",
    "from sklearn.metrics import accuracy_score, f1_score, roc_auc_score\n",
    "from sklearn.model_selection import train_test_split\n",
    "from sklearn.model_selection import cross_val_score\n",
    "from sklearn.model_selection import StratifiedKFold, KFold\n",
    "\n",
    "# from imblearn.over_sampling import SMOTE\n",
    "from sklearn.naive_bayes import GaussianNB\n",
    "from sklearn.linear_model import LogisticRegression\n",
    "from sklearn.ensemble import RandomForestClassifier\n",
    "from xgboost import XGBClassifier\n",
    "\n",
    "import numpy as np\n",
    "import matplotlib.pyplot as plt"
   ],
   "metadata": {
    "id": "42SNxeOabgwo"
   },
   "execution_count": 23,
   "outputs": [
    {
     "name": "stderr",
     "output_type": "stream",
     "text": [
      "/opt/anaconda3/envs/ID2214/lib/python3.10/site-packages/xgboost/compat.py:36: FutureWarning: pandas.Int64Index is deprecated and will be removed from pandas in a future version. Use pandas.Index with the appropriate dtype instead.\n",
      "  from pandas import MultiIndex, Int64Index\n"
     ]
    }
   ]
  },
  {
   "cell_type": "markdown",
   "source": [
    "## Fingerprint length optimization"
   ],
   "metadata": {
    "id": "Vz1DISEwyqG3"
   }
  },
  {
   "cell_type": "code",
   "source": [
    "fp_sizes = [10, 20, 30, 40, 50, 60, 70, 80, 90, 100]\n",
    "\n",
    "n_estimators = [20, 40, 60, 70, 80, 100]\n",
    "\n",
    "fp_results = []\n",
    "\n",
    "n_runs = 30\n",
    "\n",
    "for fp_s in fp_sizes:\n",
    "\n",
    "  fingerprints_optim, fingerprint_features = extract_fingerprints(train_data, fp_s)\n",
    "\n",
    "  acc_nb = 0\n",
    "  f1_nb = 0\n",
    "  auc_nb = 0\n",
    "\n",
    "  acc_lr = 0\n",
    "  f1_lr = 0\n",
    "  auc_lr = 0\n",
    "\n",
    "  for i in range(n_runs): # run 50 times and average the results\n",
    "    # create a train test split for current iteration\n",
    "    X_train, X_validation, y_train, y_validation = train_test_split(fingerprints_optim, train_data['ACTIVE'], test_size=0.3, random_state=i)\n",
    "\n",
    "    # fit and predict\n",
    "    nb = make_pipeline(StandardScaler(),GaussianNB())\n",
    "    nb.fit(X_train, y_train)\n",
    "    y_valid_nb = nb.predict(X_validation)\n",
    "\n",
    "    lr = make_pipeline(StandardScaler(),LogisticRegression())\n",
    "    lr.fit(X_train, y_train)\n",
    "    y_valid_lr = lr.predict(X_validation)\n",
    "\n",
    "    # store scores\n",
    "    acc_nb += accuracy_score(y_validation, y_valid_nb)\n",
    "    f1_nb += f1_score(y_validation, y_valid_nb)\n",
    "    auc_nb += roc_auc_score(y_validation, y_valid_nb)\n",
    "\n",
    "    acc_lr += accuracy_score(y_validation, y_valid_lr)\n",
    "    f1_lr += f1_score(y_validation, y_valid_lr)\n",
    "    auc_lr += roc_auc_score(y_validation, y_valid_lr)\n",
    "\n",
    "  acc_nb /= n_runs\n",
    "  f1_nb /= n_runs\n",
    "  auc_nb /= n_runs\n",
    "\n",
    "  acc_lr /= n_runs\n",
    "  f1_lr /= n_runs\n",
    "  auc_lr /= n_runs\n",
    "\n",
    "\n",
    "\n",
    "\n",
    "  # store results for current fp size in the dataframe\n",
    "  fp_results.append([fp_s, 'nb', acc_nb, f1_nb, auc_nb])\n",
    "  fp_results.append([fp_s, 'lr', acc_lr, f1_lr, auc_lr])\n",
    "\n",
    "\n",
    "  for n in n_estimators:\n",
    "\n",
    "    acc_rfc = 0\n",
    "    f1_rfc = 0\n",
    "    auc_rfc = 0\n",
    "\n",
    "    for i in range(n_runs): # run 50 times and average the results\n",
    "      # create a train test split for current iteration\n",
    "      X_train, X_validation, y_train, y_validation = train_test_split(fingerprints_optim, train_data['ACTIVE'], test_size=0.3, random_state=i)\n",
    "\n",
    "      rfc = make_pipeline(StandardScaler(), RandomForestClassifier(n_estimators=n))\n",
    "      rfc.fit(X_train, y_train)\n",
    "      y_valid_rfc = rfc.predict(X_validation)\n",
    "\n",
    "      acc_rfc += accuracy_score(y_validation, y_valid_rfc)\n",
    "      f1_rfc += f1_score(y_validation, y_valid_rfc)\n",
    "      auc_rfc += roc_auc_score(y_validation, y_valid_rfc)\n",
    "\n",
    "    acc_rfc /= n_runs\n",
    "    f1_rfc /= n_runs\n",
    "    auc_rfc /= n_runs\n",
    "\n",
    "    fp_results.append([fp_s, f'rfc_{n}', acc_rfc, f1_rfc, auc_rfc])\n",
    "\n",
    "\n",
    "\n",
    "rez = pd.DataFrame(data=fp_results, columns=['fp_size', 'classifier', 'acc', 'f1', 'auc'])\n"
   ],
   "metadata": {
    "id": "Wli0TLCjyp2M",
    "colab": {
     "base_uri": "https://localhost:8080/",
     "height": 382
    },
    "outputId": "407eee3d-7360-452e-8100-c996dbda2b71"
   },
   "execution_count": 24,
   "outputs": []
  },
  {
   "cell_type": "code",
   "source": [
    "rez.to_csv('fingerprint_size_opt.csv')\n",
    "\n",
    "rez.sort_values('auc', ascending=False).head(20)\n"
   ],
   "metadata": {
    "colab": {
     "base_uri": "https://localhost:8080/",
     "height": 677
    },
    "id": "OQGpjIMJ5JHk",
    "outputId": "090b60f7-f825-45bd-8207-8c364efd0045"
   },
   "execution_count": 27,
   "outputs": [
    {
     "data": {
      "text/plain": "    fp_size classifier       acc        f1       auc\n72      100         nb  0.968594  0.054286  0.530217\n48       70         nb  0.968108  0.042369  0.521019\n56       80         nb  0.969739  0.037367  0.515915\n64       90         nb  0.977107  0.040016  0.515390\n20       30     rfc_60  0.987614  0.033513  0.508923\n23       30    rfc_100  0.987685  0.033494  0.508893\n22       30     rfc_80  0.987620  0.033212  0.508829\n19       30     rfc_40  0.987614  0.033199  0.508825\n21       30     rfc_70  0.987593  0.032853  0.508727\n0        10         nb  0.055258  0.022316  0.508038\n76      100     rfc_60  0.988893  0.031216  0.507974\n79      100    rfc_100  0.988888  0.030967  0.507910\n75      100     rfc_40  0.988905  0.030526  0.507794\n18       30     rfc_20  0.987536  0.029226  0.507674\n78      100     rfc_80  0.988886  0.029871  0.507624\n53       70     rfc_70  0.988891  0.029821  0.507611\n77      100     rfc_70  0.988878  0.029530  0.507530\n30       40     rfc_80  0.988755  0.029439  0.507529\n31       40    rfc_100  0.988751  0.029080  0.507432\n27       40     rfc_40  0.988755  0.028963  0.507401",
      "text/html": "<div>\n<style scoped>\n    .dataframe tbody tr th:only-of-type {\n        vertical-align: middle;\n    }\n\n    .dataframe tbody tr th {\n        vertical-align: top;\n    }\n\n    .dataframe thead th {\n        text-align: right;\n    }\n</style>\n<table border=\"1\" class=\"dataframe\">\n  <thead>\n    <tr style=\"text-align: right;\">\n      <th></th>\n      <th>fp_size</th>\n      <th>classifier</th>\n      <th>acc</th>\n      <th>f1</th>\n      <th>auc</th>\n    </tr>\n  </thead>\n  <tbody>\n    <tr>\n      <th>72</th>\n      <td>100</td>\n      <td>nb</td>\n      <td>0.968594</td>\n      <td>0.054286</td>\n      <td>0.530217</td>\n    </tr>\n    <tr>\n      <th>48</th>\n      <td>70</td>\n      <td>nb</td>\n      <td>0.968108</td>\n      <td>0.042369</td>\n      <td>0.521019</td>\n    </tr>\n    <tr>\n      <th>56</th>\n      <td>80</td>\n      <td>nb</td>\n      <td>0.969739</td>\n      <td>0.037367</td>\n      <td>0.515915</td>\n    </tr>\n    <tr>\n      <th>64</th>\n      <td>90</td>\n      <td>nb</td>\n      <td>0.977107</td>\n      <td>0.040016</td>\n      <td>0.515390</td>\n    </tr>\n    <tr>\n      <th>20</th>\n      <td>30</td>\n      <td>rfc_60</td>\n      <td>0.987614</td>\n      <td>0.033513</td>\n      <td>0.508923</td>\n    </tr>\n    <tr>\n      <th>23</th>\n      <td>30</td>\n      <td>rfc_100</td>\n      <td>0.987685</td>\n      <td>0.033494</td>\n      <td>0.508893</td>\n    </tr>\n    <tr>\n      <th>22</th>\n      <td>30</td>\n      <td>rfc_80</td>\n      <td>0.987620</td>\n      <td>0.033212</td>\n      <td>0.508829</td>\n    </tr>\n    <tr>\n      <th>19</th>\n      <td>30</td>\n      <td>rfc_40</td>\n      <td>0.987614</td>\n      <td>0.033199</td>\n      <td>0.508825</td>\n    </tr>\n    <tr>\n      <th>21</th>\n      <td>30</td>\n      <td>rfc_70</td>\n      <td>0.987593</td>\n      <td>0.032853</td>\n      <td>0.508727</td>\n    </tr>\n    <tr>\n      <th>0</th>\n      <td>10</td>\n      <td>nb</td>\n      <td>0.055258</td>\n      <td>0.022316</td>\n      <td>0.508038</td>\n    </tr>\n    <tr>\n      <th>76</th>\n      <td>100</td>\n      <td>rfc_60</td>\n      <td>0.988893</td>\n      <td>0.031216</td>\n      <td>0.507974</td>\n    </tr>\n    <tr>\n      <th>79</th>\n      <td>100</td>\n      <td>rfc_100</td>\n      <td>0.988888</td>\n      <td>0.030967</td>\n      <td>0.507910</td>\n    </tr>\n    <tr>\n      <th>75</th>\n      <td>100</td>\n      <td>rfc_40</td>\n      <td>0.988905</td>\n      <td>0.030526</td>\n      <td>0.507794</td>\n    </tr>\n    <tr>\n      <th>18</th>\n      <td>30</td>\n      <td>rfc_20</td>\n      <td>0.987536</td>\n      <td>0.029226</td>\n      <td>0.507674</td>\n    </tr>\n    <tr>\n      <th>78</th>\n      <td>100</td>\n      <td>rfc_80</td>\n      <td>0.988886</td>\n      <td>0.029871</td>\n      <td>0.507624</td>\n    </tr>\n    <tr>\n      <th>53</th>\n      <td>70</td>\n      <td>rfc_70</td>\n      <td>0.988891</td>\n      <td>0.029821</td>\n      <td>0.507611</td>\n    </tr>\n    <tr>\n      <th>77</th>\n      <td>100</td>\n      <td>rfc_70</td>\n      <td>0.988878</td>\n      <td>0.029530</td>\n      <td>0.507530</td>\n    </tr>\n    <tr>\n      <th>30</th>\n      <td>40</td>\n      <td>rfc_80</td>\n      <td>0.988755</td>\n      <td>0.029439</td>\n      <td>0.507529</td>\n    </tr>\n    <tr>\n      <th>31</th>\n      <td>40</td>\n      <td>rfc_100</td>\n      <td>0.988751</td>\n      <td>0.029080</td>\n      <td>0.507432</td>\n    </tr>\n    <tr>\n      <th>27</th>\n      <td>40</td>\n      <td>rfc_40</td>\n      <td>0.988755</td>\n      <td>0.028963</td>\n      <td>0.507401</td>\n    </tr>\n  </tbody>\n</table>\n</div>"
     },
     "execution_count": 27,
     "metadata": {},
     "output_type": "execute_result"
    }
   ]
  },
  {
   "cell_type": "code",
   "source": [
    "# Train and validation split\n",
    "\n",
    "seed = 10\n",
    "X_train, X_validation, y_train, y_validation = train_test_split(train_data.drop(['INDEX', 'SMILES', 'MOL', 'ACTIVE'], axis=1), train_data['ACTIVE'], test_size=0.3, random_state=seed)"
   ],
   "metadata": {
    "id": "RKfqPQILXteG"
   },
   "execution_count": null,
   "outputs": []
  },
  {
   "cell_type": "markdown",
   "source": [
    "## Custom feature selection\n",
    "\n",
    "In order to determine the quality of custom extracted features we perform feature selection\n",
    "\n",
    "For this we use Random Forest Classifier"
   ],
   "metadata": {
    "id": "dKUy2r0GmTXb"
   }
  },
  {
   "cell_type": "code",
   "source": [
    "rfc = RandomForestClassifier()\n",
    "\n",
    "rfc.fit(X_train[custom_features], y_train)\n",
    "\n",
    "importances = rfc.feature_importances_\n",
    "std = np.std([tree.feature_importances_ for tree in rfc.estimators_], axis=0)\n"
   ],
   "metadata": {
    "id": "dZI0FS0ioMv7"
   },
   "execution_count": null,
   "outputs": []
  },
  {
   "cell_type": "code",
   "source": [
    "\n",
    "forest_importances = pd.Series(importances, index=custom_features)\n",
    "\n",
    "print(forest_importances.loc[lambda x : x > 0.01])\n",
    "\n",
    "fig, ax = plt.subplots()\n",
    "forest_importances.plot.bar(yerr=std, ax=ax)\n",
    "ax.set_title(\"Feature importances using MDI\")\n",
    "ax.set_ylabel(\"Mean decrease in impurity\")\n",
    "fig.tight_layout()"
   ],
   "metadata": {
    "colab": {
     "base_uri": "https://localhost:8080/",
     "height": 558
    },
    "id": "hfaCL3qoq4SU",
    "outputId": "b08e1021-52ce-42a4-e0ad-4eb3313c9a94"
   },
   "execution_count": null,
   "outputs": [
    {
     "output_type": "stream",
     "name": "stdout",
     "text": [
      "MASS              0.297879\n",
      "NUM_C             0.114970\n",
      "NUM_O             0.067504\n",
      "NUM_N             0.056298\n",
      "NUM_HEAVY         0.098093\n",
      "ACCEPTORS         0.089220\n",
      "DONORS            0.029071\n",
      "NUM_NHOH          0.035079\n",
      "NUM_RINGS         0.030921\n",
      "NUM_AROM_RINGS    0.028340\n",
      "NUM_SAT_RINGS     0.017083\n",
      "NUM_ROT_BONDS     0.095999\n",
      "NUM_HETCYCLES     0.013526\n",
      "NUM_CARBCYCLES    0.010879\n",
      "dtype: float64\n"
     ]
    },
    {
     "output_type": "display_data",
     "data": {
      "text/plain": [
       "<Figure size 432x288 with 1 Axes>"
      ],
      "image/png": "[encoded data removed]"
     },
     "metadata": {
      "needs_background": "light"
     }
    }
   ]
  },
  {
   "cell_type": "markdown",
   "source": [
    "## Baselines\n",
    "\n",
    "- Logistic regression\n",
    "- Naive Bayes\n",
    "- Random Forest\n"
   ],
   "metadata": {
    "id": "qUORc0Aqn1h1"
   }
  },
  {
   "cell_type": "code",
   "source": [
    "def train_validate_model(classifier, classifier_name, X, y, print_rez=True):\n",
    "\n",
    "  pipe = make_pipeline(StandardScaler(), classifier)\n",
    "\n",
    "  # perform cross validation\n",
    "  y_train = []\n",
    "  y_pred = []\n",
    "\n",
    "  cv = StratifiedKFold(n_splits=6)\n",
    "  for fold, (train, valid) in enumerate(cv.split(X, y)):\n",
    "\n",
    "    pipe.fit(X.loc[train], y.loc[train])\n",
    "\n",
    "    y_train.extend(y.loc[valid].tolist())\n",
    "    y_pred.extend(pipe.predict(X.loc[valid]))\n",
    "\n",
    "  acc= accuracy_score(y_train, y_pred)\n",
    "  f1= f1_score(y_train, y_pred)\n",
    "\n",
    "  auc = roc_auc_score(y, y_pred)\n",
    "\n",
    "  if print_rez:\n",
    "    print(f'{classifier_name} :')\n",
    "    print(f'Accuracy: {acc}  F1: {f1}')\n",
    "    print(f'AUC = {auc}')\n",
    "\n",
    "  return y_train, y_pred, auc\n"
   ],
   "metadata": {
    "id": "VdoPzyzFUe1D"
   },
   "execution_count": null,
   "outputs": []
  },
  {
   "cell_type": "markdown",
   "source": [
    "### Fingerprint dataset\n"
   ],
   "metadata": {
    "id": "6P0AzU2jh4q3"
   }
  },
  {
   "cell_type": "code",
   "source": [
    "seed = 10\n",
    "X = train_data[fp_features]\n",
    "y = train_data['ACTIVE']\n",
    "\n",
    "smote = SMOTE(sampling_strategy=0.2, random_state=seed)\n",
    "X_smote, y_smote = smote.fit_resample(X, y)\n"
   ],
   "metadata": {
    "id": "BjBEE_dNiP9A"
   },
   "execution_count": null,
   "outputs": []
  },
  {
   "cell_type": "code",
   "source": [
    "# Logistic Regression\n",
    "\n",
    "lr = LogisticRegression()\n",
    "\n",
    "print('Original dataset')\n",
    "y_true, y_pred, auc = train_validate_model(lr, 'Logistic Regression', X, y)\n",
    "\n",
    "print('SMOTE dataset')\n",
    "y_true, y_pred, auc = train_validate_model(lr, 'Logistic Regression', X_smote, y_smote)\n"
   ],
   "metadata": {
    "colab": {
     "base_uri": "https://localhost:8080/"
    },
    "id": "4exNJDzjmPdy",
    "outputId": "30cfc4f8-070e-4152-aea6-723613ce45d5"
   },
   "execution_count": null,
   "outputs": [
    {
     "output_type": "stream",
     "name": "stdout",
     "text": [
      "Original dataset\n",
      "Logistic Regression :\n",
      "Accuracy: 0.988928566857377  F1: 0.0\n",
      "AUC = 0.5\n",
      "SMOTE dataset\n",
      "Logistic Regression :\n",
      "Accuracy: 0.8498379468595126  F1: 0.3375758296657547\n",
      "AUC = 0.5011460246530686\n"
     ]
    }
   ]
  },
  {
   "cell_type": "code",
   "source": [
    "# Naive Bayes\n",
    "\n",
    "nb = GaussianNB()\n",
    "\n",
    "print('Original dataset')\n",
    "y_true, y_pred, auc = train_validate_model(nb, 'Naive Bayes Classifier', X, y)\n",
    "\n",
    "print('SMOTE dataset')\n",
    "y_true, y_pred, auc = train_validate_model(nb, 'Naive Bayes Classifier', X_smote, y_smote)\n"
   ],
   "metadata": {
    "colab": {
     "base_uri": "https://localhost:8080/"
    },
    "id": "Z_lqLk8m9Myd",
    "outputId": "1a21753a-a47c-4620-baaf-8cfaa9b60aef"
   },
   "execution_count": null,
   "outputs": [
    {
     "output_type": "stream",
     "name": "stdout",
     "text": [
      "Original dataset\n",
      "Naive Bayes Classifier :\n",
      "Accuracy: 0.8099425309424158  F1: 0.02546433024873663\n",
      "AUC = 0.5215573779322183\n",
      "SMOTE dataset\n",
      "Naive Bayes Classifier :\n",
      "Accuracy: 0.7365625320196513  F1: 0.44122895314787697\n",
      "AUC = 0.49973439459560665\n"
     ]
    }
   ]
  },
  {
   "cell_type": "code",
   "source": [
    "# Random Forest Classifier\n",
    "\n",
    "rfc = RandomForestClassifier(n_estimators=50)\n",
    "\n",
    "print('Original dataset')\n",
    "y_true, y_pred, auc = train_validate_model(rfc, 'Random Forest Classifier',X, y)\n",
    "\n",
    "print('SMOTE dataset')\n",
    "y_true, y_pred, auc = train_validate_model(rfc, 'Random Forest Classifier', X_smote, y_smote)"
   ],
   "metadata": {
    "colab": {
     "base_uri": "https://localhost:8080/"
    },
    "id": "pj2rYp_d_uBl",
    "outputId": "68983d85-028d-4e29-c79d-2ab263399f80"
   },
   "execution_count": null,
   "outputs": [
    {
     "output_type": "stream",
     "name": "stdout",
     "text": [
      "Original dataset\n",
      "Random Forest Classifier :\n",
      "Accuracy: 0.9889029681680298  F1: 0.02802690582959641\n",
      "AUC = 0.5065470933976685\n",
      "SMOTE dataset\n",
      "Random Forest Classifier :\n",
      "Accuracy: 0.9901365992029466  F1: 0.9696366020884173\n",
      "AUC = 0.5105887848398399\n"
     ]
    }
   ]
  },
  {
   "cell_type": "markdown",
   "source": [
    "### Custom features dataset"
   ],
   "metadata": {
    "id": "Jcz10-Q9iA2j"
   }
  },
  {
   "cell_type": "code",
   "source": [
    "seed = 10\n",
    "X, y = train_data[custom_features], train_data['ACTIVE']\n",
    "\n",
    "smote = SMOTE(sampling_strategy=0.2, random_state=seed)\n",
    "X_smote, y_smote = smote.fit_resample(X, y)"
   ],
   "metadata": {
    "id": "BREFVibajdjx"
   },
   "execution_count": null,
   "outputs": []
  },
  {
   "cell_type": "code",
   "source": [
    "# Logistic Regression\n",
    "\n",
    "lr = LogisticRegression()\n",
    "\n",
    "print('Original dataset')\n",
    "y_true, y_pred, auc  = train_validate_model(lr, 'Logistic Regression',\n",
    "                                                           X, y)\n",
    "\n",
    "print('SMOTE dataset')\n",
    "y_true, y_pred, auc  = train_validate_model(lr, 'Logistic Regression',\n",
    "                                                           X_smote, y_smote)\n"
   ],
   "metadata": {
    "colab": {
     "base_uri": "https://localhost:8080/"
    },
    "id": "FjkOGuUTjk7Y",
    "outputId": "09d1341a-a76a-4d23-dc59-f6da41e71c2b"
   },
   "execution_count": null,
   "outputs": [
    {
     "output_type": "stream",
     "name": "stdout",
     "text": [
      "Original dataset\n",
      "Logistic Regression :\n",
      "Accuracy: 0.9889093678403665  F1: 0.002302820955670697\n",
      "AUC = 0.5005618563842967\n",
      "SMOTE dataset\n",
      "Logistic Regression :\n",
      "Accuracy: 0.799561027433089  F1: 0.017395442288373076\n",
      "AUC = 0.4839932955081922\n"
     ]
    }
   ]
  },
  {
   "cell_type": "code",
   "source": [
    "# Naive Bayes\n",
    "\n",
    "nb = GaussianNB()\n",
    "\n",
    "print('Original dataset')\n",
    "y_true, y_pred, auc  = train_validate_model(nb, 'Naive Bayes Classifier',\n",
    "                                                           X, y)\n",
    "\n",
    "print('SMOTE dataset')\n",
    "y_true, y_pred, auc  = train_validate_model(nb, 'Naive Bayes Classifier',\n",
    "                                                           X_smote, y_smote)\n"
   ],
   "metadata": {
    "colab": {
     "base_uri": "https://localhost:8080/"
    },
    "id": "RtZzp67OjkwU",
    "outputId": "74bf94eb-53e3-4cc1-9d2f-7a310fba7b54"
   },
   "execution_count": null,
   "outputs": [
    {
     "output_type": "stream",
     "name": "stdout",
     "text": [
      "Original dataset\n",
      "Naive Bayes Classifier :\n",
      "Accuracy: 0.9622867309193769  F1: 0.05363738557893047\n",
      "AUC = 0.5342554900726224\n",
      "SMOTE dataset\n",
      "Naive Bayes Classifier :\n",
      "Accuracy: 0.4121272912588374  F1: 0.04299923623243115\n",
      "AUC = 0.27897286488054873\n"
     ]
    }
   ]
  },
  {
   "cell_type": "code",
   "source": [
    "# Random Forest Classifier\n",
    "\n",
    "rfc = RandomForestClassifier(n_estimators=50)\n",
    "\n",
    "print('Original dataset')\n",
    "y_true, y_pred, auc  = train_validate_model(rfc, 'Random Forest Classifier',\n",
    "                                                           X, y)\n",
    "\n",
    "print('SMOTE dataset')\n",
    "y_true, y_pred, auc  = train_validate_model(rfc, 'Random Forest Classifier',\n",
    "                                                           X_smote, y_smote)"
   ],
   "metadata": {
    "colab": {
     "base_uri": "https://localhost:8080/"
    },
    "id": "D7uzX2dzjkat",
    "outputId": "48f2a052-4bee-4f66-ea08-e4758dcbb621"
   },
   "execution_count": null,
   "outputs": [
    {
     "output_type": "stream",
     "name": "stdout",
     "text": [
      "Original dataset\n",
      "Random Forest Classifier :\n",
      "Accuracy: 0.9883717953640774  F1: 0.0629190304280557\n",
      "AUC = 0.5171511801890553\n",
      "SMOTE dataset\n",
      "Random Forest Classifier :\n",
      "Accuracy: 0.8380978574471643  F1: 0.1433544484391942\n",
      "AUC = 0.5353697836121549\n"
     ]
    }
   ]
  },
  {
   "cell_type": "markdown",
   "source": [
    "### Combined features dataset"
   ],
   "metadata": {
    "id": "irv1T4mGiDlF"
   }
  },
  {
   "cell_type": "code",
   "source": [
    "seed = 10\n",
    "X, y = train_data.drop(['INDEX', 'SMILES', 'MOL', 'ACTIVE'] , axis=1), train_data['ACTIVE']\n",
    "\n",
    "smote = SMOTE(sampling_strategy=0.2, random_state=seed)\n",
    "X_smote, y_smote = smote.fit_resample(X, y)"
   ],
   "metadata": {
    "id": "SBOUmLUbkRTJ"
   },
   "execution_count": null,
   "outputs": []
  },
  {
   "cell_type": "code",
   "source": [
    "# Logistic Regression\n",
    "\n",
    "lr = LogisticRegression()\n",
    "\n",
    "print('Original dataset')\n",
    "y_true, y_pred, auc  = train_validate_model(lr, 'Logistic Regression', X, y)\n",
    "\n",
    "print('SMOTE dataset')\n",
    "y_true, y_pred, auc  = train_validate_model(lr, 'Logistic Regression', X_smote, y_smote)\n"
   ],
   "metadata": {
    "colab": {
     "base_uri": "https://localhost:8080/"
    },
    "id": "Wrrjk0y3lCi7",
    "outputId": "696fe797-05df-41e7-fc8a-4faf98706eef"
   },
   "execution_count": null,
   "outputs": [
    {
     "output_type": "stream",
     "name": "stdout",
     "text": [
      "Original dataset\n",
      "Logistic Regression :\n",
      "Train set:      Accuracy: 0.9887639422197843  F1: 0.0016246953696181967\n",
      "Validation set: Accuracy: 0.988928708562652  F1: 0.0038387715930902106\n",
      "AUC = 0.5009169514776702\n",
      "SMOTE dataset\n",
      "Logistic Regression :\n",
      "Train set:      Accuracy: 0.9805929213084947  F1: 0.9404843473124631\n",
      "Validation set: Accuracy: 0.9820384828704296  F1: 0.03218390804597702\n",
      "AUC = 0.5099147315538063\n"
     ]
    }
   ]
  },
  {
   "cell_type": "code",
   "source": [
    "# Naive Bayes\n",
    "\n",
    "nb = GaussianNB()\n",
    "\n",
    "print('Original dataset')\n",
    "y_true, y_pred, auc  = train_validate_model(nb, 'Naive Bayes Classifier', X, y)\n",
    "\n",
    "print('SMOTE dataset')\n",
    "y_true, y_pred, auc  = train_validate_model(nb, 'Naive Bayes Classifier', X_smote, y_smote)\n"
   ],
   "metadata": {
    "colab": {
     "base_uri": "https://localhost:8080/"
    },
    "id": "LiecSloMlCc2",
    "outputId": "01aa9b92-cfdb-4836-d326-6e9cb88ba14e"
   },
   "execution_count": null,
   "outputs": [
    {
     "output_type": "stream",
     "name": "stdout",
     "text": [
      "Original dataset\n",
      "Naive Bayes Classifier :\n",
      "Train set:      Accuracy: 0.9498080087767417  F1: 0.0773109243697479\n",
      "Validation set: Accuracy: 0.9499552028670165  F1: 0.07125890736342043\n",
      "AUC = 0.5666616897597243\n",
      "SMOTE dataset\n",
      "Naive Bayes Classifier :\n",
      "Train set:      Accuracy: 0.9286352640256399  F1: 0.8030782967324984\n",
      "Validation set: Accuracy: 0.9286232347796408  F1: 0.011229314420803781\n",
      "AUC = 0.4877108859613321\n"
     ]
    }
   ]
  },
  {
   "cell_type": "code",
   "source": [
    "# Random Forest Classifier\n",
    "\n",
    "rfc = RandomForestClassifier(n_estimators=50)\n",
    "\n",
    "print('Original dataset')\n",
    "y_true, y_pred, auc = train_validate_model(rfc, 'Random Forest Classifier', X, y)\n",
    "\n",
    "print('SMOTE dataset')\n",
    "y_true, y_pred, auc = train_validate_model(rfc, 'Random Forest Classifier', X_smote, y_smote)"
   ],
   "metadata": {
    "colab": {
     "base_uri": "https://localhost:8080/"
    },
    "id": "peJwdul8lCS_",
    "outputId": "34438a25-1356-4a97-f7bf-4c5bc23c3011"
   },
   "execution_count": null,
   "outputs": [
    {
     "output_type": "stream",
     "name": "stdout",
     "text": [
      "Original dataset\n",
      "Random Forest Classifier :\n",
      "Train set:      Accuracy: 0.9991588955933443  F1: 0.9606837606837607\n",
      "Validation set: Accuracy: 0.9890353684030889  F1: 0.019083969465648852\n",
      "AUC = 0.5048112310850488\n",
      "SMOTE dataset\n",
      "Random Forest Classifier :\n",
      "Train set:      Accuracy: 0.9997457587944344  F1: 0.9992367295015613\n",
      "Validation set: Accuracy: 0.9889500405307393  F1: 0.04428044280442805\n",
      "AUC = 0.5114887185106805\n"
     ]
    }
   ]
  },
  {
   "cell_type": "markdown",
   "source": [
    "Note: SMOTE doesn't work well for fingerprint vector features, but improves performance on extracted features"
   ],
   "metadata": {
    "id": "DTEp5YazvVpd"
   }
  },
  {
   "cell_type": "markdown",
   "source": [
    "# Model development - XGBoost"
   ],
   "metadata": {
    "id": "Y6iBV-7pQWe7"
   }
  },
  {
   "cell_type": "markdown",
   "source": [
    "### Fingerprint dataset"
   ],
   "metadata": {
    "id": "2jL3JL9ij30B"
   }
  },
  {
   "cell_type": "code",
   "source": [
    "seed = 10\n",
    "X, y = train_data[fp_features], train_data['ACTIVE']\n",
    "\n",
    "smote = SMOTE(sampling_strategy=0.2, random_state=seed)\n",
    "X_train_smote, y_train_smote = smote.fit_resample(X, y)"
   ],
   "metadata": {
    "id": "-ccNDMxEkC2g"
   },
   "execution_count": null,
   "outputs": []
  },
  {
   "cell_type": "code",
   "source": [
    "# XGBoost\n",
    "\n",
    "n_estimators =[ 80, 90, 100]\n",
    "\n",
    "for n in n_estimators:\n",
    "  xgb = XGBClassifier(n_estimators=n, scale_pos_weight= (len(y_train) - sum(y_train)) / sum(y_train))\n",
    "\n",
    "  print(f'\\nN estimators {n}')\n",
    "\n",
    "  print('Original dataset')\n",
    "  y_true, y_pred, auc  = train_validate_model(xgb, 'XGB Classifier', X, y)\n",
    "\n",
    "\n",
    "  print('SMOTE dataset')\n",
    "  y_true, y_pred, auc  = train_validate_model(xgb, 'XGB Classifier', X_smote, y_smote)\n"
   ],
   "metadata": {
    "colab": {
     "base_uri": "https://localhost:8080/",
     "height": 434
    },
    "id": "dSCiy1JyDKsz",
    "outputId": "335787bf-9af9-4541-e376-73d9a3a40ee5"
   },
   "execution_count": null,
   "outputs": [
    {
     "output_type": "stream",
     "name": "stdout",
     "text": [
      "\n",
      "N estimators 80\n",
      "Original dataset\n"
     ]
    },
    {
     "output_type": "error",
     "ename": "ValueError",
     "evalue": "ignored",
     "traceback": [
      "\u001B[0;31m---------------------------------------------------------------------------\u001B[0m",
      "\u001B[0;31mValueError\u001B[0m                                Traceback (most recent call last)",
      "\u001B[0;32m<ipython-input-98-c566717fc73a>\u001B[0m in \u001B[0;36m<module>\u001B[0;34m\u001B[0m\n\u001B[1;32m      9\u001B[0m \u001B[0;34m\u001B[0m\u001B[0m\n\u001B[1;32m     10\u001B[0m   \u001B[0mprint\u001B[0m\u001B[0;34m(\u001B[0m\u001B[0;34m'Original dataset'\u001B[0m\u001B[0;34m)\u001B[0m\u001B[0;34m\u001B[0m\u001B[0;34m\u001B[0m\u001B[0m\n\u001B[0;32m---> 11\u001B[0;31m   \u001B[0my_true\u001B[0m\u001B[0;34m,\u001B[0m \u001B[0my_pred\u001B[0m\u001B[0;34m,\u001B[0m \u001B[0mauc\u001B[0m  \u001B[0;34m=\u001B[0m \u001B[0mtrain_validate_model\u001B[0m\u001B[0;34m(\u001B[0m\u001B[0mxgb\u001B[0m\u001B[0;34m,\u001B[0m \u001B[0;34m'XGB Classifier'\u001B[0m\u001B[0;34m,\u001B[0m \u001B[0mX\u001B[0m\u001B[0;34m,\u001B[0m \u001B[0my_true\u001B[0m\u001B[0;34m)\u001B[0m\u001B[0;34m\u001B[0m\u001B[0;34m\u001B[0m\u001B[0m\n\u001B[0m\u001B[1;32m     12\u001B[0m \u001B[0;34m\u001B[0m\u001B[0m\n\u001B[1;32m     13\u001B[0m \u001B[0;34m\u001B[0m\u001B[0m\n",
      "\u001B[0;32m<ipython-input-88-c6e943482381>\u001B[0m in \u001B[0;36mtrain_validate_model\u001B[0;34m(classifier, classifier_name, X, y, print_rez)\u001B[0m\n\u001B[1;32m      8\u001B[0m \u001B[0;34m\u001B[0m\u001B[0m\n\u001B[1;32m      9\u001B[0m   \u001B[0mcv\u001B[0m \u001B[0;34m=\u001B[0m \u001B[0mKFold\u001B[0m\u001B[0;34m(\u001B[0m\u001B[0mn_splits\u001B[0m\u001B[0;34m=\u001B[0m\u001B[0;36m6\u001B[0m\u001B[0;34m)\u001B[0m\u001B[0;34m\u001B[0m\u001B[0;34m\u001B[0m\u001B[0m\n\u001B[0;32m---> 10\u001B[0;31m   \u001B[0;32mfor\u001B[0m \u001B[0mfold\u001B[0m\u001B[0;34m,\u001B[0m \u001B[0;34m(\u001B[0m\u001B[0mtrain\u001B[0m\u001B[0;34m,\u001B[0m \u001B[0mvalid\u001B[0m\u001B[0;34m)\u001B[0m \u001B[0;32min\u001B[0m \u001B[0menumerate\u001B[0m\u001B[0;34m(\u001B[0m\u001B[0mcv\u001B[0m\u001B[0;34m.\u001B[0m\u001B[0msplit\u001B[0m\u001B[0;34m(\u001B[0m\u001B[0mX\u001B[0m\u001B[0;34m,\u001B[0m \u001B[0my\u001B[0m\u001B[0;34m)\u001B[0m\u001B[0;34m)\u001B[0m\u001B[0;34m:\u001B[0m\u001B[0;34m\u001B[0m\u001B[0;34m\u001B[0m\u001B[0m\n\u001B[0m\u001B[1;32m     11\u001B[0m \u001B[0;34m\u001B[0m\u001B[0m\n\u001B[1;32m     12\u001B[0m     \u001B[0mpipe\u001B[0m\u001B[0;34m.\u001B[0m\u001B[0mfit\u001B[0m\u001B[0;34m(\u001B[0m\u001B[0mX\u001B[0m\u001B[0;34m.\u001B[0m\u001B[0mloc\u001B[0m\u001B[0;34m[\u001B[0m\u001B[0mtrain\u001B[0m\u001B[0;34m]\u001B[0m\u001B[0;34m,\u001B[0m \u001B[0my\u001B[0m\u001B[0;34m.\u001B[0m\u001B[0mloc\u001B[0m\u001B[0;34m[\u001B[0m\u001B[0mtrain\u001B[0m\u001B[0;34m]\u001B[0m\u001B[0;34m)\u001B[0m\u001B[0;34m\u001B[0m\u001B[0;34m\u001B[0m\u001B[0m\n",
      "\u001B[0;32m/usr/local/lib/python3.8/dist-packages/sklearn/model_selection/_split.py\u001B[0m in \u001B[0;36msplit\u001B[0;34m(self, X, y, groups)\u001B[0m\n\u001B[1;32m    328\u001B[0m             \u001B[0mThe\u001B[0m \u001B[0mtesting\u001B[0m \u001B[0mset\u001B[0m \u001B[0mindices\u001B[0m \u001B[0;32mfor\u001B[0m \u001B[0mthat\u001B[0m \u001B[0msplit\u001B[0m\u001B[0;34m.\u001B[0m\u001B[0;34m\u001B[0m\u001B[0;34m\u001B[0m\u001B[0m\n\u001B[1;32m    329\u001B[0m         \"\"\"\n\u001B[0;32m--> 330\u001B[0;31m         \u001B[0mX\u001B[0m\u001B[0;34m,\u001B[0m \u001B[0my\u001B[0m\u001B[0;34m,\u001B[0m \u001B[0mgroups\u001B[0m \u001B[0;34m=\u001B[0m \u001B[0mindexable\u001B[0m\u001B[0;34m(\u001B[0m\u001B[0mX\u001B[0m\u001B[0;34m,\u001B[0m \u001B[0my\u001B[0m\u001B[0;34m,\u001B[0m \u001B[0mgroups\u001B[0m\u001B[0;34m)\u001B[0m\u001B[0;34m\u001B[0m\u001B[0;34m\u001B[0m\u001B[0m\n\u001B[0m\u001B[1;32m    331\u001B[0m         \u001B[0mn_samples\u001B[0m \u001B[0;34m=\u001B[0m \u001B[0m_num_samples\u001B[0m\u001B[0;34m(\u001B[0m\u001B[0mX\u001B[0m\u001B[0;34m)\u001B[0m\u001B[0;34m\u001B[0m\u001B[0;34m\u001B[0m\u001B[0m\n\u001B[1;32m    332\u001B[0m         \u001B[0;32mif\u001B[0m \u001B[0mself\u001B[0m\u001B[0;34m.\u001B[0m\u001B[0mn_splits\u001B[0m \u001B[0;34m>\u001B[0m \u001B[0mn_samples\u001B[0m\u001B[0;34m:\u001B[0m\u001B[0;34m\u001B[0m\u001B[0;34m\u001B[0m\u001B[0m\n",
      "\u001B[0;32m/usr/local/lib/python3.8/dist-packages/sklearn/utils/validation.py\u001B[0m in \u001B[0;36mindexable\u001B[0;34m(*iterables)\u001B[0m\n\u001B[1;32m    376\u001B[0m \u001B[0;34m\u001B[0m\u001B[0m\n\u001B[1;32m    377\u001B[0m     \u001B[0mresult\u001B[0m \u001B[0;34m=\u001B[0m \u001B[0;34m[\u001B[0m\u001B[0m_make_indexable\u001B[0m\u001B[0;34m(\u001B[0m\u001B[0mX\u001B[0m\u001B[0;34m)\u001B[0m \u001B[0;32mfor\u001B[0m \u001B[0mX\u001B[0m \u001B[0;32min\u001B[0m \u001B[0miterables\u001B[0m\u001B[0;34m]\u001B[0m\u001B[0;34m\u001B[0m\u001B[0;34m\u001B[0m\u001B[0m\n\u001B[0;32m--> 378\u001B[0;31m     \u001B[0mcheck_consistent_length\u001B[0m\u001B[0;34m(\u001B[0m\u001B[0;34m*\u001B[0m\u001B[0mresult\u001B[0m\u001B[0;34m)\u001B[0m\u001B[0;34m\u001B[0m\u001B[0;34m\u001B[0m\u001B[0m\n\u001B[0m\u001B[1;32m    379\u001B[0m     \u001B[0;32mreturn\u001B[0m \u001B[0mresult\u001B[0m\u001B[0;34m\u001B[0m\u001B[0;34m\u001B[0m\u001B[0m\n\u001B[1;32m    380\u001B[0m \u001B[0;34m\u001B[0m\u001B[0m\n",
      "\u001B[0;32m/usr/local/lib/python3.8/dist-packages/sklearn/utils/validation.py\u001B[0m in \u001B[0;36mcheck_consistent_length\u001B[0;34m(*arrays)\u001B[0m\n\u001B[1;32m    330\u001B[0m     \u001B[0muniques\u001B[0m \u001B[0;34m=\u001B[0m \u001B[0mnp\u001B[0m\u001B[0;34m.\u001B[0m\u001B[0munique\u001B[0m\u001B[0;34m(\u001B[0m\u001B[0mlengths\u001B[0m\u001B[0;34m)\u001B[0m\u001B[0;34m\u001B[0m\u001B[0;34m\u001B[0m\u001B[0m\n\u001B[1;32m    331\u001B[0m     \u001B[0;32mif\u001B[0m \u001B[0mlen\u001B[0m\u001B[0;34m(\u001B[0m\u001B[0muniques\u001B[0m\u001B[0;34m)\u001B[0m \u001B[0;34m>\u001B[0m \u001B[0;36m1\u001B[0m\u001B[0;34m:\u001B[0m\u001B[0;34m\u001B[0m\u001B[0;34m\u001B[0m\u001B[0m\n\u001B[0;32m--> 332\u001B[0;31m         raise ValueError(\n\u001B[0m\u001B[1;32m    333\u001B[0m             \u001B[0;34m\"Found input variables with inconsistent numbers of samples: %r\"\u001B[0m\u001B[0;34m\u001B[0m\u001B[0;34m\u001B[0m\u001B[0m\n\u001B[1;32m    334\u001B[0m             \u001B[0;34m%\u001B[0m \u001B[0;34m[\u001B[0m\u001B[0mint\u001B[0m\u001B[0;34m(\u001B[0m\u001B[0ml\u001B[0m\u001B[0;34m)\u001B[0m \u001B[0;32mfor\u001B[0m \u001B[0ml\u001B[0m \u001B[0;32min\u001B[0m \u001B[0mlengths\u001B[0m\u001B[0;34m]\u001B[0m\u001B[0;34m\u001B[0m\u001B[0;34m\u001B[0m\u001B[0m\n",
      "\u001B[0;31mValueError\u001B[0m: Found input variables with inconsistent numbers of samples: [156258, 185433]"
     ]
    }
   ]
  },
  {
   "cell_type": "markdown",
   "source": [
    "### Custom features dataset"
   ],
   "metadata": {
    "id": "3HMYq2Vkleg6"
   }
  },
  {
   "cell_type": "code",
   "source": [
    "seed = 10\n",
    "X_train, X_validation, y_train, y_validation = train_test_split(train_data[custom_features], train_data['ACTIVE'], test_size=0.3, random_state=seed)\n",
    "\n",
    "smote = SMOTE(sampling_strategy=0.2, random_state=seed)\n",
    "X_train_smote, y_train_smote = smote.fit_resample(X_train, y_train)"
   ],
   "metadata": {
    "id": "CMBiRgWcljjB"
   },
   "execution_count": null,
   "outputs": []
  },
  {
   "cell_type": "code",
   "source": [
    "# XGBoost\n",
    "\n",
    "n_estimators =[ 80, 90, 100]\n",
    "\n",
    "for n in n_estimators:\n",
    "  xgb = XGBClassifier(n_estimators=n, scale_pos_weight= (len(y_train) - sum(y_train)) / sum(y_train))\n",
    "\n",
    "  print(f'\\nN estimators {n}')\n",
    "\n",
    "  #print('Original dataset')\n",
    "  y_train_pred, y_validation_pred = train_validate_model(xgb, 'XGB Classifier',\n",
    "                                                            X_train, y_train, \n",
    "                                                            X_validation, y_validation)\n",
    "\n",
    "\n",
    "  print('SMOTE dataset')\n",
    "  y_train_pred, y_validation_pred = train_validate_model(xgb, 'XGB Classifier',\n",
    "                                                            X_train_smote, y_train_smote, \n",
    "                                                            X_validation, y_validation)\n"
   ],
   "metadata": {
    "colab": {
     "base_uri": "https://localhost:8080/"
    },
    "id": "pM15iFLWlqU9",
    "outputId": "2815b7e2-e620-470d-c686-c93e21a94baf"
   },
   "execution_count": null,
   "outputs": [
    {
     "output_type": "stream",
     "name": "stdout",
     "text": [
      "\n",
      "N estimators 80\n",
      "XGB Classifier :\n",
      "Train set:      Accuracy: 0.709855549460596  F1: 0.053560777764523435\n",
      "Validation set: Accuracy: 0.7088612995434959  F1: 0.048389345976851204\n",
      "AUC = 0.691518659527004\n",
      "SMOTE dataset\n",
      "XGB Classifier :\n",
      "Train set:      Accuracy: 0.3016764511009415  F1: 0.3228621161072472\n",
      "Validation set: Accuracy: 0.1705917487947438  F1: 0.02492789968652038\n",
      "AUC = 0.5634077349510165\n",
      "\n",
      "N estimators 90\n",
      "XGB Classifier :\n",
      "Train set:      Accuracy: 0.711391479246663  F1: 0.054284002396644694\n",
      "Validation set: Accuracy: 0.7103118733734375  F1: 0.048619868291999435\n",
      "AUC = 0.6922520029258349\n",
      "SMOTE dataset\n",
      "XGB Classifier :\n",
      "Train set:      Accuracy: 0.31016656651104024  F1: 0.32552183378153415\n",
      "Validation set: Accuracy: 0.18010580656171338  F1: 0.025110970196575776\n",
      "AUC = 0.5662974262410874\n",
      "\n",
      "N estimators 100\n",
      "XGB Classifier :\n",
      "Train set:      Accuracy: 0.7139147924666301  F1: 0.05485079134952277\n",
      "Validation set: Accuracy: 0.712786381671573  F1: 0.048749470114455275\n",
      "AUC = 0.6915828218392261\n",
      "SMOTE dataset\n",
      "XGB Classifier :\n",
      "Train set:      Accuracy: 0.3180095224887903  F1: 0.32797613173098095\n",
      "Validation set: Accuracy: 0.18902256922223645  F1: 0.02528010665846217\n",
      "AUC = 0.5688851526022277\n"
     ]
    }
   ]
  },
  {
   "cell_type": "markdown",
   "source": [
    "### Combined dataset"
   ],
   "metadata": {
    "id": "dVtZV34Jlj7X"
   }
  },
  {
   "cell_type": "code",
   "source": [
    "seed = 10\n",
    "X_train, X_validation, y_train, y_validation = train_test_split(train_data.drop(['INDEX', 'SMILES', 'MOL', 'ACTIVE'] , axis=1), train_data['ACTIVE'], test_size=0.3, random_state=seed)\n",
    "\n",
    "smote = SMOTE(sampling_strategy=0.2, random_state=seed)\n",
    "X_train_smote, y_train_smote = smote.fit_resample(X_train, y_train)"
   ],
   "metadata": {
    "id": "60C4D7IXluyt"
   },
   "execution_count": null,
   "outputs": []
  },
  {
   "cell_type": "code",
   "source": [
    "# XGBoost\n",
    "\n",
    "n_estimators =[ 50, 80, 90, 100]\n",
    "\n",
    "for n in n_estimators:\n",
    "  xgb = XGBClassifier(n_estimators=n, scale_pos_weight= (len(y_train) - sum(y_train)) / sum(y_train))\n",
    "\n",
    "  print(f'\\nN estimators {n}')\n",
    "\n",
    "  print('Original dataset')\n",
    "  y_train_pred, y_validation_pred = train_validate_model(xgb, 'XGB Classifier',\n",
    "                                                            X_train, y_train, \n",
    "                                                            X_validation, y_validation)\n",
    "\n",
    "\n",
    "  print('SMOTE dataset')\n",
    "  y_train_pred, y_validation_pred = train_validate_model(xgb, 'XGB Classifier',\n",
    "                                                            X_train_smote, y_train_smote, \n",
    "                                                            X_validation, y_validation)\n"
   ],
   "metadata": {
    "colab": {
     "base_uri": "https://localhost:8080/"
    },
    "id": "c4VA-V9Rllkv",
    "outputId": "639ffb3c-1aef-4d4e-a5e2-771f14b7a39f"
   },
   "execution_count": null,
   "outputs": [
    {
     "output_type": "stream",
     "name": "stdout",
     "text": [
      "\n",
      "N estimators 50\n",
      "Original dataset\n",
      "XGB Classifier :\n",
      "Train set:      Accuracy: 0.7271530444322545  F1: 0.059083170439498074\n",
      "Validation set: Accuracy: 0.729361320875464  F1: 0.05356210369265199\n",
      "AUC = 0.7134035991622881\n",
      "SMOTE dataset\n",
      "XGB Classifier :\n",
      "Train set:      Accuracy: 0.3886500562412364  F1: 0.3526513297438407\n",
      "Validation set: Accuracy: 0.2729211997098852  F1: 0.028170620437956206\n",
      "AUC = 0.6122605299798614\n",
      "\n",
      "N estimators 80\n",
      "Original dataset\n",
      "XGB Classifier :\n",
      "Train set:      Accuracy: 0.7490400438837082  F1: 0.06607240065323898\n",
      "Validation set: Accuracy: 0.7490933913562865  F1: 0.05783402755527074\n",
      "AUC = 0.7252994049280593\n",
      "SMOTE dataset\n",
      "XGB Classifier :\n",
      "Train set:      Accuracy: 0.5523274626727684  F1: 0.4260526861646961\n",
      "Validation set: Accuracy: 0.46953794957122746  F1: 0.03537763295705807\n",
      "AUC = 0.6751775195696099\n",
      "\n",
      "N estimators 90\n",
      "Original dataset\n",
      "XGB Classifier :\n",
      "Train set:      Accuracy: 0.7540775278844396  F1: 0.06778721192167735\n",
      "Validation set: Accuracy: 0.7538717522078587  F1: 0.05919765166340509\n",
      "AUC = 0.729635303008823\n",
      "SMOTE dataset\n",
      "XGB Classifier :\n",
      "Train set:      Accuracy: 0.5872817762985563  F1: 0.44590401323955314\n",
      "Validation set: Accuracy: 0.5102606766500277  F1: 0.037561834493166774\n",
      "AUC = 0.6880843424483324\n",
      "\n",
      "N estimators 100\n",
      "Original dataset\n",
      "XGB Classifier :\n",
      "Train set:      Accuracy: 0.7584110440665569  F1: 0.0697060376694244\n",
      "Validation set: Accuracy: 0.7577541703997611  F1: 0.05993377483443709\n",
      "AUC = 0.7306379857222103\n",
      "SMOTE dataset\n",
      "XGB Classifier :\n",
      "Train set:      Accuracy: 0.6172206043236413  F1: 0.4644966587626644\n",
      "Validation set: Accuracy: 0.5440078501642561  F1: 0.0392808988764045\n",
      "AUC = 0.6945843783616371\n"
     ]
    }
   ]
  },
  {
   "cell_type": "markdown",
   "source": [
    "Note: SMOTE does not work for XGBoost, regardless of the feature set"
   ],
   "metadata": {
    "id": "wrX46u57v6fM"
   }
  },
  {
   "cell_type": "markdown",
   "source": [
    "# Model development - "
   ],
   "metadata": {
    "id": "2nAbOdkTn_zX"
   }
  }
 ]
}
