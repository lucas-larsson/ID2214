{
  "cells": [
    {
      "cell_type": "markdown",
      "metadata": {
        "id": "t2XfUy_nXWlI"
      },
      "source": [
        "# ID2214 Programming for Data Science\n",
        "\n",
        "### Assignment 4\n",
        "\n",
        "Authors: \\\n",
        "Lucas Larsson lulars@kth.se \\\n",
        "Mihaela Bakšić baksic@kth.se"
      ]
    },
    {
      "cell_type": "code",
      "execution_count": null,
      "metadata": {
        "colab": {
          "base_uri": "https://localhost:8080/"
        },
        "id": "tUYMz0ENiHwz",
        "outputId": "ecce5ca9-61ad-47a9-fd60-04798c5aca6b"
      },
      "outputs": [
        {
          "output_type": "stream",
          "name": "stdout",
          "text": [
            "Looking in indexes: https://pypi.org/simple, https://us-python.pkg.dev/colab-wheels/public/simple/\n",
            "Requirement already satisfied: rdkit in /usr/local/lib/python3.8/dist-packages (2022.9.3)\n",
            "Requirement already satisfied: Pillow in /usr/local/lib/python3.8/dist-packages (from rdkit) (7.1.2)\n",
            "Requirement already satisfied: numpy in /usr/local/lib/python3.8/dist-packages (from rdkit) (1.21.6)\n",
            "Looking in indexes: https://pypi.org/simple, https://us-python.pkg.dev/colab-wheels/public/simple/\n",
            "Requirement already satisfied: molmass in /usr/local/lib/python3.8/dist-packages (2022.12.9)\n"
          ]
        }
      ],
      "source": [
        "! pip install rdkit\n",
        "! pip install molmass"
      ]
    },
    {
      "cell_type": "code",
      "source": [
        "# Defining input and output file paths\n",
        "TRAIN_DATASET_PATH = '/content/gdrive/My Drive/ID2214/training_smiles.csv'\n",
        "TEST_DATASET_PATH = '/content/gdrive/My Drive/ID2214/test_smiles.csv'\n",
        "FEATURES_OPTIM_RES_PATH = '/content/gdrive/My Drive/ID2214/features_optim.csv'\n",
        "FINGERPRINT_OPTIM_RES_PATH = '/content/gdrive/My Drive/ID2214/fingerprint_size_opt.csv'\n",
        "TRAIN_DATASET_PREPARED_PATH = '/content/gdrive/My Drive/ID2214/training_prepared.csv'\n",
        "TEST_DATASET_PREPARED_PATH = '/content/gdrive/My Drive/ID2214/test_prepared.csv'\n",
        "\n",
        "CUSTOM_RES_PATH = '/content/gdrive/My Drive/ID2214/custom_res.csv'\n",
        "FP_RES_PATH = '/content/gdrive/My Drive/ID2214/fp_res.csv'\n",
        "COMBINED_RES_PATH =  '/content/gdrive/My Drive/ID2214/combined_res.csv'\n",
        "\n",
        "RESULT_PATH = '/content/gdrive/My Drive/ID2214/4.csv'\n"
      ],
      "metadata": {
        "id": "MIXsK4wCE1l9"
      },
      "execution_count": null,
      "outputs": []
    },
    {
      "cell_type": "code",
      "execution_count": null,
      "metadata": {
        "colab": {
          "base_uri": "https://localhost:8080/"
        },
        "id": "CSalXlGdmRYx",
        "outputId": "d48c490c-70df-4c5a-c6e9-a171c0ea33be"
      },
      "outputs": [
        {
          "output_type": "stream",
          "name": "stdout",
          "text": [
            "Mounted at /content/gdrive\n"
          ]
        }
      ],
      "source": [
        "from google.colab import drive\n",
        "drive.mount('/content/gdrive')"
      ]
    },
    {
      "cell_type": "code",
      "execution_count": null,
      "metadata": {
        "id": "zApNmXz8W5UW",
        "colab": {
          "base_uri": "https://localhost:8080/",
          "height": 376
        },
        "outputId": "80c3bd63-e486-4b77-9720-9f913a7f7162"
      },
      "outputs": [
        {
          "output_type": "error",
          "ename": "ModuleNotFoundError",
          "evalue": "ignored",
          "traceback": [
            "\u001b[0;31m---------------------------------------------------------------------------\u001b[0m",
            "\u001b[0;31mModuleNotFoundError\u001b[0m                       Traceback (most recent call last)",
            "\u001b[0;32m<ipython-input-1-ccf190cb1c4b>\u001b[0m in \u001b[0;36m<module>\u001b[0;34m\u001b[0m\n\u001b[1;32m      1\u001b[0m \u001b[0;32mimport\u001b[0m \u001b[0mpandas\u001b[0m \u001b[0;32mas\u001b[0m \u001b[0mpd\u001b[0m\u001b[0;34m\u001b[0m\u001b[0;34m\u001b[0m\u001b[0m\n\u001b[0;32m----> 2\u001b[0;31m \u001b[0;32mfrom\u001b[0m \u001b[0mrdkit\u001b[0m \u001b[0;32mimport\u001b[0m \u001b[0mChem\u001b[0m\u001b[0;34m\u001b[0m\u001b[0;34m\u001b[0m\u001b[0m\n\u001b[0m\u001b[1;32m      3\u001b[0m \u001b[0;32mfrom\u001b[0m \u001b[0mrdkit\u001b[0m\u001b[0;34m.\u001b[0m\u001b[0mChem\u001b[0m \u001b[0;32mimport\u001b[0m \u001b[0mChemicalFeatures\u001b[0m\u001b[0;34m,\u001b[0m \u001b[0mAllChem\u001b[0m\u001b[0;34m,\u001b[0m \u001b[0mDraw\u001b[0m\u001b[0;34m,\u001b[0m \u001b[0mrdmolops\u001b[0m\u001b[0;34m,\u001b[0m \u001b[0mLipinski\u001b[0m\u001b[0;34m,\u001b[0m \u001b[0mrdMolDescriptors\u001b[0m\u001b[0;34m,\u001b[0m \u001b[0mFragments\u001b[0m\u001b[0;34m,\u001b[0m\u001b[0mCrippen\u001b[0m\u001b[0;34m\u001b[0m\u001b[0;34m\u001b[0m\u001b[0m\n\u001b[1;32m      4\u001b[0m \u001b[0;32mfrom\u001b[0m \u001b[0mrdkit\u001b[0m \u001b[0;32mimport\u001b[0m \u001b[0mRDConfig\u001b[0m\u001b[0;34m\u001b[0m\u001b[0;34m\u001b[0m\u001b[0m\n\u001b[1;32m      5\u001b[0m \u001b[0;32mfrom\u001b[0m \u001b[0mmolmass\u001b[0m \u001b[0;32mimport\u001b[0m \u001b[0mFormula\u001b[0m\u001b[0;34m\u001b[0m\u001b[0;34m\u001b[0m\u001b[0m\n",
            "\u001b[0;31mModuleNotFoundError\u001b[0m: No module named 'rdkit'",
            "",
            "\u001b[0;31m---------------------------------------------------------------------------\u001b[0;32m\nNOTE: If your import is failing due to a missing package, you can\nmanually install dependencies using either !pip or !apt.\n\nTo view examples of installing some common dependencies, click the\n\"Open Examples\" button below.\n\u001b[0;31m---------------------------------------------------------------------------\u001b[0m\n"
          ],
          "errorDetails": {
            "actions": [
              {
                "action": "open_url",
                "actionText": "Open Examples",
                "url": "/notebooks/snippets/importing_libraries.ipynb"
              }
            ]
          }
        }
      ],
      "source": [
        "import pandas as pd\n",
        "from rdkit import Chem\n",
        "from rdkit.Chem import ChemicalFeatures, AllChem, Draw, rdmolops, Lipinski, rdMolDescriptors, Fragments,Crippen\n",
        "from rdkit import RDConfig\n",
        "from molmass import Formula\n",
        "import os\n",
        "import re"
      ]
    },
    {
      "cell_type": "markdown",
      "source": [
        "## Data import and feature extraction"
      ],
      "metadata": {
        "id": "McKFYI7_JDLl"
      }
    },
    {
      "cell_type": "code",
      "execution_count": null,
      "metadata": {
        "colab": {
          "base_uri": "https://localhost:8080/",
          "height": 206
        },
        "id": "QBiu6FB0iKap",
        "outputId": "ffd74a3d-36b9-453d-ff92-c585509030dd"
      },
      "outputs": [
        {
          "output_type": "execute_result",
          "data": {
            "text/plain": [
              "   INDEX                                             SMILES  ACTIVE\n",
              "0      1               CC(C)N1CC(=O)C(c2nc3ccccc3[nH]2)=C1N       0\n",
              "1      2  COc1ccc(-c2ccc3c(N)c(C(=O)c4ccc(OC)c(OC)c4)sc3...       0\n",
              "2      3    CCc1ccc(C(=O)COC(=O)CCc2nc(=O)c3ccccc3[nH]2)cc1       0\n",
              "3      4        O=C(CN1CCOCC1)Nc1ccc(S(=O)(=O)N2CCCCCC2)cc1       0\n",
              "4      5                   C=CCC(Nc1ccccc1)c1ccc(OC)c(OC)c1       0"
            ],
            "text/html": [
              "\n",
              "  <div id=\"df-6b90df75-74ee-4375-8a4a-200ca4ef76d9\">\n",
              "    <div class=\"colab-df-container\">\n",
              "      <div>\n",
              "<style scoped>\n",
              "    .dataframe tbody tr th:only-of-type {\n",
              "        vertical-align: middle;\n",
              "    }\n",
              "\n",
              "    .dataframe tbody tr th {\n",
              "        vertical-align: top;\n",
              "    }\n",
              "\n",
              "    .dataframe thead th {\n",
              "        text-align: right;\n",
              "    }\n",
              "</style>\n",
              "<table border=\"1\" class=\"dataframe\">\n",
              "  <thead>\n",
              "    <tr style=\"text-align: right;\">\n",
              "      <th></th>\n",
              "      <th>INDEX</th>\n",
              "      <th>SMILES</th>\n",
              "      <th>ACTIVE</th>\n",
              "    </tr>\n",
              "  </thead>\n",
              "  <tbody>\n",
              "    <tr>\n",
              "      <th>0</th>\n",
              "      <td>1</td>\n",
              "      <td>CC(C)N1CC(=O)C(c2nc3ccccc3[nH]2)=C1N</td>\n",
              "      <td>0</td>\n",
              "    </tr>\n",
              "    <tr>\n",
              "      <th>1</th>\n",
              "      <td>2</td>\n",
              "      <td>COc1ccc(-c2ccc3c(N)c(C(=O)c4ccc(OC)c(OC)c4)sc3...</td>\n",
              "      <td>0</td>\n",
              "    </tr>\n",
              "    <tr>\n",
              "      <th>2</th>\n",
              "      <td>3</td>\n",
              "      <td>CCc1ccc(C(=O)COC(=O)CCc2nc(=O)c3ccccc3[nH]2)cc1</td>\n",
              "      <td>0</td>\n",
              "    </tr>\n",
              "    <tr>\n",
              "      <th>3</th>\n",
              "      <td>4</td>\n",
              "      <td>O=C(CN1CCOCC1)Nc1ccc(S(=O)(=O)N2CCCCCC2)cc1</td>\n",
              "      <td>0</td>\n",
              "    </tr>\n",
              "    <tr>\n",
              "      <th>4</th>\n",
              "      <td>5</td>\n",
              "      <td>C=CCC(Nc1ccccc1)c1ccc(OC)c(OC)c1</td>\n",
              "      <td>0</td>\n",
              "    </tr>\n",
              "  </tbody>\n",
              "</table>\n",
              "</div>\n",
              "      <button class=\"colab-df-convert\" onclick=\"convertToInteractive('df-6b90df75-74ee-4375-8a4a-200ca4ef76d9')\"\n",
              "              title=\"Convert this dataframe to an interactive table.\"\n",
              "              style=\"display:none;\">\n",
              "        \n",
              "  <svg xmlns=\"http://www.w3.org/2000/svg\" height=\"24px\"viewBox=\"0 0 24 24\"\n",
              "       width=\"24px\">\n",
              "    <path d=\"M0 0h24v24H0V0z\" fill=\"none\"/>\n",
              "    <path d=\"M18.56 5.44l.94 2.06.94-2.06 2.06-.94-2.06-.94-.94-2.06-.94 2.06-2.06.94zm-11 1L8.5 8.5l.94-2.06 2.06-.94-2.06-.94L8.5 2.5l-.94 2.06-2.06.94zm10 10l.94 2.06.94-2.06 2.06-.94-2.06-.94-.94-2.06-.94 2.06-2.06.94z\"/><path d=\"M17.41 7.96l-1.37-1.37c-.4-.4-.92-.59-1.43-.59-.52 0-1.04.2-1.43.59L10.3 9.45l-7.72 7.72c-.78.78-.78 2.05 0 2.83L4 21.41c.39.39.9.59 1.41.59.51 0 1.02-.2 1.41-.59l7.78-7.78 2.81-2.81c.8-.78.8-2.07 0-2.86zM5.41 20L4 18.59l7.72-7.72 1.47 1.35L5.41 20z\"/>\n",
              "  </svg>\n",
              "      </button>\n",
              "      \n",
              "  <style>\n",
              "    .colab-df-container {\n",
              "      display:flex;\n",
              "      flex-wrap:wrap;\n",
              "      gap: 12px;\n",
              "    }\n",
              "\n",
              "    .colab-df-convert {\n",
              "      background-color: #E8F0FE;\n",
              "      border: none;\n",
              "      border-radius: 50%;\n",
              "      cursor: pointer;\n",
              "      display: none;\n",
              "      fill: #1967D2;\n",
              "      height: 32px;\n",
              "      padding: 0 0 0 0;\n",
              "      width: 32px;\n",
              "    }\n",
              "\n",
              "    .colab-df-convert:hover {\n",
              "      background-color: #E2EBFA;\n",
              "      box-shadow: 0px 1px 2px rgba(60, 64, 67, 0.3), 0px 1px 3px 1px rgba(60, 64, 67, 0.15);\n",
              "      fill: #174EA6;\n",
              "    }\n",
              "\n",
              "    [theme=dark] .colab-df-convert {\n",
              "      background-color: #3B4455;\n",
              "      fill: #D2E3FC;\n",
              "    }\n",
              "\n",
              "    [theme=dark] .colab-df-convert:hover {\n",
              "      background-color: #434B5C;\n",
              "      box-shadow: 0px 1px 3px 1px rgba(0, 0, 0, 0.15);\n",
              "      filter: drop-shadow(0px 1px 2px rgba(0, 0, 0, 0.3));\n",
              "      fill: #FFFFFF;\n",
              "    }\n",
              "  </style>\n",
              "\n",
              "      <script>\n",
              "        const buttonEl =\n",
              "          document.querySelector('#df-6b90df75-74ee-4375-8a4a-200ca4ef76d9 button.colab-df-convert');\n",
              "        buttonEl.style.display =\n",
              "          google.colab.kernel.accessAllowed ? 'block' : 'none';\n",
              "\n",
              "        async function convertToInteractive(key) {\n",
              "          const element = document.querySelector('#df-6b90df75-74ee-4375-8a4a-200ca4ef76d9');\n",
              "          const dataTable =\n",
              "            await google.colab.kernel.invokeFunction('convertToInteractive',\n",
              "                                                     [key], {});\n",
              "          if (!dataTable) return;\n",
              "\n",
              "          const docLinkHtml = 'Like what you see? Visit the ' +\n",
              "            '<a target=\"_blank\" href=https://colab.research.google.com/notebooks/data_table.ipynb>data table notebook</a>'\n",
              "            + ' to learn more about interactive tables.';\n",
              "          element.innerHTML = '';\n",
              "          dataTable['output_type'] = 'display_data';\n",
              "          await google.colab.output.renderOutput(dataTable, element);\n",
              "          const docLink = document.createElement('div');\n",
              "          docLink.innerHTML = docLinkHtml;\n",
              "          element.appendChild(docLink);\n",
              "        }\n",
              "      </script>\n",
              "    </div>\n",
              "  </div>\n",
              "  "
            ]
          },
          "metadata": {},
          "execution_count": 5
        }
      ],
      "source": [
        "train_data = pd.read_csv(TRAIN_DATASET_PATH, dtype = {'ACTIVE': int})\n",
        "\n",
        "train_data.head()"
      ]
    },
    {
      "cell_type": "code",
      "execution_count": null,
      "metadata": {
        "colab": {
          "base_uri": "https://localhost:8080/",
          "height": 143
        },
        "id": "FL4MGwDyax_b",
        "outputId": "2f1c769e-011a-4c76-e0d0-5d2b71440375"
      },
      "outputs": [
        {
          "output_type": "execute_result",
          "data": {
            "text/plain": [
              "         INDEX\n",
              "ACTIVE        \n",
              "0       154528\n",
              "1         1730"
            ],
            "text/html": [
              "\n",
              "  <div id=\"df-1419efd2-3917-4a5e-a1e5-ffebd84ef8de\">\n",
              "    <div class=\"colab-df-container\">\n",
              "      <div>\n",
              "<style scoped>\n",
              "    .dataframe tbody tr th:only-of-type {\n",
              "        vertical-align: middle;\n",
              "    }\n",
              "\n",
              "    .dataframe tbody tr th {\n",
              "        vertical-align: top;\n",
              "    }\n",
              "\n",
              "    .dataframe thead th {\n",
              "        text-align: right;\n",
              "    }\n",
              "</style>\n",
              "<table border=\"1\" class=\"dataframe\">\n",
              "  <thead>\n",
              "    <tr style=\"text-align: right;\">\n",
              "      <th></th>\n",
              "      <th>INDEX</th>\n",
              "    </tr>\n",
              "    <tr>\n",
              "      <th>ACTIVE</th>\n",
              "      <th></th>\n",
              "    </tr>\n",
              "  </thead>\n",
              "  <tbody>\n",
              "    <tr>\n",
              "      <th>0</th>\n",
              "      <td>154528</td>\n",
              "    </tr>\n",
              "    <tr>\n",
              "      <th>1</th>\n",
              "      <td>1730</td>\n",
              "    </tr>\n",
              "  </tbody>\n",
              "</table>\n",
              "</div>\n",
              "      <button class=\"colab-df-convert\" onclick=\"convertToInteractive('df-1419efd2-3917-4a5e-a1e5-ffebd84ef8de')\"\n",
              "              title=\"Convert this dataframe to an interactive table.\"\n",
              "              style=\"display:none;\">\n",
              "        \n",
              "  <svg xmlns=\"http://www.w3.org/2000/svg\" height=\"24px\"viewBox=\"0 0 24 24\"\n",
              "       width=\"24px\">\n",
              "    <path d=\"M0 0h24v24H0V0z\" fill=\"none\"/>\n",
              "    <path d=\"M18.56 5.44l.94 2.06.94-2.06 2.06-.94-2.06-.94-.94-2.06-.94 2.06-2.06.94zm-11 1L8.5 8.5l.94-2.06 2.06-.94-2.06-.94L8.5 2.5l-.94 2.06-2.06.94zm10 10l.94 2.06.94-2.06 2.06-.94-2.06-.94-.94-2.06-.94 2.06-2.06.94z\"/><path d=\"M17.41 7.96l-1.37-1.37c-.4-.4-.92-.59-1.43-.59-.52 0-1.04.2-1.43.59L10.3 9.45l-7.72 7.72c-.78.78-.78 2.05 0 2.83L4 21.41c.39.39.9.59 1.41.59.51 0 1.02-.2 1.41-.59l7.78-7.78 2.81-2.81c.8-.78.8-2.07 0-2.86zM5.41 20L4 18.59l7.72-7.72 1.47 1.35L5.41 20z\"/>\n",
              "  </svg>\n",
              "      </button>\n",
              "      \n",
              "  <style>\n",
              "    .colab-df-container {\n",
              "      display:flex;\n",
              "      flex-wrap:wrap;\n",
              "      gap: 12px;\n",
              "    }\n",
              "\n",
              "    .colab-df-convert {\n",
              "      background-color: #E8F0FE;\n",
              "      border: none;\n",
              "      border-radius: 50%;\n",
              "      cursor: pointer;\n",
              "      display: none;\n",
              "      fill: #1967D2;\n",
              "      height: 32px;\n",
              "      padding: 0 0 0 0;\n",
              "      width: 32px;\n",
              "    }\n",
              "\n",
              "    .colab-df-convert:hover {\n",
              "      background-color: #E2EBFA;\n",
              "      box-shadow: 0px 1px 2px rgba(60, 64, 67, 0.3), 0px 1px 3px 1px rgba(60, 64, 67, 0.15);\n",
              "      fill: #174EA6;\n",
              "    }\n",
              "\n",
              "    [theme=dark] .colab-df-convert {\n",
              "      background-color: #3B4455;\n",
              "      fill: #D2E3FC;\n",
              "    }\n",
              "\n",
              "    [theme=dark] .colab-df-convert:hover {\n",
              "      background-color: #434B5C;\n",
              "      box-shadow: 0px 1px 3px 1px rgba(0, 0, 0, 0.15);\n",
              "      filter: drop-shadow(0px 1px 2px rgba(0, 0, 0, 0.3));\n",
              "      fill: #FFFFFF;\n",
              "    }\n",
              "  </style>\n",
              "\n",
              "      <script>\n",
              "        const buttonEl =\n",
              "          document.querySelector('#df-1419efd2-3917-4a5e-a1e5-ffebd84ef8de button.colab-df-convert');\n",
              "        buttonEl.style.display =\n",
              "          google.colab.kernel.accessAllowed ? 'block' : 'none';\n",
              "\n",
              "        async function convertToInteractive(key) {\n",
              "          const element = document.querySelector('#df-1419efd2-3917-4a5e-a1e5-ffebd84ef8de');\n",
              "          const dataTable =\n",
              "            await google.colab.kernel.invokeFunction('convertToInteractive',\n",
              "                                                     [key], {});\n",
              "          if (!dataTable) return;\n",
              "\n",
              "          const docLinkHtml = 'Like what you see? Visit the ' +\n",
              "            '<a target=\"_blank\" href=https://colab.research.google.com/notebooks/data_table.ipynb>data table notebook</a>'\n",
              "            + ' to learn more about interactive tables.';\n",
              "          element.innerHTML = '';\n",
              "          dataTable['output_type'] = 'display_data';\n",
              "          await google.colab.output.renderOutput(dataTable, element);\n",
              "          const docLink = document.createElement('div');\n",
              "          docLink.innerHTML = docLinkHtml;\n",
              "          element.appendChild(docLink);\n",
              "        }\n",
              "      </script>\n",
              "    </div>\n",
              "  </div>\n",
              "  "
            ]
          },
          "metadata": {},
          "execution_count": 6
        }
      ],
      "source": [
        "train_data[['INDEX', 'ACTIVE']].groupby('ACTIVE').count()"
      ]
    },
    {
      "cell_type": "markdown",
      "metadata": {
        "id": "y6TY2hbri1X2"
      },
      "source": [
        "### Feature extracting functions"
      ]
    },
    {
      "cell_type": "code",
      "execution_count": null,
      "metadata": {
        "id": "IAEmVETai0-W"
      },
      "outputs": [],
      "source": [
        "def extract_charge(df):\n",
        "  '''\n",
        "    Extracts molecule charge from the mol column of the dataframe\n",
        "    Returns charge series\n",
        "  '''\n",
        "  return df['MOL'].apply(lambda x: rdmolops.GetFormalCharge(x))\n",
        "\n",
        "\n",
        "def extract_mol(df):\n",
        "  '''\n",
        "    Extracts molecule object from the smiles column of the dataframe\n",
        "    Returns molecule series\n",
        "  '''\n",
        "  return df['SMILES'].apply(lambda x: Chem.MolFromSmiles(x))\n",
        "\n",
        "\n",
        "def extract_num_atoms(df, atom_symbol):\n",
        "  '''\n",
        "    Extracts number of atoms with a given symbol from the molecule\n",
        "    Returns count series\n",
        "  '''\n",
        "\n",
        "  m = Chem.MolFromSmarts(atom_symbol)\n",
        "  return df['MOL'].apply(lambda x: len(x.GetSubstructMatches(m)))\n",
        "\n",
        "\n",
        "def extract_fingerprints(df, size_fp=124):\n",
        "  '''\n",
        "    Extracts fingerprint vectors from smiles columns\n",
        "    Returns a dataframe where each column is a fingerprint bit and a list of fingerprint feature names\n",
        "  '''\n",
        "\n",
        "  fingerprints = df['MOL'].apply(lambda x: AllChem.GetMorganFingerprintAsBitVect(x, 2, nBits=size_fp))\n",
        "  fp_features = [f'fp_{i}' for i in range(size_fp)]\n",
        "\n",
        "  fingerprints_array = [ [ fp[i] for i in range(size_fp) ] for fp in fingerprints]\n",
        "  return pd.DataFrame(data=fingerprints_array, columns=fp_features), fp_features\n",
        "\n",
        "\n",
        "def extract_heavy_atom_count(df):\n",
        "  '''\n",
        "  Extracts number of heavy atoms from the molecule\n",
        "  Returns a series with the heavy atom count\n",
        "  '''\n",
        "  return df['MOL'].apply(lambda x: Lipinski.HeavyAtomCount(x))\n",
        "\n",
        "def extract_NHOH(df):\n",
        "\n",
        "  return df['MOL'].apply(lambda x: Lipinski.NHOHCount(x))\n",
        "\n",
        "def extract_num_rings(df):\n",
        "  return df['MOL'].apply(lambda x: Lipinski.RingCount(x))\n",
        "  \n",
        "def extract_num_aromatic_rings(df):\n",
        "  return df['MOL'].apply(lambda x: Lipinski.NumAromaticRings(x))\n",
        "\n",
        "def extract_num_saturated_rings(df):\n",
        "  return df['MOL'].apply(lambda x: Lipinski.NumSaturatedRings(x))\n",
        "\n",
        "\n",
        "def extract_donors_and_acceptors(df):\n",
        "  '''\n",
        "  Extracts number of hydrogen Acceptors and Donors respectivlly \n",
        "  Returns two seriess containing the number bondes of 'Acceptors' and 'Donors'\n",
        "  '''\n",
        "  acceptors = df['MOL'].apply(lambda x: Lipinski.NumHAcceptors(x))\n",
        "  donors = df['MOL'].apply(lambda x: Lipinski.NumHDonors(x))\n",
        "  return acceptors, donors\n",
        "  \n",
        "\n",
        "def calculate_mass(df):\n",
        "  '''\n",
        "  Calculates the mass of a molecule\n",
        "  Returns a series with mass of molecule in dalton\n",
        "  '''\n",
        "  return df['MOL'].apply(lambda x: Formula(re.sub(r\"-\\d+\",\"\", rdMolDescriptors.CalcMolFormula(x))).mass)\n",
        "\n",
        "\n",
        "def extract_Al_OOF(df):\n",
        "  return df['MOL'].apply(lambda x: Fragments.fr_Al_COO(x))\n",
        "\n",
        "def extract_Al_OH(df):\n",
        "  return df['MOL'].apply(lambda x: Fragments.fr_Al_OH(x))\n",
        "\n",
        "def extract_saturated_carbocycles(df):\n",
        "  return df['MOL'].apply(lambda x: Lipinski.NumSaturatedCarbocycles(x))\n",
        "\n",
        "def extract_saturated_heterocycles(df):\n",
        "  return df['MOL'].apply(lambda x: Lipinski.NumSaturatedHeterocycles(x))\n",
        "\n",
        "\n",
        "def extract_functional_groups(df):\n",
        "  return df['MOL'].apply(lambda x: Fragments.fr_ArN(x))\n",
        "\n",
        "\n",
        "def extract_log_p(df):\n",
        "  return df['MOL'].apply(lambda x: Crippen.MolLogP(x))\n",
        "\n",
        "\n",
        "def extract_mol_mr(df):\n",
        "  return df['MOL'].apply(lambda x: Crippen.MolMR(x))\n",
        "\n",
        "\n",
        "def calc_rotatable_bonds(df):\n",
        "  return df['MOL'].apply(lambda x: rdMolDescriptors.CalcNumRotatableBonds(x))\n"
      ]
    },
    {
      "cell_type": "markdown",
      "metadata": {
        "id": "0nl3aKF5Y-L9"
      },
      "source": [
        "## Applying feature extraction\n",
        "\n",
        "Features extracted from SMILEs can be categorised in 2 groups: \n",
        "- fingerprint vector features\n",
        "- custom features extracted using rdkit and molmass libraries\n",
        "\n",
        "We use this feature groups together and separately to determine the most suitable feature set, based on model performances."
      ]
    },
    {
      "cell_type": "code",
      "execution_count": null,
      "metadata": {
        "id": "NJ4bEYjSY9q-"
      },
      "outputs": [],
      "source": [
        "train_data['MOL'] = extract_mol(train_data)\n",
        "train_data['CHARGE'] = extract_charge(train_data)\n",
        "train_data['NUM_C'] = extract_num_atoms(train_data, 'C')\n",
        "train_data['NUM_O'] = extract_num_atoms(train_data, 'O')\n",
        "train_data['NUM_N'] = extract_num_atoms(train_data, 'N')\n",
        "train_data['NUM_HEAVY'] = extract_heavy_atom_count(train_data)\n",
        "train_data['MASS'] = calculate_mass(train_data)\n",
        "train_data['ACCEPTORS'], train_data['DONORS'] = extract_donors_and_acceptors(train_data)\n",
        "train_data['AL_OOF'] = extract_Al_OOF(train_data)\n",
        "train_data['AL_OH'] = extract_Al_OH(train_data)\n",
        "train_data['NUM_NHOH'] = extract_NHOH(train_data)\n",
        "train_data['NUM_RINGS'] = extract_num_rings(train_data)\n",
        "train_data['NUM_AROM_RINGS'] = extract_num_aromatic_rings(train_data)\n",
        "train_data['NUM_SAT_RINGS'] = extract_num_saturated_rings(train_data)\n",
        "train_data['NUM_HETCYCLES'] = extract_saturated_heterocycles(train_data)\n",
        "train_data['NUM_CARBCYCLES'] = extract_saturated_carbocycles(train_data)\n",
        "\n",
        "train_data['ROTATABLE_BONDS'] = calc_rotatable_bonds(train_data)\n",
        "train_data['LOG_P'] = extract_log_p(train_data)\n",
        "train_data['FUNC_GROUP'] = extract_functional_groups(train_data)\n",
        "train_data['MR'] = extract_mol_mr(train_data)\n",
        "\n",
        "\n",
        "# fingerprints\n",
        "\n",
        "size_fp = 512\n",
        "fingerprints, fp_features = extract_fingerprints(train_data, size_fp)\n",
        "train_data = train_data.join(fingerprints)\n"
      ]
    },
    {
      "cell_type": "code",
      "execution_count": null,
      "metadata": {
        "id": "cJB8oFP80z-R"
      },
      "outputs": [],
      "source": [
        "custom_features_all = ['CHARGE','MASS', 'NUM_C', 'NUM_O', 'NUM_N', 'NUM_HEAVY', \n",
        "                   'ACCEPTORS', 'DONORS', 'AL_OOF', 'AL_OH', 'NUM_NHOH', \n",
        "                   'NUM_RINGS', 'NUM_AROM_RINGS', 'NUM_SAT_RINGS',\n",
        "                   'NUM_HETCYCLES', 'NUM_CARBCYCLES',\n",
        "                   'ROTATABLE_BONDS', 'LOG_P', 'FUNC_GROUP', 'MR'] \n"
      ]
    },
    {
      "cell_type": "code",
      "execution_count": null,
      "metadata": {
        "colab": {
          "base_uri": "https://localhost:8080/",
          "height": 473
        },
        "id": "1jWQwCpt8UZa",
        "outputId": "278f5f98-5576-43be-9371-9fa4e2112c82"
      },
      "outputs": [
        {
          "output_type": "execute_result",
          "data": {
            "text/plain": [
              "   INDEX                                             SMILES  ACTIVE  \\\n",
              "0      1               CC(C)N1CC(=O)C(c2nc3ccccc3[nH]2)=C1N       0   \n",
              "1      2  COc1ccc(-c2ccc3c(N)c(C(=O)c4ccc(OC)c(OC)c4)sc3...       0   \n",
              "2      3    CCc1ccc(C(=O)COC(=O)CCc2nc(=O)c3ccccc3[nH]2)cc1       0   \n",
              "3      4        O=C(CN1CCOCC1)Nc1ccc(S(=O)(=O)N2CCCCCC2)cc1       0   \n",
              "4      5                   C=CCC(Nc1ccccc1)c1ccc(OC)c(OC)c1       0   \n",
              "\n",
              "                                                MOL  CHARGE  NUM_C  NUM_O  \\\n",
              "0  <rdkit.Chem.rdchem.Mol object at 0x7f17ee165c10>       0      7      1   \n",
              "1  <rdkit.Chem.rdchem.Mol object at 0x7f17ee165ba0>       0      4      4   \n",
              "2  <rdkit.Chem.rdchem.Mol object at 0x7f17ee165b30>       0      7      4   \n",
              "3  <rdkit.Chem.rdchem.Mol object at 0x7f17ee165ac0>       0     12      4   \n",
              "4  <rdkit.Chem.rdchem.Mol object at 0x7f17ee165a50>       0      6      2   \n",
              "\n",
              "   NUM_N  NUM_HEAVY        MASS  ...  NUM_CARBCYCLES  ROTATABLE_BONDS   LOG_P  \\\n",
              "0      2         19  256.303633  ...               0                2  1.4833   \n",
              "1      1         30  420.481666  ...               0                6  4.8023   \n",
              "2      0         27  364.395386  ...               0                7  2.8442   \n",
              "3      3         26  381.490256  ...               0                5  1.5220   \n",
              "4      1         21  283.365594  ...               0                7  4.4331   \n",
              "\n",
              "   FUNC_GROUP        MR  fp_0  fp_1  fp_2  fp_3  fp_4  \n",
              "0           0   74.0501     1     1     1     1     1  \n",
              "1           1  118.9989     1     1     1     1     1  \n",
              "2           0  101.7942     1     1     1     1     1  \n",
              "3           0   99.5575     1     1     1     1     1  \n",
              "4           0   87.1657     1     1     1     1     1  \n",
              "\n",
              "[5 rows x 30 columns]"
            ],
            "text/html": [
              "\n",
              "  <div id=\"df-843b2e38-1328-4837-bb9d-649cb1b1781d\">\n",
              "    <div class=\"colab-df-container\">\n",
              "      <div>\n",
              "<style scoped>\n",
              "    .dataframe tbody tr th:only-of-type {\n",
              "        vertical-align: middle;\n",
              "    }\n",
              "\n",
              "    .dataframe tbody tr th {\n",
              "        vertical-align: top;\n",
              "    }\n",
              "\n",
              "    .dataframe thead th {\n",
              "        text-align: right;\n",
              "    }\n",
              "</style>\n",
              "<table border=\"1\" class=\"dataframe\">\n",
              "  <thead>\n",
              "    <tr style=\"text-align: right;\">\n",
              "      <th></th>\n",
              "      <th>INDEX</th>\n",
              "      <th>SMILES</th>\n",
              "      <th>ACTIVE</th>\n",
              "      <th>MOL</th>\n",
              "      <th>CHARGE</th>\n",
              "      <th>NUM_C</th>\n",
              "      <th>NUM_O</th>\n",
              "      <th>NUM_N</th>\n",
              "      <th>NUM_HEAVY</th>\n",
              "      <th>MASS</th>\n",
              "      <th>...</th>\n",
              "      <th>NUM_CARBCYCLES</th>\n",
              "      <th>ROTATABLE_BONDS</th>\n",
              "      <th>LOG_P</th>\n",
              "      <th>FUNC_GROUP</th>\n",
              "      <th>MR</th>\n",
              "      <th>fp_0</th>\n",
              "      <th>fp_1</th>\n",
              "      <th>fp_2</th>\n",
              "      <th>fp_3</th>\n",
              "      <th>fp_4</th>\n",
              "    </tr>\n",
              "  </thead>\n",
              "  <tbody>\n",
              "    <tr>\n",
              "      <th>0</th>\n",
              "      <td>1</td>\n",
              "      <td>CC(C)N1CC(=O)C(c2nc3ccccc3[nH]2)=C1N</td>\n",
              "      <td>0</td>\n",
              "      <td>&lt;rdkit.Chem.rdchem.Mol object at 0x7f17ee165c10&gt;</td>\n",
              "      <td>0</td>\n",
              "      <td>7</td>\n",
              "      <td>1</td>\n",
              "      <td>2</td>\n",
              "      <td>19</td>\n",
              "      <td>256.303633</td>\n",
              "      <td>...</td>\n",
              "      <td>0</td>\n",
              "      <td>2</td>\n",
              "      <td>1.4833</td>\n",
              "      <td>0</td>\n",
              "      <td>74.0501</td>\n",
              "      <td>1</td>\n",
              "      <td>1</td>\n",
              "      <td>1</td>\n",
              "      <td>1</td>\n",
              "      <td>1</td>\n",
              "    </tr>\n",
              "    <tr>\n",
              "      <th>1</th>\n",
              "      <td>2</td>\n",
              "      <td>COc1ccc(-c2ccc3c(N)c(C(=O)c4ccc(OC)c(OC)c4)sc3...</td>\n",
              "      <td>0</td>\n",
              "      <td>&lt;rdkit.Chem.rdchem.Mol object at 0x7f17ee165ba0&gt;</td>\n",
              "      <td>0</td>\n",
              "      <td>4</td>\n",
              "      <td>4</td>\n",
              "      <td>1</td>\n",
              "      <td>30</td>\n",
              "      <td>420.481666</td>\n",
              "      <td>...</td>\n",
              "      <td>0</td>\n",
              "      <td>6</td>\n",
              "      <td>4.8023</td>\n",
              "      <td>1</td>\n",
              "      <td>118.9989</td>\n",
              "      <td>1</td>\n",
              "      <td>1</td>\n",
              "      <td>1</td>\n",
              "      <td>1</td>\n",
              "      <td>1</td>\n",
              "    </tr>\n",
              "    <tr>\n",
              "      <th>2</th>\n",
              "      <td>3</td>\n",
              "      <td>CCc1ccc(C(=O)COC(=O)CCc2nc(=O)c3ccccc3[nH]2)cc1</td>\n",
              "      <td>0</td>\n",
              "      <td>&lt;rdkit.Chem.rdchem.Mol object at 0x7f17ee165b30&gt;</td>\n",
              "      <td>0</td>\n",
              "      <td>7</td>\n",
              "      <td>4</td>\n",
              "      <td>0</td>\n",
              "      <td>27</td>\n",
              "      <td>364.395386</td>\n",
              "      <td>...</td>\n",
              "      <td>0</td>\n",
              "      <td>7</td>\n",
              "      <td>2.8442</td>\n",
              "      <td>0</td>\n",
              "      <td>101.7942</td>\n",
              "      <td>1</td>\n",
              "      <td>1</td>\n",
              "      <td>1</td>\n",
              "      <td>1</td>\n",
              "      <td>1</td>\n",
              "    </tr>\n",
              "    <tr>\n",
              "      <th>3</th>\n",
              "      <td>4</td>\n",
              "      <td>O=C(CN1CCOCC1)Nc1ccc(S(=O)(=O)N2CCCCCC2)cc1</td>\n",
              "      <td>0</td>\n",
              "      <td>&lt;rdkit.Chem.rdchem.Mol object at 0x7f17ee165ac0&gt;</td>\n",
              "      <td>0</td>\n",
              "      <td>12</td>\n",
              "      <td>4</td>\n",
              "      <td>3</td>\n",
              "      <td>26</td>\n",
              "      <td>381.490256</td>\n",
              "      <td>...</td>\n",
              "      <td>0</td>\n",
              "      <td>5</td>\n",
              "      <td>1.5220</td>\n",
              "      <td>0</td>\n",
              "      <td>99.5575</td>\n",
              "      <td>1</td>\n",
              "      <td>1</td>\n",
              "      <td>1</td>\n",
              "      <td>1</td>\n",
              "      <td>1</td>\n",
              "    </tr>\n",
              "    <tr>\n",
              "      <th>4</th>\n",
              "      <td>5</td>\n",
              "      <td>C=CCC(Nc1ccccc1)c1ccc(OC)c(OC)c1</td>\n",
              "      <td>0</td>\n",
              "      <td>&lt;rdkit.Chem.rdchem.Mol object at 0x7f17ee165a50&gt;</td>\n",
              "      <td>0</td>\n",
              "      <td>6</td>\n",
              "      <td>2</td>\n",
              "      <td>1</td>\n",
              "      <td>21</td>\n",
              "      <td>283.365594</td>\n",
              "      <td>...</td>\n",
              "      <td>0</td>\n",
              "      <td>7</td>\n",
              "      <td>4.4331</td>\n",
              "      <td>0</td>\n",
              "      <td>87.1657</td>\n",
              "      <td>1</td>\n",
              "      <td>1</td>\n",
              "      <td>1</td>\n",
              "      <td>1</td>\n",
              "      <td>1</td>\n",
              "    </tr>\n",
              "  </tbody>\n",
              "</table>\n",
              "<p>5 rows × 30 columns</p>\n",
              "</div>\n",
              "      <button class=\"colab-df-convert\" onclick=\"convertToInteractive('df-843b2e38-1328-4837-bb9d-649cb1b1781d')\"\n",
              "              title=\"Convert this dataframe to an interactive table.\"\n",
              "              style=\"display:none;\">\n",
              "        \n",
              "  <svg xmlns=\"http://www.w3.org/2000/svg\" height=\"24px\"viewBox=\"0 0 24 24\"\n",
              "       width=\"24px\">\n",
              "    <path d=\"M0 0h24v24H0V0z\" fill=\"none\"/>\n",
              "    <path d=\"M18.56 5.44l.94 2.06.94-2.06 2.06-.94-2.06-.94-.94-2.06-.94 2.06-2.06.94zm-11 1L8.5 8.5l.94-2.06 2.06-.94-2.06-.94L8.5 2.5l-.94 2.06-2.06.94zm10 10l.94 2.06.94-2.06 2.06-.94-2.06-.94-.94-2.06-.94 2.06-2.06.94z\"/><path d=\"M17.41 7.96l-1.37-1.37c-.4-.4-.92-.59-1.43-.59-.52 0-1.04.2-1.43.59L10.3 9.45l-7.72 7.72c-.78.78-.78 2.05 0 2.83L4 21.41c.39.39.9.59 1.41.59.51 0 1.02-.2 1.41-.59l7.78-7.78 2.81-2.81c.8-.78.8-2.07 0-2.86zM5.41 20L4 18.59l7.72-7.72 1.47 1.35L5.41 20z\"/>\n",
              "  </svg>\n",
              "      </button>\n",
              "      \n",
              "  <style>\n",
              "    .colab-df-container {\n",
              "      display:flex;\n",
              "      flex-wrap:wrap;\n",
              "      gap: 12px;\n",
              "    }\n",
              "\n",
              "    .colab-df-convert {\n",
              "      background-color: #E8F0FE;\n",
              "      border: none;\n",
              "      border-radius: 50%;\n",
              "      cursor: pointer;\n",
              "      display: none;\n",
              "      fill: #1967D2;\n",
              "      height: 32px;\n",
              "      padding: 0 0 0 0;\n",
              "      width: 32px;\n",
              "    }\n",
              "\n",
              "    .colab-df-convert:hover {\n",
              "      background-color: #E2EBFA;\n",
              "      box-shadow: 0px 1px 2px rgba(60, 64, 67, 0.3), 0px 1px 3px 1px rgba(60, 64, 67, 0.15);\n",
              "      fill: #174EA6;\n",
              "    }\n",
              "\n",
              "    [theme=dark] .colab-df-convert {\n",
              "      background-color: #3B4455;\n",
              "      fill: #D2E3FC;\n",
              "    }\n",
              "\n",
              "    [theme=dark] .colab-df-convert:hover {\n",
              "      background-color: #434B5C;\n",
              "      box-shadow: 0px 1px 3px 1px rgba(0, 0, 0, 0.15);\n",
              "      filter: drop-shadow(0px 1px 2px rgba(0, 0, 0, 0.3));\n",
              "      fill: #FFFFFF;\n",
              "    }\n",
              "  </style>\n",
              "\n",
              "      <script>\n",
              "        const buttonEl =\n",
              "          document.querySelector('#df-843b2e38-1328-4837-bb9d-649cb1b1781d button.colab-df-convert');\n",
              "        buttonEl.style.display =\n",
              "          google.colab.kernel.accessAllowed ? 'block' : 'none';\n",
              "\n",
              "        async function convertToInteractive(key) {\n",
              "          const element = document.querySelector('#df-843b2e38-1328-4837-bb9d-649cb1b1781d');\n",
              "          const dataTable =\n",
              "            await google.colab.kernel.invokeFunction('convertToInteractive',\n",
              "                                                     [key], {});\n",
              "          if (!dataTable) return;\n",
              "\n",
              "          const docLinkHtml = 'Like what you see? Visit the ' +\n",
              "            '<a target=\"_blank\" href=https://colab.research.google.com/notebooks/data_table.ipynb>data table notebook</a>'\n",
              "            + ' to learn more about interactive tables.';\n",
              "          element.innerHTML = '';\n",
              "          dataTable['output_type'] = 'display_data';\n",
              "          await google.colab.output.renderOutput(dataTable, element);\n",
              "          const docLink = document.createElement('div');\n",
              "          docLink.innerHTML = docLinkHtml;\n",
              "          element.appendChild(docLink);\n",
              "        }\n",
              "      </script>\n",
              "    </div>\n",
              "  </div>\n",
              "  "
            ]
          },
          "metadata": {},
          "execution_count": 37
        }
      ],
      "source": [
        "train_data.head()"
      ]
    },
    {
      "cell_type": "code",
      "execution_count": null,
      "metadata": {
        "id": "42SNxeOabgwo"
      },
      "outputs": [],
      "source": [
        "from sklearn.preprocessing import StandardScaler\n",
        "from sklearn.pipeline import make_pipeline\n",
        "\n",
        "from sklearn.metrics import accuracy_score, f1_score, roc_auc_score\n",
        "from sklearn.model_selection import train_test_split\n",
        "from sklearn.model_selection import cross_val_score\n",
        "from sklearn.model_selection import StratifiedKFold, KFold\n",
        "\n",
        "from imblearn.over_sampling import SMOTE, RandomOverSampler\n",
        "from sklearn.naive_bayes import GaussianNB\n",
        "from sklearn.linear_model import LogisticRegression\n",
        "from sklearn.ensemble import RandomForestClassifier\n",
        "from xgboost import XGBClassifier\n",
        "\n",
        "import numpy as np\n",
        "import matplotlib.pyplot as plt"
      ]
    },
    {
      "cell_type": "markdown",
      "metadata": {
        "id": "Vz1DISEwyqG3"
      },
      "source": [
        "## Fingerprint length optimization"
      ]
    },
    {
      "cell_type": "code",
      "execution_count": null,
      "metadata": {
        "colab": {
          "base_uri": "https://localhost:8080/",
          "height": 382
        },
        "id": "Wli0TLCjyp2M",
        "outputId": "407eee3d-7360-452e-8100-c996dbda2b71"
      },
      "outputs": [
        {
          "ename": "KeyboardInterrupt",
          "evalue": "ignored",
          "output_type": "error",
          "traceback": [
            "\u001b[0;31m---------------------------------------------------------------------------\u001b[0m",
            "\u001b[0;31mKeyboardInterrupt\u001b[0m                         Traceback (most recent call last)",
            "\u001b[0;32m<ipython-input-10-c88d36f8956d>\u001b[0m in \u001b[0;36m<module>\u001b[0;34m\u001b[0m\n\u001b[1;32m     68\u001b[0m \u001b[0;34m\u001b[0m\u001b[0m\n\u001b[1;32m     69\u001b[0m       \u001b[0mrfc\u001b[0m \u001b[0;34m=\u001b[0m \u001b[0mmake_pipeline\u001b[0m\u001b[0;34m(\u001b[0m\u001b[0mStandardScaler\u001b[0m\u001b[0;34m(\u001b[0m\u001b[0;34m)\u001b[0m\u001b[0;34m,\u001b[0m \u001b[0mRandomForestClassifier\u001b[0m\u001b[0;34m(\u001b[0m\u001b[0mn_estimators\u001b[0m\u001b[0;34m=\u001b[0m\u001b[0mn\u001b[0m\u001b[0;34m)\u001b[0m\u001b[0;34m)\u001b[0m\u001b[0;34m\u001b[0m\u001b[0;34m\u001b[0m\u001b[0m\n\u001b[0;32m---> 70\u001b[0;31m       \u001b[0mrfc\u001b[0m\u001b[0;34m.\u001b[0m\u001b[0mfit\u001b[0m\u001b[0;34m(\u001b[0m\u001b[0mX_train\u001b[0m\u001b[0;34m,\u001b[0m \u001b[0my_train\u001b[0m\u001b[0;34m)\u001b[0m\u001b[0;34m\u001b[0m\u001b[0;34m\u001b[0m\u001b[0m\n\u001b[0m\u001b[1;32m     71\u001b[0m       \u001b[0my_valid_rfc\u001b[0m \u001b[0;34m=\u001b[0m \u001b[0mrfc\u001b[0m\u001b[0;34m.\u001b[0m\u001b[0mpredict\u001b[0m\u001b[0;34m(\u001b[0m\u001b[0mX_validation\u001b[0m\u001b[0;34m)\u001b[0m\u001b[0;34m\u001b[0m\u001b[0;34m\u001b[0m\u001b[0m\n\u001b[1;32m     72\u001b[0m \u001b[0;34m\u001b[0m\u001b[0m\n",
            "\u001b[0;32m/usr/local/lib/python3.8/dist-packages/sklearn/pipeline.py\u001b[0m in \u001b[0;36mfit\u001b[0;34m(self, X, y, **fit_params)\u001b[0m\n\u001b[1;32m    392\u001b[0m             \u001b[0;32mif\u001b[0m \u001b[0mself\u001b[0m\u001b[0;34m.\u001b[0m\u001b[0m_final_estimator\u001b[0m \u001b[0;34m!=\u001b[0m \u001b[0;34m\"passthrough\"\u001b[0m\u001b[0;34m:\u001b[0m\u001b[0;34m\u001b[0m\u001b[0;34m\u001b[0m\u001b[0m\n\u001b[1;32m    393\u001b[0m                 \u001b[0mfit_params_last_step\u001b[0m \u001b[0;34m=\u001b[0m \u001b[0mfit_params_steps\u001b[0m\u001b[0;34m[\u001b[0m\u001b[0mself\u001b[0m\u001b[0;34m.\u001b[0m\u001b[0msteps\u001b[0m\u001b[0;34m[\u001b[0m\u001b[0;34m-\u001b[0m\u001b[0;36m1\u001b[0m\u001b[0;34m]\u001b[0m\u001b[0;34m[\u001b[0m\u001b[0;36m0\u001b[0m\u001b[0;34m]\u001b[0m\u001b[0;34m]\u001b[0m\u001b[0;34m\u001b[0m\u001b[0;34m\u001b[0m\u001b[0m\n\u001b[0;32m--> 394\u001b[0;31m                 \u001b[0mself\u001b[0m\u001b[0;34m.\u001b[0m\u001b[0m_final_estimator\u001b[0m\u001b[0;34m.\u001b[0m\u001b[0mfit\u001b[0m\u001b[0;34m(\u001b[0m\u001b[0mXt\u001b[0m\u001b[0;34m,\u001b[0m \u001b[0my\u001b[0m\u001b[0;34m,\u001b[0m \u001b[0;34m**\u001b[0m\u001b[0mfit_params_last_step\u001b[0m\u001b[0;34m)\u001b[0m\u001b[0;34m\u001b[0m\u001b[0;34m\u001b[0m\u001b[0m\n\u001b[0m\u001b[1;32m    395\u001b[0m \u001b[0;34m\u001b[0m\u001b[0m\n\u001b[1;32m    396\u001b[0m         \u001b[0;32mreturn\u001b[0m \u001b[0mself\u001b[0m\u001b[0;34m\u001b[0m\u001b[0;34m\u001b[0m\u001b[0m\n",
            "\u001b[0;32m/usr/local/lib/python3.8/dist-packages/sklearn/ensemble/_forest.py\u001b[0m in \u001b[0;36mfit\u001b[0;34m(self, X, y, sample_weight)\u001b[0m\n\u001b[1;32m    448\u001b[0m             \u001b[0;31m# parallel_backend contexts set at a higher level,\u001b[0m\u001b[0;34m\u001b[0m\u001b[0;34m\u001b[0m\u001b[0;34m\u001b[0m\u001b[0m\n\u001b[1;32m    449\u001b[0m             \u001b[0;31m# since correctness does not rely on using threads.\u001b[0m\u001b[0;34m\u001b[0m\u001b[0;34m\u001b[0m\u001b[0;34m\u001b[0m\u001b[0m\n\u001b[0;32m--> 450\u001b[0;31m             trees = Parallel(\n\u001b[0m\u001b[1;32m    451\u001b[0m                 \u001b[0mn_jobs\u001b[0m\u001b[0;34m=\u001b[0m\u001b[0mself\u001b[0m\u001b[0;34m.\u001b[0m\u001b[0mn_jobs\u001b[0m\u001b[0;34m,\u001b[0m\u001b[0;34m\u001b[0m\u001b[0;34m\u001b[0m\u001b[0m\n\u001b[1;32m    452\u001b[0m                 \u001b[0mverbose\u001b[0m\u001b[0;34m=\u001b[0m\u001b[0mself\u001b[0m\u001b[0;34m.\u001b[0m\u001b[0mverbose\u001b[0m\u001b[0;34m,\u001b[0m\u001b[0;34m\u001b[0m\u001b[0;34m\u001b[0m\u001b[0m\n",
            "\u001b[0;32m/usr/local/lib/python3.8/dist-packages/joblib/parallel.py\u001b[0m in \u001b[0;36m__call__\u001b[0;34m(self, iterable)\u001b[0m\n\u001b[1;32m   1086\u001b[0m                 \u001b[0mself\u001b[0m\u001b[0;34m.\u001b[0m\u001b[0m_iterating\u001b[0m \u001b[0;34m=\u001b[0m \u001b[0mself\u001b[0m\u001b[0;34m.\u001b[0m\u001b[0m_original_iterator\u001b[0m \u001b[0;32mis\u001b[0m \u001b[0;32mnot\u001b[0m \u001b[0;32mNone\u001b[0m\u001b[0;34m\u001b[0m\u001b[0;34m\u001b[0m\u001b[0m\n\u001b[1;32m   1087\u001b[0m \u001b[0;34m\u001b[0m\u001b[0m\n\u001b[0;32m-> 1088\u001b[0;31m             \u001b[0;32mwhile\u001b[0m \u001b[0mself\u001b[0m\u001b[0;34m.\u001b[0m\u001b[0mdispatch_one_batch\u001b[0m\u001b[0;34m(\u001b[0m\u001b[0miterator\u001b[0m\u001b[0;34m)\u001b[0m\u001b[0;34m:\u001b[0m\u001b[0;34m\u001b[0m\u001b[0;34m\u001b[0m\u001b[0m\n\u001b[0m\u001b[1;32m   1089\u001b[0m                 \u001b[0;32mpass\u001b[0m\u001b[0;34m\u001b[0m\u001b[0;34m\u001b[0m\u001b[0m\n\u001b[1;32m   1090\u001b[0m \u001b[0;34m\u001b[0m\u001b[0m\n",
            "\u001b[0;32m/usr/local/lib/python3.8/dist-packages/joblib/parallel.py\u001b[0m in \u001b[0;36mdispatch_one_batch\u001b[0;34m(self, iterator)\u001b[0m\n\u001b[1;32m    899\u001b[0m                 \u001b[0;32mreturn\u001b[0m \u001b[0;32mFalse\u001b[0m\u001b[0;34m\u001b[0m\u001b[0;34m\u001b[0m\u001b[0m\n\u001b[1;32m    900\u001b[0m             \u001b[0;32melse\u001b[0m\u001b[0;34m:\u001b[0m\u001b[0;34m\u001b[0m\u001b[0;34m\u001b[0m\u001b[0m\n\u001b[0;32m--> 901\u001b[0;31m                 \u001b[0mself\u001b[0m\u001b[0;34m.\u001b[0m\u001b[0m_dispatch\u001b[0m\u001b[0;34m(\u001b[0m\u001b[0mtasks\u001b[0m\u001b[0;34m)\u001b[0m\u001b[0;34m\u001b[0m\u001b[0;34m\u001b[0m\u001b[0m\n\u001b[0m\u001b[1;32m    902\u001b[0m                 \u001b[0;32mreturn\u001b[0m \u001b[0;32mTrue\u001b[0m\u001b[0;34m\u001b[0m\u001b[0;34m\u001b[0m\u001b[0m\n\u001b[1;32m    903\u001b[0m \u001b[0;34m\u001b[0m\u001b[0m\n",
            "\u001b[0;32m/usr/local/lib/python3.8/dist-packages/joblib/parallel.py\u001b[0m in \u001b[0;36m_dispatch\u001b[0;34m(self, batch)\u001b[0m\n\u001b[1;32m    817\u001b[0m         \u001b[0;32mwith\u001b[0m \u001b[0mself\u001b[0m\u001b[0;34m.\u001b[0m\u001b[0m_lock\u001b[0m\u001b[0;34m:\u001b[0m\u001b[0;34m\u001b[0m\u001b[0;34m\u001b[0m\u001b[0m\n\u001b[1;32m    818\u001b[0m             \u001b[0mjob_idx\u001b[0m \u001b[0;34m=\u001b[0m \u001b[0mlen\u001b[0m\u001b[0;34m(\u001b[0m\u001b[0mself\u001b[0m\u001b[0;34m.\u001b[0m\u001b[0m_jobs\u001b[0m\u001b[0;34m)\u001b[0m\u001b[0;34m\u001b[0m\u001b[0;34m\u001b[0m\u001b[0m\n\u001b[0;32m--> 819\u001b[0;31m             \u001b[0mjob\u001b[0m \u001b[0;34m=\u001b[0m \u001b[0mself\u001b[0m\u001b[0;34m.\u001b[0m\u001b[0m_backend\u001b[0m\u001b[0;34m.\u001b[0m\u001b[0mapply_async\u001b[0m\u001b[0;34m(\u001b[0m\u001b[0mbatch\u001b[0m\u001b[0;34m,\u001b[0m \u001b[0mcallback\u001b[0m\u001b[0;34m=\u001b[0m\u001b[0mcb\u001b[0m\u001b[0;34m)\u001b[0m\u001b[0;34m\u001b[0m\u001b[0;34m\u001b[0m\u001b[0m\n\u001b[0m\u001b[1;32m    820\u001b[0m             \u001b[0;31m# A job can complete so quickly than its callback is\u001b[0m\u001b[0;34m\u001b[0m\u001b[0;34m\u001b[0m\u001b[0;34m\u001b[0m\u001b[0m\n\u001b[1;32m    821\u001b[0m             \u001b[0;31m# called before we get here, causing self._jobs to\u001b[0m\u001b[0;34m\u001b[0m\u001b[0;34m\u001b[0m\u001b[0;34m\u001b[0m\u001b[0m\n",
            "\u001b[0;32m/usr/local/lib/python3.8/dist-packages/joblib/_parallel_backends.py\u001b[0m in \u001b[0;36mapply_async\u001b[0;34m(self, func, callback)\u001b[0m\n\u001b[1;32m    206\u001b[0m     \u001b[0;32mdef\u001b[0m \u001b[0mapply_async\u001b[0m\u001b[0;34m(\u001b[0m\u001b[0mself\u001b[0m\u001b[0;34m,\u001b[0m \u001b[0mfunc\u001b[0m\u001b[0;34m,\u001b[0m \u001b[0mcallback\u001b[0m\u001b[0;34m=\u001b[0m\u001b[0;32mNone\u001b[0m\u001b[0;34m)\u001b[0m\u001b[0;34m:\u001b[0m\u001b[0;34m\u001b[0m\u001b[0;34m\u001b[0m\u001b[0m\n\u001b[1;32m    207\u001b[0m         \u001b[0;34m\"\"\"Schedule a func to be run\"\"\"\u001b[0m\u001b[0;34m\u001b[0m\u001b[0;34m\u001b[0m\u001b[0m\n\u001b[0;32m--> 208\u001b[0;31m         \u001b[0mresult\u001b[0m \u001b[0;34m=\u001b[0m \u001b[0mImmediateResult\u001b[0m\u001b[0;34m(\u001b[0m\u001b[0mfunc\u001b[0m\u001b[0;34m)\u001b[0m\u001b[0;34m\u001b[0m\u001b[0;34m\u001b[0m\u001b[0m\n\u001b[0m\u001b[1;32m    209\u001b[0m         \u001b[0;32mif\u001b[0m \u001b[0mcallback\u001b[0m\u001b[0;34m:\u001b[0m\u001b[0;34m\u001b[0m\u001b[0;34m\u001b[0m\u001b[0m\n\u001b[1;32m    210\u001b[0m             \u001b[0mcallback\u001b[0m\u001b[0;34m(\u001b[0m\u001b[0mresult\u001b[0m\u001b[0;34m)\u001b[0m\u001b[0;34m\u001b[0m\u001b[0;34m\u001b[0m\u001b[0m\n",
            "\u001b[0;32m/usr/local/lib/python3.8/dist-packages/joblib/_parallel_backends.py\u001b[0m in \u001b[0;36m__init__\u001b[0;34m(self, batch)\u001b[0m\n\u001b[1;32m    595\u001b[0m         \u001b[0;31m# Don't delay the application, to avoid keeping the input\u001b[0m\u001b[0;34m\u001b[0m\u001b[0;34m\u001b[0m\u001b[0;34m\u001b[0m\u001b[0m\n\u001b[1;32m    596\u001b[0m         \u001b[0;31m# arguments in memory\u001b[0m\u001b[0;34m\u001b[0m\u001b[0;34m\u001b[0m\u001b[0;34m\u001b[0m\u001b[0m\n\u001b[0;32m--> 597\u001b[0;31m         \u001b[0mself\u001b[0m\u001b[0;34m.\u001b[0m\u001b[0mresults\u001b[0m \u001b[0;34m=\u001b[0m \u001b[0mbatch\u001b[0m\u001b[0;34m(\u001b[0m\u001b[0;34m)\u001b[0m\u001b[0;34m\u001b[0m\u001b[0;34m\u001b[0m\u001b[0m\n\u001b[0m\u001b[1;32m    598\u001b[0m \u001b[0;34m\u001b[0m\u001b[0m\n\u001b[1;32m    599\u001b[0m     \u001b[0;32mdef\u001b[0m \u001b[0mget\u001b[0m\u001b[0;34m(\u001b[0m\u001b[0mself\u001b[0m\u001b[0;34m)\u001b[0m\u001b[0;34m:\u001b[0m\u001b[0;34m\u001b[0m\u001b[0;34m\u001b[0m\u001b[0m\n",
            "\u001b[0;32m/usr/local/lib/python3.8/dist-packages/joblib/parallel.py\u001b[0m in \u001b[0;36m__call__\u001b[0;34m(self)\u001b[0m\n\u001b[1;32m    286\u001b[0m         \u001b[0;31m# change the default number of processes to -1\u001b[0m\u001b[0;34m\u001b[0m\u001b[0;34m\u001b[0m\u001b[0;34m\u001b[0m\u001b[0m\n\u001b[1;32m    287\u001b[0m         \u001b[0;32mwith\u001b[0m \u001b[0mparallel_backend\u001b[0m\u001b[0;34m(\u001b[0m\u001b[0mself\u001b[0m\u001b[0;34m.\u001b[0m\u001b[0m_backend\u001b[0m\u001b[0;34m,\u001b[0m \u001b[0mn_jobs\u001b[0m\u001b[0;34m=\u001b[0m\u001b[0mself\u001b[0m\u001b[0;34m.\u001b[0m\u001b[0m_n_jobs\u001b[0m\u001b[0;34m)\u001b[0m\u001b[0;34m:\u001b[0m\u001b[0;34m\u001b[0m\u001b[0;34m\u001b[0m\u001b[0m\n\u001b[0;32m--> 288\u001b[0;31m             return [func(*args, **kwargs)\n\u001b[0m\u001b[1;32m    289\u001b[0m                     for func, args, kwargs in self.items]\n\u001b[1;32m    290\u001b[0m \u001b[0;34m\u001b[0m\u001b[0m\n",
            "\u001b[0;32m/usr/local/lib/python3.8/dist-packages/joblib/parallel.py\u001b[0m in \u001b[0;36m<listcomp>\u001b[0;34m(.0)\u001b[0m\n\u001b[1;32m    286\u001b[0m         \u001b[0;31m# change the default number of processes to -1\u001b[0m\u001b[0;34m\u001b[0m\u001b[0;34m\u001b[0m\u001b[0;34m\u001b[0m\u001b[0m\n\u001b[1;32m    287\u001b[0m         \u001b[0;32mwith\u001b[0m \u001b[0mparallel_backend\u001b[0m\u001b[0;34m(\u001b[0m\u001b[0mself\u001b[0m\u001b[0;34m.\u001b[0m\u001b[0m_backend\u001b[0m\u001b[0;34m,\u001b[0m \u001b[0mn_jobs\u001b[0m\u001b[0;34m=\u001b[0m\u001b[0mself\u001b[0m\u001b[0;34m.\u001b[0m\u001b[0m_n_jobs\u001b[0m\u001b[0;34m)\u001b[0m\u001b[0;34m:\u001b[0m\u001b[0;34m\u001b[0m\u001b[0;34m\u001b[0m\u001b[0m\n\u001b[0;32m--> 288\u001b[0;31m             return [func(*args, **kwargs)\n\u001b[0m\u001b[1;32m    289\u001b[0m                     for func, args, kwargs in self.items]\n\u001b[1;32m    290\u001b[0m \u001b[0;34m\u001b[0m\u001b[0m\n",
            "\u001b[0;32m/usr/local/lib/python3.8/dist-packages/sklearn/utils/fixes.py\u001b[0m in \u001b[0;36m__call__\u001b[0;34m(self, *args, **kwargs)\u001b[0m\n\u001b[1;32m    214\u001b[0m     \u001b[0;32mdef\u001b[0m \u001b[0m__call__\u001b[0m\u001b[0;34m(\u001b[0m\u001b[0mself\u001b[0m\u001b[0;34m,\u001b[0m \u001b[0;34m*\u001b[0m\u001b[0margs\u001b[0m\u001b[0;34m,\u001b[0m \u001b[0;34m**\u001b[0m\u001b[0mkwargs\u001b[0m\u001b[0;34m)\u001b[0m\u001b[0;34m:\u001b[0m\u001b[0;34m\u001b[0m\u001b[0;34m\u001b[0m\u001b[0m\n\u001b[1;32m    215\u001b[0m         \u001b[0;32mwith\u001b[0m \u001b[0mconfig_context\u001b[0m\u001b[0;34m(\u001b[0m\u001b[0;34m**\u001b[0m\u001b[0mself\u001b[0m\u001b[0;34m.\u001b[0m\u001b[0mconfig\u001b[0m\u001b[0;34m)\u001b[0m\u001b[0;34m:\u001b[0m\u001b[0;34m\u001b[0m\u001b[0;34m\u001b[0m\u001b[0m\n\u001b[0;32m--> 216\u001b[0;31m             \u001b[0;32mreturn\u001b[0m \u001b[0mself\u001b[0m\u001b[0;34m.\u001b[0m\u001b[0mfunction\u001b[0m\u001b[0;34m(\u001b[0m\u001b[0;34m*\u001b[0m\u001b[0margs\u001b[0m\u001b[0;34m,\u001b[0m \u001b[0;34m**\u001b[0m\u001b[0mkwargs\u001b[0m\u001b[0;34m)\u001b[0m\u001b[0;34m\u001b[0m\u001b[0;34m\u001b[0m\u001b[0m\n\u001b[0m\u001b[1;32m    217\u001b[0m \u001b[0;34m\u001b[0m\u001b[0m\n\u001b[1;32m    218\u001b[0m \u001b[0;34m\u001b[0m\u001b[0m\n",
            "\u001b[0;32m/usr/local/lib/python3.8/dist-packages/sklearn/ensemble/_forest.py\u001b[0m in \u001b[0;36m_parallel_build_trees\u001b[0;34m(tree, forest, X, y, sample_weight, tree_idx, n_trees, verbose, class_weight, n_samples_bootstrap)\u001b[0m\n\u001b[1;32m    183\u001b[0m             \u001b[0mcurr_sample_weight\u001b[0m \u001b[0;34m*=\u001b[0m \u001b[0mcompute_sample_weight\u001b[0m\u001b[0;34m(\u001b[0m\u001b[0;34m\"balanced\"\u001b[0m\u001b[0;34m,\u001b[0m \u001b[0my\u001b[0m\u001b[0;34m,\u001b[0m \u001b[0mindices\u001b[0m\u001b[0;34m=\u001b[0m\u001b[0mindices\u001b[0m\u001b[0;34m)\u001b[0m\u001b[0;34m\u001b[0m\u001b[0;34m\u001b[0m\u001b[0m\n\u001b[1;32m    184\u001b[0m \u001b[0;34m\u001b[0m\u001b[0m\n\u001b[0;32m--> 185\u001b[0;31m         \u001b[0mtree\u001b[0m\u001b[0;34m.\u001b[0m\u001b[0mfit\u001b[0m\u001b[0;34m(\u001b[0m\u001b[0mX\u001b[0m\u001b[0;34m,\u001b[0m \u001b[0my\u001b[0m\u001b[0;34m,\u001b[0m \u001b[0msample_weight\u001b[0m\u001b[0;34m=\u001b[0m\u001b[0mcurr_sample_weight\u001b[0m\u001b[0;34m,\u001b[0m \u001b[0mcheck_input\u001b[0m\u001b[0;34m=\u001b[0m\u001b[0;32mFalse\u001b[0m\u001b[0;34m)\u001b[0m\u001b[0;34m\u001b[0m\u001b[0;34m\u001b[0m\u001b[0m\n\u001b[0m\u001b[1;32m    186\u001b[0m     \u001b[0;32melse\u001b[0m\u001b[0;34m:\u001b[0m\u001b[0;34m\u001b[0m\u001b[0;34m\u001b[0m\u001b[0m\n\u001b[1;32m    187\u001b[0m         \u001b[0mtree\u001b[0m\u001b[0;34m.\u001b[0m\u001b[0mfit\u001b[0m\u001b[0;34m(\u001b[0m\u001b[0mX\u001b[0m\u001b[0;34m,\u001b[0m \u001b[0my\u001b[0m\u001b[0;34m,\u001b[0m \u001b[0msample_weight\u001b[0m\u001b[0;34m=\u001b[0m\u001b[0msample_weight\u001b[0m\u001b[0;34m,\u001b[0m \u001b[0mcheck_input\u001b[0m\u001b[0;34m=\u001b[0m\u001b[0;32mFalse\u001b[0m\u001b[0;34m)\u001b[0m\u001b[0;34m\u001b[0m\u001b[0;34m\u001b[0m\u001b[0m\n",
            "\u001b[0;32m/usr/local/lib/python3.8/dist-packages/sklearn/tree/_classes.py\u001b[0m in \u001b[0;36mfit\u001b[0;34m(self, X, y, sample_weight, check_input, X_idx_sorted)\u001b[0m\n\u001b[1;32m    935\u001b[0m         \"\"\"\n\u001b[1;32m    936\u001b[0m \u001b[0;34m\u001b[0m\u001b[0m\n\u001b[0;32m--> 937\u001b[0;31m         super().fit(\n\u001b[0m\u001b[1;32m    938\u001b[0m             \u001b[0mX\u001b[0m\u001b[0;34m,\u001b[0m\u001b[0;34m\u001b[0m\u001b[0;34m\u001b[0m\u001b[0m\n\u001b[1;32m    939\u001b[0m             \u001b[0my\u001b[0m\u001b[0;34m,\u001b[0m\u001b[0;34m\u001b[0m\u001b[0;34m\u001b[0m\u001b[0m\n",
            "\u001b[0;32m/usr/local/lib/python3.8/dist-packages/sklearn/tree/_classes.py\u001b[0m in \u001b[0;36mfit\u001b[0;34m(self, X, y, sample_weight, check_input, X_idx_sorted)\u001b[0m\n\u001b[1;32m    418\u001b[0m             )\n\u001b[1;32m    419\u001b[0m \u001b[0;34m\u001b[0m\u001b[0m\n\u001b[0;32m--> 420\u001b[0;31m         \u001b[0mbuilder\u001b[0m\u001b[0;34m.\u001b[0m\u001b[0mbuild\u001b[0m\u001b[0;34m(\u001b[0m\u001b[0mself\u001b[0m\u001b[0;34m.\u001b[0m\u001b[0mtree_\u001b[0m\u001b[0;34m,\u001b[0m \u001b[0mX\u001b[0m\u001b[0;34m,\u001b[0m \u001b[0my\u001b[0m\u001b[0;34m,\u001b[0m \u001b[0msample_weight\u001b[0m\u001b[0;34m)\u001b[0m\u001b[0;34m\u001b[0m\u001b[0;34m\u001b[0m\u001b[0m\n\u001b[0m\u001b[1;32m    421\u001b[0m \u001b[0;34m\u001b[0m\u001b[0m\n\u001b[1;32m    422\u001b[0m         \u001b[0;32mif\u001b[0m \u001b[0mself\u001b[0m\u001b[0;34m.\u001b[0m\u001b[0mn_outputs_\u001b[0m \u001b[0;34m==\u001b[0m \u001b[0;36m1\u001b[0m \u001b[0;32mand\u001b[0m \u001b[0mis_classifier\u001b[0m\u001b[0;34m(\u001b[0m\u001b[0mself\u001b[0m\u001b[0;34m)\u001b[0m\u001b[0;34m:\u001b[0m\u001b[0;34m\u001b[0m\u001b[0;34m\u001b[0m\u001b[0m\n",
            "\u001b[0;31mKeyboardInterrupt\u001b[0m: "
          ]
        }
      ],
      "source": [
        "fp_sizes = [128, 512, 1024]\n",
        "\n",
        "n_estimators = [40, 60, 80, 100]\n",
        "\n",
        "fp_results = []\n",
        "\n",
        "n_runs = 30\n",
        "\n",
        "for fp_s in fp_sizes:\n",
        "\n",
        "  fingerprints_optim, fingerprint_features = extract_fingerprints(train_data, fp_s)\n",
        "\n",
        "  acc_nb = 0\n",
        "  f1_nb = 0\n",
        "  auc_nb = 0\n",
        "\n",
        "  acc_lr = 0\n",
        "  f1_lr = 0\n",
        "  auc_lr = 0\n",
        "\n",
        "  for i in range(n_runs): # run n_runs times and average the results\n",
        "    # create a train test split for current iteration\n",
        "    X_train, X_validation, y_train, y_validation = train_test_split(fingerprints_optim, train_data['ACTIVE'], test_size=0.3, random_state=i)\n",
        "\n",
        "    # fit and predict\n",
        "    nb = make_pipeline(StandardScaler(),GaussianNB())\n",
        "    nb.fit(X_train, y_train)\n",
        "    y_valid_nb = nb.predict(X_validation)\n",
        "\n",
        "    lr = make_pipeline(StandardScaler(),LogisticRegression())\n",
        "    lr.fit(X_train, y_train)\n",
        "    y_valid_lr = lr.predict(X_validation)\n",
        "\n",
        "    # store scores\n",
        "    acc_nb += accuracy_score(y_validation, y_valid_nb)\n",
        "    f1_nb += f1_score(y_validation, y_valid_nb)\n",
        "    auc_nb += roc_auc_score(y_validation, y_valid_nb)\n",
        "\n",
        "    acc_lr += accuracy_score(y_validation, y_valid_lr)\n",
        "    f1_lr += f1_score(y_validation, y_valid_lr)\n",
        "    auc_lr += roc_auc_score(y_validation, y_valid_lr)\n",
        "\n",
        "  acc_nb /= n_runs\n",
        "  f1_nb /= n_runs\n",
        "  auc_nb /= n_runs\n",
        "\n",
        "  acc_lr /= n_runs\n",
        "  f1_lr /= n_runs\n",
        "  auc_lr /= n_runs\n",
        "\n",
        "\n",
        "\n",
        "\n",
        "  # store results for current fp size in the dataframe\n",
        "  fp_results.append([fp_s, 'nb', acc_nb, f1_nb, auc_nb])\n",
        "  fp_results.append([fp_s, 'lr', acc_lr, f1_lr, auc_lr])\n",
        "\n",
        "\n",
        "  for n in n_estimators:\n",
        "\n",
        "    acc_rfc = 0\n",
        "    f1_rfc = 0\n",
        "    auc_rfc = 0\n",
        "\n",
        "    for i in range(n_runs): # run 50 times and average the results\n",
        "      # create a train test split for current iteration\n",
        "      X_train, X_validation, y_train, y_validation = train_test_split(fingerprints_optim, train_data['ACTIVE'], test_size=0.3, random_state=i)\n",
        "\n",
        "      rfc = make_pipeline(StandardScaler(), RandomForestClassifier(n_estimators=n))\n",
        "      rfc.fit(X_train, y_train)\n",
        "      y_valid_rfc = rfc.predict(X_validation)\n",
        "\n",
        "      acc_rfc += accuracy_score(y_validation, y_valid_rfc)\n",
        "      f1_rfc += f1_score(y_validation, y_valid_rfc)\n",
        "      auc_rfc += roc_auc_score(y_validation, y_valid_rfc)\n",
        "\n",
        "    acc_rfc /= n_runs\n",
        "    f1_rfc /= n_runs\n",
        "    auc_rfc /= n_runs\n",
        "\n",
        "    fp_results.append([fp_s, f'rfc_{n}', acc_rfc, f1_rfc, auc_rfc])\n",
        "\n",
        "\n",
        "\n",
        "rez = pd.DataFrame(data=fp_results, columns=['fp_size', 'classifier', 'acc', 'f1', 'auc'])\n"
      ]
    },
    {
      "cell_type": "code",
      "source": [
        "#rez.to_csv(FINGERPRINT_OPTIM_RES_PATH)"
      ],
      "metadata": {
        "id": "7KVHFEmKGTov"
      },
      "execution_count": null,
      "outputs": []
    },
    {
      "cell_type": "code",
      "execution_count": null,
      "metadata": {
        "colab": {
          "base_uri": "https://localhost:8080/",
          "height": 348
        },
        "id": "OQGpjIMJ5JHk",
        "outputId": "7c18ac8b-2a78-4e00-c0f8-2376a251d133"
      },
      "outputs": [
        {
          "output_type": "error",
          "ename": "FileNotFoundError",
          "evalue": "ignored",
          "traceback": [
            "\u001b[0;31m---------------------------------------------------------------------------\u001b[0m",
            "\u001b[0;31mFileNotFoundError\u001b[0m                         Traceback (most recent call last)",
            "\u001b[0;32m<ipython-input-36-bd3438a026b1>\u001b[0m in \u001b[0;36m<module>\u001b[0;34m\u001b[0m\n\u001b[0;32m----> 1\u001b[0;31m \u001b[0mfp_size_rez\u001b[0m \u001b[0;34m=\u001b[0m \u001b[0mpd\u001b[0m\u001b[0;34m.\u001b[0m\u001b[0mread_csv\u001b[0m\u001b[0;34m(\u001b[0m\u001b[0mFINGERPRINT_OPTIM_RES_PATH\u001b[0m\u001b[0;34m)\u001b[0m\u001b[0;34m\u001b[0m\u001b[0;34m\u001b[0m\u001b[0m\n\u001b[0m\u001b[1;32m      2\u001b[0m \u001b[0;34m\u001b[0m\u001b[0m\n\u001b[1;32m      3\u001b[0m \u001b[0mfp_size_rez\u001b[0m\u001b[0;34m.\u001b[0m\u001b[0msort_values\u001b[0m\u001b[0;34m(\u001b[0m\u001b[0;34m'auc'\u001b[0m\u001b[0;34m,\u001b[0m \u001b[0mascending\u001b[0m\u001b[0;34m=\u001b[0m\u001b[0;32mFalse\u001b[0m\u001b[0;34m)\u001b[0m\u001b[0;34m.\u001b[0m\u001b[0mhead\u001b[0m\u001b[0;34m(\u001b[0m\u001b[0;36m10\u001b[0m\u001b[0;34m)\u001b[0m\u001b[0;34m\u001b[0m\u001b[0;34m\u001b[0m\u001b[0m\n",
            "\u001b[0;32m/usr/local/lib/python3.8/dist-packages/pandas/util/_decorators.py\u001b[0m in \u001b[0;36mwrapper\u001b[0;34m(*args, **kwargs)\u001b[0m\n\u001b[1;32m    309\u001b[0m                     \u001b[0mstacklevel\u001b[0m\u001b[0;34m=\u001b[0m\u001b[0mstacklevel\u001b[0m\u001b[0;34m,\u001b[0m\u001b[0;34m\u001b[0m\u001b[0;34m\u001b[0m\u001b[0m\n\u001b[1;32m    310\u001b[0m                 )\n\u001b[0;32m--> 311\u001b[0;31m             \u001b[0;32mreturn\u001b[0m \u001b[0mfunc\u001b[0m\u001b[0;34m(\u001b[0m\u001b[0;34m*\u001b[0m\u001b[0margs\u001b[0m\u001b[0;34m,\u001b[0m \u001b[0;34m**\u001b[0m\u001b[0mkwargs\u001b[0m\u001b[0;34m)\u001b[0m\u001b[0;34m\u001b[0m\u001b[0;34m\u001b[0m\u001b[0m\n\u001b[0m\u001b[1;32m    312\u001b[0m \u001b[0;34m\u001b[0m\u001b[0m\n\u001b[1;32m    313\u001b[0m         \u001b[0;32mreturn\u001b[0m \u001b[0mwrapper\u001b[0m\u001b[0;34m\u001b[0m\u001b[0;34m\u001b[0m\u001b[0m\n",
            "\u001b[0;32m/usr/local/lib/python3.8/dist-packages/pandas/io/parsers/readers.py\u001b[0m in \u001b[0;36mread_csv\u001b[0;34m(filepath_or_buffer, sep, delimiter, header, names, index_col, usecols, squeeze, prefix, mangle_dupe_cols, dtype, engine, converters, true_values, false_values, skipinitialspace, skiprows, skipfooter, nrows, na_values, keep_default_na, na_filter, verbose, skip_blank_lines, parse_dates, infer_datetime_format, keep_date_col, date_parser, dayfirst, cache_dates, iterator, chunksize, compression, thousands, decimal, lineterminator, quotechar, quoting, doublequote, escapechar, comment, encoding, encoding_errors, dialect, error_bad_lines, warn_bad_lines, on_bad_lines, delim_whitespace, low_memory, memory_map, float_precision, storage_options)\u001b[0m\n\u001b[1;32m    584\u001b[0m     \u001b[0mkwds\u001b[0m\u001b[0;34m.\u001b[0m\u001b[0mupdate\u001b[0m\u001b[0;34m(\u001b[0m\u001b[0mkwds_defaults\u001b[0m\u001b[0;34m)\u001b[0m\u001b[0;34m\u001b[0m\u001b[0;34m\u001b[0m\u001b[0m\n\u001b[1;32m    585\u001b[0m \u001b[0;34m\u001b[0m\u001b[0m\n\u001b[0;32m--> 586\u001b[0;31m     \u001b[0;32mreturn\u001b[0m \u001b[0m_read\u001b[0m\u001b[0;34m(\u001b[0m\u001b[0mfilepath_or_buffer\u001b[0m\u001b[0;34m,\u001b[0m \u001b[0mkwds\u001b[0m\u001b[0;34m)\u001b[0m\u001b[0;34m\u001b[0m\u001b[0;34m\u001b[0m\u001b[0m\n\u001b[0m\u001b[1;32m    587\u001b[0m \u001b[0;34m\u001b[0m\u001b[0m\n\u001b[1;32m    588\u001b[0m \u001b[0;34m\u001b[0m\u001b[0m\n",
            "\u001b[0;32m/usr/local/lib/python3.8/dist-packages/pandas/io/parsers/readers.py\u001b[0m in \u001b[0;36m_read\u001b[0;34m(filepath_or_buffer, kwds)\u001b[0m\n\u001b[1;32m    480\u001b[0m \u001b[0;34m\u001b[0m\u001b[0m\n\u001b[1;32m    481\u001b[0m     \u001b[0;31m# Create the parser.\u001b[0m\u001b[0;34m\u001b[0m\u001b[0;34m\u001b[0m\u001b[0;34m\u001b[0m\u001b[0m\n\u001b[0;32m--> 482\u001b[0;31m     \u001b[0mparser\u001b[0m \u001b[0;34m=\u001b[0m \u001b[0mTextFileReader\u001b[0m\u001b[0;34m(\u001b[0m\u001b[0mfilepath_or_buffer\u001b[0m\u001b[0;34m,\u001b[0m \u001b[0;34m**\u001b[0m\u001b[0mkwds\u001b[0m\u001b[0;34m)\u001b[0m\u001b[0;34m\u001b[0m\u001b[0;34m\u001b[0m\u001b[0m\n\u001b[0m\u001b[1;32m    483\u001b[0m \u001b[0;34m\u001b[0m\u001b[0m\n\u001b[1;32m    484\u001b[0m     \u001b[0;32mif\u001b[0m \u001b[0mchunksize\u001b[0m \u001b[0;32mor\u001b[0m \u001b[0miterator\u001b[0m\u001b[0;34m:\u001b[0m\u001b[0;34m\u001b[0m\u001b[0;34m\u001b[0m\u001b[0m\n",
            "\u001b[0;32m/usr/local/lib/python3.8/dist-packages/pandas/io/parsers/readers.py\u001b[0m in \u001b[0;36m__init__\u001b[0;34m(self, f, engine, **kwds)\u001b[0m\n\u001b[1;32m    809\u001b[0m             \u001b[0mself\u001b[0m\u001b[0;34m.\u001b[0m\u001b[0moptions\u001b[0m\u001b[0;34m[\u001b[0m\u001b[0;34m\"has_index_names\"\u001b[0m\u001b[0;34m]\u001b[0m \u001b[0;34m=\u001b[0m \u001b[0mkwds\u001b[0m\u001b[0;34m[\u001b[0m\u001b[0;34m\"has_index_names\"\u001b[0m\u001b[0;34m]\u001b[0m\u001b[0;34m\u001b[0m\u001b[0;34m\u001b[0m\u001b[0m\n\u001b[1;32m    810\u001b[0m \u001b[0;34m\u001b[0m\u001b[0m\n\u001b[0;32m--> 811\u001b[0;31m         \u001b[0mself\u001b[0m\u001b[0;34m.\u001b[0m\u001b[0m_engine\u001b[0m \u001b[0;34m=\u001b[0m \u001b[0mself\u001b[0m\u001b[0;34m.\u001b[0m\u001b[0m_make_engine\u001b[0m\u001b[0;34m(\u001b[0m\u001b[0mself\u001b[0m\u001b[0;34m.\u001b[0m\u001b[0mengine\u001b[0m\u001b[0;34m)\u001b[0m\u001b[0;34m\u001b[0m\u001b[0;34m\u001b[0m\u001b[0m\n\u001b[0m\u001b[1;32m    812\u001b[0m \u001b[0;34m\u001b[0m\u001b[0m\n\u001b[1;32m    813\u001b[0m     \u001b[0;32mdef\u001b[0m \u001b[0mclose\u001b[0m\u001b[0;34m(\u001b[0m\u001b[0mself\u001b[0m\u001b[0;34m)\u001b[0m\u001b[0;34m:\u001b[0m\u001b[0;34m\u001b[0m\u001b[0;34m\u001b[0m\u001b[0m\n",
            "\u001b[0;32m/usr/local/lib/python3.8/dist-packages/pandas/io/parsers/readers.py\u001b[0m in \u001b[0;36m_make_engine\u001b[0;34m(self, engine)\u001b[0m\n\u001b[1;32m   1038\u001b[0m             )\n\u001b[1;32m   1039\u001b[0m         \u001b[0;31m# error: Too many arguments for \"ParserBase\"\u001b[0m\u001b[0;34m\u001b[0m\u001b[0;34m\u001b[0m\u001b[0;34m\u001b[0m\u001b[0m\n\u001b[0;32m-> 1040\u001b[0;31m         \u001b[0;32mreturn\u001b[0m \u001b[0mmapping\u001b[0m\u001b[0;34m[\u001b[0m\u001b[0mengine\u001b[0m\u001b[0;34m]\u001b[0m\u001b[0;34m(\u001b[0m\u001b[0mself\u001b[0m\u001b[0;34m.\u001b[0m\u001b[0mf\u001b[0m\u001b[0;34m,\u001b[0m \u001b[0;34m**\u001b[0m\u001b[0mself\u001b[0m\u001b[0;34m.\u001b[0m\u001b[0moptions\u001b[0m\u001b[0;34m)\u001b[0m  \u001b[0;31m# type: ignore[call-arg]\u001b[0m\u001b[0;34m\u001b[0m\u001b[0;34m\u001b[0m\u001b[0m\n\u001b[0m\u001b[1;32m   1041\u001b[0m \u001b[0;34m\u001b[0m\u001b[0m\n\u001b[1;32m   1042\u001b[0m     \u001b[0;32mdef\u001b[0m \u001b[0m_failover_to_python\u001b[0m\u001b[0;34m(\u001b[0m\u001b[0mself\u001b[0m\u001b[0;34m)\u001b[0m\u001b[0;34m:\u001b[0m\u001b[0;34m\u001b[0m\u001b[0;34m\u001b[0m\u001b[0m\n",
            "\u001b[0;32m/usr/local/lib/python3.8/dist-packages/pandas/io/parsers/c_parser_wrapper.py\u001b[0m in \u001b[0;36m__init__\u001b[0;34m(self, src, **kwds)\u001b[0m\n\u001b[1;32m     49\u001b[0m \u001b[0;34m\u001b[0m\u001b[0m\n\u001b[1;32m     50\u001b[0m         \u001b[0;31m# open handles\u001b[0m\u001b[0;34m\u001b[0m\u001b[0;34m\u001b[0m\u001b[0;34m\u001b[0m\u001b[0m\n\u001b[0;32m---> 51\u001b[0;31m         \u001b[0mself\u001b[0m\u001b[0;34m.\u001b[0m\u001b[0m_open_handles\u001b[0m\u001b[0;34m(\u001b[0m\u001b[0msrc\u001b[0m\u001b[0;34m,\u001b[0m \u001b[0mkwds\u001b[0m\u001b[0;34m)\u001b[0m\u001b[0;34m\u001b[0m\u001b[0;34m\u001b[0m\u001b[0m\n\u001b[0m\u001b[1;32m     52\u001b[0m         \u001b[0;32massert\u001b[0m \u001b[0mself\u001b[0m\u001b[0;34m.\u001b[0m\u001b[0mhandles\u001b[0m \u001b[0;32mis\u001b[0m \u001b[0;32mnot\u001b[0m \u001b[0;32mNone\u001b[0m\u001b[0;34m\u001b[0m\u001b[0;34m\u001b[0m\u001b[0m\n\u001b[1;32m     53\u001b[0m \u001b[0;34m\u001b[0m\u001b[0m\n",
            "\u001b[0;32m/usr/local/lib/python3.8/dist-packages/pandas/io/parsers/base_parser.py\u001b[0m in \u001b[0;36m_open_handles\u001b[0;34m(self, src, kwds)\u001b[0m\n\u001b[1;32m    220\u001b[0m         \u001b[0mLet\u001b[0m \u001b[0mthe\u001b[0m \u001b[0mreaders\u001b[0m \u001b[0mopen\u001b[0m \u001b[0mIOHandles\u001b[0m \u001b[0mafter\u001b[0m \u001b[0mthey\u001b[0m \u001b[0mare\u001b[0m \u001b[0mdone\u001b[0m \u001b[0;32mwith\u001b[0m \u001b[0mtheir\u001b[0m \u001b[0mpotential\u001b[0m \u001b[0mraises\u001b[0m\u001b[0;34m.\u001b[0m\u001b[0;34m\u001b[0m\u001b[0;34m\u001b[0m\u001b[0m\n\u001b[1;32m    221\u001b[0m         \"\"\"\n\u001b[0;32m--> 222\u001b[0;31m         self.handles = get_handle(\n\u001b[0m\u001b[1;32m    223\u001b[0m             \u001b[0msrc\u001b[0m\u001b[0;34m,\u001b[0m\u001b[0;34m\u001b[0m\u001b[0;34m\u001b[0m\u001b[0m\n\u001b[1;32m    224\u001b[0m             \u001b[0;34m\"r\"\u001b[0m\u001b[0;34m,\u001b[0m\u001b[0;34m\u001b[0m\u001b[0;34m\u001b[0m\u001b[0m\n",
            "\u001b[0;32m/usr/local/lib/python3.8/dist-packages/pandas/io/common.py\u001b[0m in \u001b[0;36mget_handle\u001b[0;34m(path_or_buf, mode, encoding, compression, memory_map, is_text, errors, storage_options)\u001b[0m\n\u001b[1;32m    700\u001b[0m         \u001b[0;32mif\u001b[0m \u001b[0mioargs\u001b[0m\u001b[0;34m.\u001b[0m\u001b[0mencoding\u001b[0m \u001b[0;32mand\u001b[0m \u001b[0;34m\"b\"\u001b[0m \u001b[0;32mnot\u001b[0m \u001b[0;32min\u001b[0m \u001b[0mioargs\u001b[0m\u001b[0;34m.\u001b[0m\u001b[0mmode\u001b[0m\u001b[0;34m:\u001b[0m\u001b[0;34m\u001b[0m\u001b[0;34m\u001b[0m\u001b[0m\n\u001b[1;32m    701\u001b[0m             \u001b[0;31m# Encoding\u001b[0m\u001b[0;34m\u001b[0m\u001b[0;34m\u001b[0m\u001b[0;34m\u001b[0m\u001b[0m\n\u001b[0;32m--> 702\u001b[0;31m             handle = open(\n\u001b[0m\u001b[1;32m    703\u001b[0m                 \u001b[0mhandle\u001b[0m\u001b[0;34m,\u001b[0m\u001b[0;34m\u001b[0m\u001b[0;34m\u001b[0m\u001b[0m\n\u001b[1;32m    704\u001b[0m                 \u001b[0mioargs\u001b[0m\u001b[0;34m.\u001b[0m\u001b[0mmode\u001b[0m\u001b[0;34m,\u001b[0m\u001b[0;34m\u001b[0m\u001b[0;34m\u001b[0m\u001b[0m\n",
            "\u001b[0;31mFileNotFoundError\u001b[0m: [Errno 2] No such file or directory: '/content/gdrive/My Drive/ID2214/fingerprints_size_opt.csv'"
          ]
        }
      ],
      "source": [
        "fp_size_rez = pd.read_csv(FINGERPRINT_OPTIM_RES_PATH)\n",
        "\n",
        "fp_size_rez.sort_values('auc', ascending=False).head(10)\n"
      ]
    },
    {
      "cell_type": "code",
      "execution_count": null,
      "metadata": {
        "id": "RKfqPQILXteG"
      },
      "outputs": [],
      "source": [
        "# Train and validation split\n",
        "\n",
        "seed = 10\n",
        "X_train, X_validation, y_train, y_validation = train_test_split(train_data.drop(['INDEX', 'SMILES', 'MOL', 'ACTIVE'], axis=1), train_data['ACTIVE'], test_size=0.3, random_state=seed)"
      ]
    },
    {
      "cell_type": "markdown",
      "metadata": {
        "id": "dKUy2r0GmTXb"
      },
      "source": [
        "## Custom feature selection\n",
        "\n",
        "In order to determine the quality of custom extracted features we perform feature selection\n",
        "\n",
        "For this we use Random Forest Classifier"
      ]
    },
    {
      "cell_type": "code",
      "execution_count": null,
      "metadata": {
        "id": "dZI0FS0ioMv7"
      },
      "outputs": [],
      "source": [
        "X, y = train_data[custom_features_all], train_data['ACTIVE']\n",
        "\n",
        "rfc = RandomForestClassifier()\n",
        "\n",
        "rfc.fit(X, y)\n",
        "\n",
        "importances = rfc.feature_importances_\n",
        "std = np.std([tree.feature_importances_ for tree in rfc.estimators_], axis=0)\n"
      ]
    },
    {
      "cell_type": "code",
      "execution_count": null,
      "metadata": {
        "colab": {
          "base_uri": "https://localhost:8080/",
          "height": 297
        },
        "id": "hfaCL3qoq4SU",
        "outputId": "c693e613-41e3-4dff-8443-afebd407b164"
      },
      "outputs": [
        {
          "output_type": "display_data",
          "data": {
            "text/plain": [
              "<Figure size 432x288 with 1 Axes>"
            ],
            "image/png": "[encoded data removed]"
          },
          "metadata": {
            "needs_background": "light"
          }
        }
      ],
      "source": [
        "\n",
        "forest_importances = pd.Series(importances, index=custom_features_all)\n",
        "\n",
        "\n",
        "fig, ax = plt.subplots()\n",
        "forest_importances.plot.bar(yerr=std, ax=ax)\n",
        "ax.set_title(\"Feature importances using MDI\")\n",
        "ax.set_ylabel(\"Mean decrease in impurity\")\n",
        "fig.tight_layout()"
      ]
    },
    {
      "cell_type": "markdown",
      "source": [
        "### Determining model performance with different subsets of custom featureset\n",
        "\n",
        "The feature set is defined with regards to the threshold on mean decrease in impurity"
      ],
      "metadata": {
        "id": "BOAEDcznzvcU"
      }
    },
    {
      "cell_type": "code",
      "execution_count": null,
      "metadata": {
        "id": "VdoPzyzFUe1D"
      },
      "outputs": [],
      "source": [
        "def train_validate_model(classifier, classifier_name, X, y,storage, print_rez=True):\n",
        "\n",
        "  pipe = make_pipeline(StandardScaler(), classifier)\n",
        "\n",
        "  # perform cross validation\n",
        "  y_train = []\n",
        "  y_pred = []\n",
        "\n",
        "  cv = StratifiedKFold(n_splits=6)\n",
        "  for fold, (train, valid) in enumerate(cv.split(X, y)):\n",
        "\n",
        "    pipe.fit(X.loc[train], y.loc[train])\n",
        "\n",
        "    y_train.extend(y.loc[valid].tolist())\n",
        "    y_pred.extend(pipe.predict(X.loc[valid]))\n",
        "\n",
        "  acc= accuracy_score(y_train, y_pred)\n",
        "  f1= f1_score(y_train, y_pred)\n",
        "\n",
        "  auc = roc_auc_score(y_train, y_pred)\n",
        "\n",
        "  if print_rez:\n",
        "    print(f'{classifier_name} :')\n",
        "    print(f'Accuracy: {acc}  F1: {f1}')\n",
        "    print(f'AUC = {auc}')\n",
        "\n",
        "  \n",
        "  storage.append([classifier_name, acc, f1, auc])\n",
        "\n",
        "  return acc, f1, auc\n"
      ]
    },
    {
      "cell_type": "code",
      "source": [
        "thresholds = [0.01, 0.015, 0.02, 0.05, 0.1, 0.15]\n",
        "\n",
        "res = [] # features, classifier, acc, f1, auc\n",
        "n_runs = 1\n",
        "\n",
        "y = train_data['ACTIVE']\n",
        "smote = SMOTE(sampling_strategy=0.2, random_state=10)\n",
        "\n",
        "n = 30\n",
        "\n",
        "\n",
        "for t in thresholds:\n",
        "  feats = forest_importances.loc[lambda x : x > t].index.tolist()   \n",
        "  X = train_data[feats]\n",
        "\n",
        "  X_smote, y_smote = smote.fit_resample(X, y)\n",
        "  \n",
        "  acc_smote = 0\n",
        "  f1_smote = 0\n",
        "  auc_smote = 0\n",
        "\n",
        "  print(t)\n",
        "  for i in range(n_runs):\n",
        "    classifier = RandomForestClassifier(n_estimators=n)\n",
        "    acc, f1, auc = train_validate_model(classifier, f'RFC_{n} - smote', X_smote, y_smote, [], print_rez=False)\n",
        "\n",
        "    acc_smote += acc\n",
        "    f1_smote += f1\n",
        "    auc_smote += auc\n",
        "\n",
        "  res.append(['RFC-smote', acc_smote/n_runs, f1_smote/n_runs, auc_smote/n_runs, feats])\n",
        "\n",
        "\n",
        "features_optim = pd.DataFrame(data=res, columns=['classifier', 'acc', 'f1', 'auc', 'features'])\n"
      ],
      "metadata": {
        "id": "IPU77AmQzvE4"
      },
      "execution_count": null,
      "outputs": []
    },
    {
      "cell_type": "code",
      "source": [
        "#features_optim.to_csv(FEATURES_OPTIM_RES_PATH)\n",
        "\n",
        "features_optim = pd.read_csv(FEATURES_OPTIM_RES_PATH)\n",
        "\n",
        "custom_features = features_optim.loc[2, 'features'][1:-1].replace('\\'', '').split(', ')\n",
        "\n",
        "print(custom_features)\n",
        "\n",
        "fp_features = [f'fp_{i}' for i in range(512)]\n"
      ],
      "metadata": {
        "id": "2PwMRESj_VYm",
        "colab": {
          "base_uri": "https://localhost:8080/"
        },
        "outputId": "e96b3c9c-2939-4e00-d84b-f2ba77888ed2"
      },
      "execution_count": null,
      "outputs": [
        {
          "output_type": "stream",
          "name": "stdout",
          "text": [
            "['MASS', 'NUM_C', 'NUM_O', 'NUM_N', 'NUM_HEAVY', 'ACCEPTORS', 'DONORS', 'NUM_NHOH', 'NUM_RINGS', 'NUM_AROM_RINGS', 'ROTATABLE_BONDS', 'LOG_P', 'MR']\n"
          ]
        }
      ]
    },
    {
      "cell_type": "markdown",
      "metadata": {
        "id": "qUORc0Aqn1h1"
      },
      "source": [
        "# Models\n",
        "\n",
        "- Logistic regression\n",
        "- Naive Bayes\n",
        "- Random Forest\n",
        "- XGBoost\n"
      ]
    },
    {
      "cell_type": "code",
      "source": [
        "custom_features_res = []\n",
        "fingerprint_res = []\n",
        "combined_res = []"
      ],
      "metadata": {
        "id": "fJua_GFG9-Jx"
      },
      "execution_count": null,
      "outputs": []
    },
    {
      "cell_type": "code",
      "source": [
        "# storing dataset on the disc\n",
        "\n",
        "#train_data.to_csv(TRAIN_DATASET_PREPARED_PATH)"
      ],
      "metadata": {
        "id": "Ivirdm7h_JC0"
      },
      "execution_count": null,
      "outputs": []
    },
    {
      "cell_type": "code",
      "source": [
        "train_data = pd.read_csv(TRAIN_DATASET_PREPARED_PATH, dtype = {'ACTIVE': int})\n",
        "train_data.head()"
      ],
      "metadata": {
        "colab": {
          "base_uri": "https://localhost:8080/",
          "height": 491
        },
        "id": "BvkXvHqW_1bo",
        "outputId": "0fe8c98c-cc24-408b-98dd-da4dfe673e59"
      },
      "execution_count": null,
      "outputs": [
        {
          "output_type": "execute_result",
          "data": {
            "text/plain": [
              "   Unnamed: 0  Unnamed: 0.1  INDEX  \\\n",
              "0           0             0      1   \n",
              "1           1             1      2   \n",
              "2           2             2      3   \n",
              "3           3             3      4   \n",
              "4           4             4      5   \n",
              "\n",
              "                                              SMILES  ACTIVE  \\\n",
              "0               CC(C)N1CC(=O)C(c2nc3ccccc3[nH]2)=C1N       0   \n",
              "1  COc1ccc(-c2ccc3c(N)c(C(=O)c4ccc(OC)c(OC)c4)sc3...       0   \n",
              "2    CCc1ccc(C(=O)COC(=O)CCc2nc(=O)c3ccccc3[nH]2)cc1       0   \n",
              "3        O=C(CN1CCOCC1)Nc1ccc(S(=O)(=O)N2CCCCCC2)cc1       0   \n",
              "4                   C=CCC(Nc1ccccc1)c1ccc(OC)c(OC)c1       0   \n",
              "\n",
              "                                                MOL  CHARGE  NUM_C  NUM_O  \\\n",
              "0  <rdkit.Chem.rdchem.Mol object at 0x7f7363351ac0>       0      7      1   \n",
              "1  <rdkit.Chem.rdchem.Mol object at 0x7f7363351b30>       0      4      4   \n",
              "2  <rdkit.Chem.rdchem.Mol object at 0x7f7363351820>       0      7      4   \n",
              "3  <rdkit.Chem.rdchem.Mol object at 0x7f7363351510>       0     12      4   \n",
              "4  <rdkit.Chem.rdchem.Mol object at 0x7f73633515f0>       0      6      2   \n",
              "\n",
              "   NUM_N  ...  fp_502  fp_503  fp_504  fp_505  fp_506  fp_507  fp_508  fp_509  \\\n",
              "0      2  ...       0       0       0       0       0       0       0       0   \n",
              "1      1  ...       0       0       0       0       0       0       0       0   \n",
              "2      0  ...       0       0       0       0       0       0       0       0   \n",
              "3      3  ...       0       0       0       0       0       0       0       0   \n",
              "4      1  ...       0       0       0       0       0       0       0       0   \n",
              "\n",
              "   fp_510  fp_511  \n",
              "0       0       0  \n",
              "1       0       1  \n",
              "2       0       0  \n",
              "3       0       0  \n",
              "4       0       0  \n",
              "\n",
              "[5 rows x 538 columns]"
            ],
            "text/html": [
              "\n",
              "  <div id=\"df-f26b4d11-c01b-412c-85d3-150f3ee77cc1\">\n",
              "    <div class=\"colab-df-container\">\n",
              "      <div>\n",
              "<style scoped>\n",
              "    .dataframe tbody tr th:only-of-type {\n",
              "        vertical-align: middle;\n",
              "    }\n",
              "\n",
              "    .dataframe tbody tr th {\n",
              "        vertical-align: top;\n",
              "    }\n",
              "\n",
              "    .dataframe thead th {\n",
              "        text-align: right;\n",
              "    }\n",
              "</style>\n",
              "<table border=\"1\" class=\"dataframe\">\n",
              "  <thead>\n",
              "    <tr style=\"text-align: right;\">\n",
              "      <th></th>\n",
              "      <th>Unnamed: 0</th>\n",
              "      <th>Unnamed: 0.1</th>\n",
              "      <th>INDEX</th>\n",
              "      <th>SMILES</th>\n",
              "      <th>ACTIVE</th>\n",
              "      <th>MOL</th>\n",
              "      <th>CHARGE</th>\n",
              "      <th>NUM_C</th>\n",
              "      <th>NUM_O</th>\n",
              "      <th>NUM_N</th>\n",
              "      <th>...</th>\n",
              "      <th>fp_502</th>\n",
              "      <th>fp_503</th>\n",
              "      <th>fp_504</th>\n",
              "      <th>fp_505</th>\n",
              "      <th>fp_506</th>\n",
              "      <th>fp_507</th>\n",
              "      <th>fp_508</th>\n",
              "      <th>fp_509</th>\n",
              "      <th>fp_510</th>\n",
              "      <th>fp_511</th>\n",
              "    </tr>\n",
              "  </thead>\n",
              "  <tbody>\n",
              "    <tr>\n",
              "      <th>0</th>\n",
              "      <td>0</td>\n",
              "      <td>0</td>\n",
              "      <td>1</td>\n",
              "      <td>CC(C)N1CC(=O)C(c2nc3ccccc3[nH]2)=C1N</td>\n",
              "      <td>0</td>\n",
              "      <td>&lt;rdkit.Chem.rdchem.Mol object at 0x7f7363351ac0&gt;</td>\n",
              "      <td>0</td>\n",
              "      <td>7</td>\n",
              "      <td>1</td>\n",
              "      <td>2</td>\n",
              "      <td>...</td>\n",
              "      <td>0</td>\n",
              "      <td>0</td>\n",
              "      <td>0</td>\n",
              "      <td>0</td>\n",
              "      <td>0</td>\n",
              "      <td>0</td>\n",
              "      <td>0</td>\n",
              "      <td>0</td>\n",
              "      <td>0</td>\n",
              "      <td>0</td>\n",
              "    </tr>\n",
              "    <tr>\n",
              "      <th>1</th>\n",
              "      <td>1</td>\n",
              "      <td>1</td>\n",
              "      <td>2</td>\n",
              "      <td>COc1ccc(-c2ccc3c(N)c(C(=O)c4ccc(OC)c(OC)c4)sc3...</td>\n",
              "      <td>0</td>\n",
              "      <td>&lt;rdkit.Chem.rdchem.Mol object at 0x7f7363351b30&gt;</td>\n",
              "      <td>0</td>\n",
              "      <td>4</td>\n",
              "      <td>4</td>\n",
              "      <td>1</td>\n",
              "      <td>...</td>\n",
              "      <td>0</td>\n",
              "      <td>0</td>\n",
              "      <td>0</td>\n",
              "      <td>0</td>\n",
              "      <td>0</td>\n",
              "      <td>0</td>\n",
              "      <td>0</td>\n",
              "      <td>0</td>\n",
              "      <td>0</td>\n",
              "      <td>1</td>\n",
              "    </tr>\n",
              "    <tr>\n",
              "      <th>2</th>\n",
              "      <td>2</td>\n",
              "      <td>2</td>\n",
              "      <td>3</td>\n",
              "      <td>CCc1ccc(C(=O)COC(=O)CCc2nc(=O)c3ccccc3[nH]2)cc1</td>\n",
              "      <td>0</td>\n",
              "      <td>&lt;rdkit.Chem.rdchem.Mol object at 0x7f7363351820&gt;</td>\n",
              "      <td>0</td>\n",
              "      <td>7</td>\n",
              "      <td>4</td>\n",
              "      <td>0</td>\n",
              "      <td>...</td>\n",
              "      <td>0</td>\n",
              "      <td>0</td>\n",
              "      <td>0</td>\n",
              "      <td>0</td>\n",
              "      <td>0</td>\n",
              "      <td>0</td>\n",
              "      <td>0</td>\n",
              "      <td>0</td>\n",
              "      <td>0</td>\n",
              "      <td>0</td>\n",
              "    </tr>\n",
              "    <tr>\n",
              "      <th>3</th>\n",
              "      <td>3</td>\n",
              "      <td>3</td>\n",
              "      <td>4</td>\n",
              "      <td>O=C(CN1CCOCC1)Nc1ccc(S(=O)(=O)N2CCCCCC2)cc1</td>\n",
              "      <td>0</td>\n",
              "      <td>&lt;rdkit.Chem.rdchem.Mol object at 0x7f7363351510&gt;</td>\n",
              "      <td>0</td>\n",
              "      <td>12</td>\n",
              "      <td>4</td>\n",
              "      <td>3</td>\n",
              "      <td>...</td>\n",
              "      <td>0</td>\n",
              "      <td>0</td>\n",
              "      <td>0</td>\n",
              "      <td>0</td>\n",
              "      <td>0</td>\n",
              "      <td>0</td>\n",
              "      <td>0</td>\n",
              "      <td>0</td>\n",
              "      <td>0</td>\n",
              "      <td>0</td>\n",
              "    </tr>\n",
              "    <tr>\n",
              "      <th>4</th>\n",
              "      <td>4</td>\n",
              "      <td>4</td>\n",
              "      <td>5</td>\n",
              "      <td>C=CCC(Nc1ccccc1)c1ccc(OC)c(OC)c1</td>\n",
              "      <td>0</td>\n",
              "      <td>&lt;rdkit.Chem.rdchem.Mol object at 0x7f73633515f0&gt;</td>\n",
              "      <td>0</td>\n",
              "      <td>6</td>\n",
              "      <td>2</td>\n",
              "      <td>1</td>\n",
              "      <td>...</td>\n",
              "      <td>0</td>\n",
              "      <td>0</td>\n",
              "      <td>0</td>\n",
              "      <td>0</td>\n",
              "      <td>0</td>\n",
              "      <td>0</td>\n",
              "      <td>0</td>\n",
              "      <td>0</td>\n",
              "      <td>0</td>\n",
              "      <td>0</td>\n",
              "    </tr>\n",
              "  </tbody>\n",
              "</table>\n",
              "<p>5 rows × 538 columns</p>\n",
              "</div>\n",
              "      <button class=\"colab-df-convert\" onclick=\"convertToInteractive('df-f26b4d11-c01b-412c-85d3-150f3ee77cc1')\"\n",
              "              title=\"Convert this dataframe to an interactive table.\"\n",
              "              style=\"display:none;\">\n",
              "        \n",
              "  <svg xmlns=\"http://www.w3.org/2000/svg\" height=\"24px\"viewBox=\"0 0 24 24\"\n",
              "       width=\"24px\">\n",
              "    <path d=\"M0 0h24v24H0V0z\" fill=\"none\"/>\n",
              "    <path d=\"M18.56 5.44l.94 2.06.94-2.06 2.06-.94-2.06-.94-.94-2.06-.94 2.06-2.06.94zm-11 1L8.5 8.5l.94-2.06 2.06-.94-2.06-.94L8.5 2.5l-.94 2.06-2.06.94zm10 10l.94 2.06.94-2.06 2.06-.94-2.06-.94-.94-2.06-.94 2.06-2.06.94z\"/><path d=\"M17.41 7.96l-1.37-1.37c-.4-.4-.92-.59-1.43-.59-.52 0-1.04.2-1.43.59L10.3 9.45l-7.72 7.72c-.78.78-.78 2.05 0 2.83L4 21.41c.39.39.9.59 1.41.59.51 0 1.02-.2 1.41-.59l7.78-7.78 2.81-2.81c.8-.78.8-2.07 0-2.86zM5.41 20L4 18.59l7.72-7.72 1.47 1.35L5.41 20z\"/>\n",
              "  </svg>\n",
              "      </button>\n",
              "      \n",
              "  <style>\n",
              "    .colab-df-container {\n",
              "      display:flex;\n",
              "      flex-wrap:wrap;\n",
              "      gap: 12px;\n",
              "    }\n",
              "\n",
              "    .colab-df-convert {\n",
              "      background-color: #E8F0FE;\n",
              "      border: none;\n",
              "      border-radius: 50%;\n",
              "      cursor: pointer;\n",
              "      display: none;\n",
              "      fill: #1967D2;\n",
              "      height: 32px;\n",
              "      padding: 0 0 0 0;\n",
              "      width: 32px;\n",
              "    }\n",
              "\n",
              "    .colab-df-convert:hover {\n",
              "      background-color: #E2EBFA;\n",
              "      box-shadow: 0px 1px 2px rgba(60, 64, 67, 0.3), 0px 1px 3px 1px rgba(60, 64, 67, 0.15);\n",
              "      fill: #174EA6;\n",
              "    }\n",
              "\n",
              "    [theme=dark] .colab-df-convert {\n",
              "      background-color: #3B4455;\n",
              "      fill: #D2E3FC;\n",
              "    }\n",
              "\n",
              "    [theme=dark] .colab-df-convert:hover {\n",
              "      background-color: #434B5C;\n",
              "      box-shadow: 0px 1px 3px 1px rgba(0, 0, 0, 0.15);\n",
              "      filter: drop-shadow(0px 1px 2px rgba(0, 0, 0, 0.3));\n",
              "      fill: #FFFFFF;\n",
              "    }\n",
              "  </style>\n",
              "\n",
              "      <script>\n",
              "        const buttonEl =\n",
              "          document.querySelector('#df-f26b4d11-c01b-412c-85d3-150f3ee77cc1 button.colab-df-convert');\n",
              "        buttonEl.style.display =\n",
              "          google.colab.kernel.accessAllowed ? 'block' : 'none';\n",
              "\n",
              "        async function convertToInteractive(key) {\n",
              "          const element = document.querySelector('#df-f26b4d11-c01b-412c-85d3-150f3ee77cc1');\n",
              "          const dataTable =\n",
              "            await google.colab.kernel.invokeFunction('convertToInteractive',\n",
              "                                                     [key], {});\n",
              "          if (!dataTable) return;\n",
              "\n",
              "          const docLinkHtml = 'Like what you see? Visit the ' +\n",
              "            '<a target=\"_blank\" href=https://colab.research.google.com/notebooks/data_table.ipynb>data table notebook</a>'\n",
              "            + ' to learn more about interactive tables.';\n",
              "          element.innerHTML = '';\n",
              "          dataTable['output_type'] = 'display_data';\n",
              "          await google.colab.output.renderOutput(dataTable, element);\n",
              "          const docLink = document.createElement('div');\n",
              "          docLink.innerHTML = docLinkHtml;\n",
              "          element.appendChild(docLink);\n",
              "        }\n",
              "      </script>\n",
              "    </div>\n",
              "  </div>\n",
              "  "
            ]
          },
          "metadata": {},
          "execution_count": 16
        }
      ]
    },
    {
      "cell_type": "markdown",
      "metadata": {
        "id": "6P0AzU2jh4q3"
      },
      "source": [
        "### Fingerprint dataset\n"
      ]
    },
    {
      "cell_type": "code",
      "execution_count": null,
      "metadata": {
        "id": "BjBEE_dNiP9A"
      },
      "outputs": [],
      "source": [
        "seed = 10\n",
        "X = train_data[fp_features]\n",
        "y = train_data['ACTIVE']\n",
        "\n",
        "smote = SMOTE(sampling_strategy=0.1, random_state=seed)\n",
        "X_smote, y_smote = smote.fit_resample(X, y)\n",
        "\n",
        "ros = RandomOverSampler(sampling_strategy=0.1, random_state=seed)\n",
        "X_ros, y_ros = ros.fit_resample(X, y)"
      ]
    },
    {
      "cell_type": "code",
      "execution_count": null,
      "metadata": {
        "colab": {
          "base_uri": "https://localhost:8080/"
        },
        "id": "4exNJDzjmPdy",
        "outputId": "7d6447ff-bb68-4761-dab3-0cf2cb859ee4"
      },
      "outputs": [
        {
          "output_type": "stream",
          "name": "stdout",
          "text": [
            "Logistic Regression :\n",
            "Accuracy: 0.9888261720999885  F1: 0.0\n",
            "AUC = 0.4999482294470905\n",
            "Logistic Regression smote :\n",
            "Accuracy: 0.9691904929991764  F1: 0.8130911167422107\n",
            "AUC = 0.8647879267478975\n",
            "Logistic Regression ros :\n",
            "Accuracy: 0.9112072008471584  F1: 0.22998826590480076\n",
            "AUC = 0.5668039674643987\n"
          ]
        }
      ],
      "source": [
        "# Logistic Regression\n",
        "\n",
        "lr = LogisticRegression()\n",
        "\n",
        "acc, f1, auc = train_validate_model(lr, 'Logistic Regression', X, y, storage=fingerprint_res)\n",
        "\n",
        "acc, f1, auc = train_validate_model(lr, 'Logistic Regression smote', X_smote, y_smote, storage=fingerprint_res)\n",
        "\n",
        "acc, f1, auc = train_validate_model(lr, 'Logistic Regression ros', X_ros, y_ros, storage=fingerprint_res)\n"
      ]
    },
    {
      "cell_type": "code",
      "execution_count": null,
      "metadata": {
        "colab": {
          "base_uri": "https://localhost:8080/"
        },
        "id": "Z_lqLk8m9Myd",
        "outputId": "3d328dc6-8de9-4228-9c17-938fe054f375"
      },
      "outputs": [
        {
          "output_type": "stream",
          "name": "stdout",
          "text": [
            "Naive Bayes Classifier :\n",
            "Accuracy: 0.7686326460085243  F1: 0.04943075750006574\n",
            "AUC = 0.657253671669358\n",
            "Naive Bayes Classifier smote :\n",
            "Accuracy: 0.9030415342981527  F1: 0.5976809471500061\n",
            "AUC = 0.8531895128365508\n",
            "Naive Bayes Classifier ros :\n",
            "Accuracy: 0.7274679374044005  F1: 0.30437720549590813\n",
            "AUC = 0.6952631471875282\n"
          ]
        }
      ],
      "source": [
        "# Naive Bayes\n",
        "\n",
        "nb = GaussianNB()\n",
        "\n",
        "acc, f1, auc = train_validate_model(nb, 'Naive Bayes Classifier', X, y, storage=fingerprint_res)\n",
        "\n",
        "acc, f1, auc = train_validate_model(nb, 'Naive Bayes Classifier smote', X_smote, y_smote, storage=fingerprint_res)\n",
        "\n",
        "acc, f1, auc = train_validate_model(nb, 'Naive Bayes Classifier ros', X_ros, y_ros, storage=fingerprint_res)\n"
      ]
    },
    {
      "cell_type": "code",
      "execution_count": null,
      "metadata": {
        "colab": {
          "base_uri": "https://localhost:8080/"
        },
        "id": "pj2rYp_d_uBl",
        "outputId": "5106062a-1e82-4032-c3c1-6948b0362052"
      },
      "outputs": [
        {
          "output_type": "stream",
          "name": "stdout",
          "text": [
            "Original dataset\n",
            "Random Forest Classifier :\n",
            "Accuracy: 0.9889477658743873  F1: 0.05161998901702362\n",
            "AUC = 0.5134414460084006\n",
            "SMOTE dataset\n",
            "Random Forest Classifier smote :\n",
            "Accuracy: 0.9873926344275797  F1: 0.9266623318846036\n",
            "AUC = 0.937354426311245\n",
            "ROS dataset\n",
            "Random Forest Classifier ros :\n",
            "Accuracy: 0.9987351453112131  F1: 0.9930905935662178\n",
            "AUC = 0.9992752105840613\n"
          ]
        }
      ],
      "source": [
        "# Random Forest Classifier\n",
        "\n",
        "rfc = RandomForestClassifier(n_estimators=50)\n",
        "\n",
        "print('Original dataset')\n",
        "acc, f1, auc = train_validate_model(rfc, 'Random Forest Classifier',X, y, storage=fingerprint_res)\n",
        "\n",
        "print('SMOTE dataset')\n",
        "acc, f1, auc = train_validate_model(rfc, 'Random Forest Classifier smote', X_smote, y_smote, storage=fingerprint_res)\n",
        "\n",
        "print('ROS dataset')\n",
        "acc, f1, auc = train_validate_model(rfc, 'Random Forest Classifier ros', X_ros, y_ros, storage=fingerprint_res)"
      ]
    },
    {
      "cell_type": "code",
      "source": [
        "# XGBoost\n",
        "\n",
        "n_estimators =[40, 60, 80, 100]\n",
        "\n",
        "for n in n_estimators:\n",
        "  xgb = XGBClassifier(n_estimators=n, scale_pos_weight= (len(y) - sum(y)) / sum(y))\n",
        "\n",
        "  acc, f1, auc  = train_validate_model(xgb, f'XGB Classifier_{n}', X, y, storage=fingerprint_res)\n",
        "\n",
        "  acc, f1, auc  = train_validate_model(xgb, f'XGB Classifier_{n}_smote', X_smote, y_smote, storage=fingerprint_res)\n",
        "\n",
        "  acc, f1, auc = train_validate_model(xgb, f'XGB Classifier_{n}_ros', X_ros, y_ros, storage=fingerprint_res)\n"
      ],
      "metadata": {
        "id": "jsIvcU3-K4F0",
        "colab": {
          "base_uri": "https://localhost:8080/"
        },
        "outputId": "03da0c90-120b-495d-c964-3cc69d3a97f1"
      },
      "execution_count": null,
      "outputs": [
        {
          "output_type": "stream",
          "name": "stdout",
          "text": [
            "XGB Classifier_40 :\n",
            "Accuracy: 0.738682179472411  F1: 0.049134899750832496\n",
            "AUC = 0.6749756783139438\n",
            "XGB Classifier_40_smote :\n",
            "Accuracy: 0.16193669843511002  F1: 0.177355831976254\n",
            "AUC = 0.5362715828124873\n",
            "XGB Classifier_40_ros :\n",
            "Accuracy: 0.09219319919990587  F1: 0.16685653814797016\n",
            "AUC = 0.5007086094429489\n",
            "XGB Classifier_60 :\n",
            "Accuracy: 0.757913194844424  F1: 0.05340073069415946\n",
            "AUC = 0.6881282154600636\n",
            "XGB Classifier_60_smote :\n",
            "Accuracy: 0.22037298505706554  F1: 0.18740150720798612\n",
            "AUC = 0.566227193349332\n",
            "XGB Classifier_60_ros :\n",
            "Accuracy: 0.09544064007530298  F1: 0.16735531595734887\n",
            "AUC = 0.5024946935183268\n",
            "XGB Classifier_80 :\n",
            "Accuracy: 0.7717492864365344  F1: 0.05635516985924437\n",
            "AUC = 0.6945521480589933\n",
            "XGB Classifier_80_smote :\n",
            "Accuracy: 0.27729144605247674  F1: 0.1983215432404918\n",
            "AUC = 0.5950276549971222\n",
            "XGB Classifier_80_ros :\n",
            "Accuracy: 0.10278856336039534  F1: 0.16849497306610253\n",
            "AUC = 0.506536032304825\n",
            "XGB Classifier_100 :\n",
            "Accuracy: 0.7825071356346555  F1: 0.05824812259262338\n",
            "AUC = 0.6959903482332777\n",
            "XGB Classifier_100_smote :\n",
            "Accuracy: 0.32534415813625134  F1: 0.20849495465400383\n",
            "AUC = 0.6188063646366624\n",
            "XGB Classifier_100_ros :\n",
            "Accuracy: 0.11428991646076009  F1: 0.17031032145356753\n",
            "AUC = 0.5128617467384552\n"
          ]
        }
      ]
    },
    {
      "cell_type": "markdown",
      "metadata": {
        "id": "Jcz10-Q9iA2j"
      },
      "source": [
        "### Custom features dataset"
      ]
    },
    {
      "cell_type": "code",
      "execution_count": null,
      "metadata": {
        "id": "BREFVibajdjx"
      },
      "outputs": [],
      "source": [
        "seed = 10\n",
        "X, y = train_data[custom_features], train_data['ACTIVE']\n",
        "\n",
        "smote = SMOTE(sampling_strategy=0.1, random_state=seed)\n",
        "X_smote, y_smote = smote.fit_resample(X, y)\n",
        "\n",
        "ros = RandomOverSampler(sampling_strategy=0.1, random_state=seed)\n",
        "X_ros, y_ros = ros.fit_resample(X, y)"
      ]
    },
    {
      "cell_type": "code",
      "execution_count": null,
      "metadata": {
        "colab": {
          "base_uri": "https://localhost:8080/"
        },
        "id": "FjkOGuUTjk7Y",
        "outputId": "d051cf07-5b46-4fcc-f041-1ff5f00dd609"
      },
      "outputs": [
        {
          "output_type": "stream",
          "name": "stdout",
          "text": [
            "Logistic Regression :\n",
            "Accuracy: 0.9887749747212943  F1: 0.0034090909090909094\n",
            "AUC = 0.5007796892150866\n",
            "Logistic Regression :\n",
            "Accuracy: 0.8957790684505994  F1: 0.6356884331171768\n",
            "AUC = 0.7556968210468297\n",
            "Logistic Regression :\n",
            "Accuracy: 0.8459874995281315  F1: 0.3288289346901366\n",
            "AUC = 0.5981397517388826\n"
          ]
        }
      ],
      "source": [
        "# Logistic Regression\n",
        "\n",
        "lr = LogisticRegression()\n",
        "\n",
        "acc, f1, auc  = train_validate_model(lr, 'Logistic Regression', X, y, storage=custom_features_res)\n",
        "\n",
        "acc, f1, auc  = train_validate_model(lr, 'Logistic Regression smote', X_smote, y_smote, storage=custom_features_res)\n",
        "\n",
        "acc, f1, auc = train_validate_model(lr, 'Logistic Regression ros', X_ros, y_ros, storage=custom_features_res)\n"
      ]
    },
    {
      "cell_type": "code",
      "execution_count": null,
      "metadata": {
        "colab": {
          "base_uri": "https://localhost:8080/"
        },
        "id": "RtZzp67OjkwU",
        "outputId": "b0e84322-6e49-4b6a-b39f-e4cc71284e1e"
      },
      "outputs": [
        {
          "output_type": "stream",
          "name": "stdout",
          "text": [
            "Naive Bayes Classifier :\n",
            "Accuracy: 0.9447388293719362  F1: 0.08381962864721484\n",
            "AUC = 0.5905415349460209\n",
            "Naive Bayes Classifier smote :\n",
            "Accuracy: 0.796848457394315  F1: 0.5102383088263973\n",
            "AUC = 0.7320870807795512\n",
            "Naive Bayes Classifier ros :\n",
            "Accuracy: 0.7767873032308166  F1: 0.45740204239476684\n",
            "AUC = 0.6918736200312456\n"
          ]
        }
      ],
      "source": [
        "# Naive Bayes\n",
        "\n",
        "nb = GaussianNB()\n",
        "\n",
        "acc, f1, auc  = train_validate_model(nb, 'Naive Bayes Classifier', X, y, storage=custom_features_res)\n",
        "\n",
        "acc, f1, auc  = train_validate_model(nb, 'Naive Bayes Classifier smote', X_smote, y_smote, storage=custom_features_res)\n",
        "\n",
        "acc, f1, auc = train_validate_model(nb, 'Naive Bayes Classifier ros', X_ros, y_ros, storage=custom_features_res)\n"
      ]
    },
    {
      "cell_type": "code",
      "execution_count": null,
      "metadata": {
        "colab": {
          "base_uri": "https://localhost:8080/"
        },
        "id": "D7uzX2dzjkat",
        "outputId": "99313d72-b92d-4486-ff29-a43759fe52e2"
      },
      "outputs": [
        {
          "output_type": "stream",
          "name": "stdout",
          "text": [
            "Random Forest Classifier_50 :\n",
            "Accuracy: 0.9886341819298852  F1: 0.06329113924050632\n",
            "AUC = 0.5169980605494023\n",
            "Random Forest Classifier_50_smote :\n",
            "Accuracy: 0.977425808782687  F1: 0.9303215926493108\n",
            "AUC = 0.9481443902330097\n",
            "Naive Bayes Classifier_50_ros :\n",
            "Accuracy: 0.9987974093068656  F1: 0.9964051392001032\n",
            "AUC = 0.9992784479188237\n"
          ]
        }
      ],
      "source": [
        "# Random Forest Classifier\n",
        "\n",
        "n = 50\n",
        "rfc = RandomForestClassifier(n_estimators=n)\n",
        "\n",
        "acc, f1, auc  = train_validate_model(rfc, f'Random Forest Classifier_{n}', X, y, storage=custom_features_res)\n",
        "\n",
        "acc, f1, auc  = train_validate_model(rfc, f'Random Forest Classifier_{n}_smote', X_smote, y_smote, storage=custom_features_res)\n",
        "\n",
        "acc, f1, auc  = train_validate_model(rfc, f'Naive Bayes Classifier_{n}_ros', X_ros, y_ros, storage=custom_features_res)"
      ]
    },
    {
      "cell_type": "code",
      "source": [
        "# XGBoost\n",
        "\n",
        "n_estimators = [40, 60, 80, 100]\n",
        "\n",
        "for n in n_estimators:\n",
        "  xgb = XGBClassifier(n_estimators=n, scale_pos_weight= (len(y) - sum(y)) / sum(y))\n",
        "\n",
        "  acc, f1, acc = train_validate_model(xgb, f'XGB Classifier_{n}', X, y, storage=custom_features_res)\n",
        "\n",
        "  acc, f1, acc = train_validate_model(xgb, f'XGB Classifier_{n}_smote', X_smote, y_smote, storage=custom_features_res)\n",
        "\n",
        "  acc, f1, auc = train_validate_model(xgb, f'XGB Classifier_{n}_ros', X_ros, y_ros, storage=custom_features_res)\n"
      ],
      "metadata": {
        "id": "pPBbZKOXLHFk",
        "colab": {
          "base_uri": "https://localhost:8080/"
        },
        "outputId": "7d6181aa-4631-4f68-c43d-2d9e0f9d7acd"
      },
      "execution_count": null,
      "outputs": [
        {
          "output_type": "stream",
          "name": "stdout",
          "text": [
            "XGB Classifier_40 :\n",
            "Accuracy: 0.7502079893509452  F1: 0.06091810220383024\n",
            "AUC = 0.7411030359688635\n",
            "XGB Classifier_40_smote :\n",
            "Accuracy: 0.28735446225860556  F1: 0.3182413818009224\n",
            "AUC = 0.5716115978384383\n",
            "XGB Classifier_40_ros :\n",
            "Accuracy: 0.21809494534414048  F1: 0.29876429763257806\n",
            "AUC = 0.5306255120518932\n",
            "XGB Classifier_60 :\n",
            "Accuracy: 0.7521790884306724  F1: 0.061099796334012225\n",
            "AUC = 0.7403849290234698\n",
            "XGB Classifier_60_smote :\n",
            "Accuracy: 0.32360475212071205  F1: 0.3296168811733014\n",
            "AUC = 0.5932581577609981\n",
            "XGB Classifier_60_ros :\n",
            "Accuracy: 0.24656344879282543  F1: 0.3065920212818756\n",
            "AUC = 0.547706558852473\n",
            "XGB Classifier_80 :\n",
            "Accuracy: 0.7546749606420151  F1: 0.06154524089306698\n",
            "AUC = 0.740789491206188\n",
            "XGB Classifier_80_smote :\n",
            "Accuracy: 0.35570259878230953  F1: 0.34038183364067\n",
            "AUC = 0.6124003168724697\n",
            "XGB Classifier_80_ros :\n",
            "Accuracy: 0.2716021420135575  F1: 0.31375398200413573\n",
            "AUC = 0.5626002966517174\n",
            "XGB Classifier_100 :\n",
            "Accuracy: 0.7565756633260378  F1: 0.06176463333415554\n",
            "AUC = 0.7403215736871527\n",
            "XGB Classifier_100_smote :\n",
            "Accuracy: 0.3819223115626668  F1: 0.34972652792592424\n",
            "AUC = 0.628054435923936\n",
            "XGB Classifier_100_ros :\n",
            "Accuracy: 0.29630648266489784  F1: 0.3213293805585895\n",
            "AUC = 0.5776040544140758\n"
          ]
        }
      ]
    },
    {
      "cell_type": "markdown",
      "metadata": {
        "id": "irv1T4mGiDlF"
      },
      "source": [
        "### Combined features dataset"
      ]
    },
    {
      "cell_type": "code",
      "execution_count": null,
      "metadata": {
        "id": "SBOUmLUbkRTJ"
      },
      "outputs": [],
      "source": [
        "seed = 10\n",
        "X, y = train_data.drop(['INDEX', 'SMILES', 'MOL', 'ACTIVE'] , axis=1), train_data['ACTIVE']\n",
        "\n",
        "smote = SMOTE(sampling_strategy=0.1, random_state=seed)\n",
        "X_smote, y_smote = smote.fit_resample(X, y)\n",
        "\n",
        "ros = RandomOverSampler(sampling_strategy=0.1, random_state=seed)\n",
        "X_ros, y_ros = ros.fit_resample(X, y)"
      ]
    },
    {
      "cell_type": "code",
      "execution_count": null,
      "metadata": {
        "colab": {
          "base_uri": "https://localhost:8080/"
        },
        "id": "Wrrjk0y3lCi7",
        "outputId": "6ad701d8-73f6-4fc1-be9d-ebe4ee6b2b0c"
      },
      "outputs": [
        {
          "output_type": "stream",
          "name": "stdout",
          "text": [
            "Original dataset\n",
            "Logistic Regression :\n",
            "Accuracy: 0.9888581704616723  F1: 0.0022922636103151865\n",
            "AUC = 0.500535971107842\n",
            "SMOTE dataset\n"
          ]
        },
        {
          "output_type": "stream",
          "name": "stderr",
          "text": [
            "/usr/local/lib/python3.8/dist-packages/sklearn/linear_model/_logistic.py:814: ConvergenceWarning: lbfgs failed to converge (status=1):\n",
            "STOP: TOTAL NO. of ITERATIONS REACHED LIMIT.\n",
            "\n",
            "Increase the number of iterations (max_iter) or scale the data as shown in:\n",
            "    https://scikit-learn.org/stable/modules/preprocessing.html\n",
            "Please also refer to the documentation for alternative solver options:\n",
            "    https://scikit-learn.org/stable/modules/linear_model.html#logistic-regression\n",
            "  n_iter_i = _check_optimize_result(\n",
            "/usr/local/lib/python3.8/dist-packages/sklearn/linear_model/_logistic.py:814: ConvergenceWarning: lbfgs failed to converge (status=1):\n",
            "STOP: TOTAL NO. of ITERATIONS REACHED LIMIT.\n",
            "\n",
            "Increase the number of iterations (max_iter) or scale the data as shown in:\n",
            "    https://scikit-learn.org/stable/modules/preprocessing.html\n",
            "Please also refer to the documentation for alternative solver options:\n",
            "    https://scikit-learn.org/stable/modules/linear_model.html#logistic-regression\n",
            "  n_iter_i = _check_optimize_result(\n",
            "/usr/local/lib/python3.8/dist-packages/sklearn/linear_model/_logistic.py:814: ConvergenceWarning: lbfgs failed to converge (status=1):\n",
            "STOP: TOTAL NO. of ITERATIONS REACHED LIMIT.\n",
            "\n",
            "Increase the number of iterations (max_iter) or scale the data as shown in:\n",
            "    https://scikit-learn.org/stable/modules/preprocessing.html\n",
            "Please also refer to the documentation for alternative solver options:\n",
            "    https://scikit-learn.org/stable/modules/linear_model.html#logistic-regression\n",
            "  n_iter_i = _check_optimize_result(\n"
          ]
        },
        {
          "output_type": "stream",
          "name": "stdout",
          "text": [
            "Logistic Regression :\n",
            "Accuracy: 0.9823709911396569  F1: 0.945675114250104\n",
            "AUC = 0.9576865098243105\n",
            "ROS dataset\n",
            "Logistic Regression :\n",
            "Accuracy: 0.7448100020708222  F1: 0.7456379691803575\n",
            "AUC = 0.744810002070822\n"
          ]
        }
      ],
      "source": [
        "# Logistic Regression\n",
        "\n",
        "lr = LogisticRegression()\n",
        "\n",
        "acc, f1, auc  = train_validate_model(lr, 'Logistic Regression', X, y, storage=combined_res)\n",
        "\n",
        "acc, f1, auc  = train_validate_model(lr, 'Logistic Regression smote', X_smote, y_smote, storage=combined_res)\n",
        "\n",
        "acc, f1, auc = train_validate_model(lr, 'Logistic Regression ros', X_ros, y_ros, storage=combined_res)\n"
      ]
    },
    {
      "cell_type": "code",
      "execution_count": null,
      "metadata": {
        "colab": {
          "base_uri": "https://localhost:8080/"
        },
        "id": "LiecSloMlCc2",
        "outputId": "fcab7e7a-0826-42e9-f687-15fb8136aae5"
      },
      "outputs": [
        {
          "output_type": "stream",
          "name": "stdout",
          "text": [
            "Original dataset\n",
            "Naive Bayes Classifier :\n",
            "Accuracy: 0.8960053245273842  F1: 0.06587721315244884\n",
            "AUC = 0.6167711267247374\n",
            "SMOTE dataset\n",
            "Naive Bayes Classifier :\n",
            "Accuracy: 0.9402263890461784  F1: 0.8301875229807575\n",
            "AUC = 0.9148103581870627\n",
            "ROS dataset\n",
            "Logistic Regression :\n",
            "Accuracy: 0.6817567042866017  F1: 0.6929294632236553\n",
            "AUC = 0.6817567042866018\n"
          ]
        }
      ],
      "source": [
        "# Naive Bayes\n",
        "\n",
        "nb = GaussianNB()\n",
        "\n",
        "acc, f1, auc  = train_validate_model(nb, 'Naive Bayes Classifier', X, y, storage=combined_res)\n",
        "\n",
        "acc, f1, auc  = train_validate_model(nb, 'Naive Bayes Classifier smote', X_smote, y_smote, storage=combined_res)\n",
        "\n",
        "acc, f1, auc = train_validate_model(nb, 'Naive Bayes Classifier ros', X_ros, y_ros, storage=combined_res)\n"
      ]
    },
    {
      "cell_type": "code",
      "execution_count": null,
      "metadata": {
        "colab": {
          "base_uri": "https://localhost:8080/"
        },
        "id": "peJwdul8lCS_",
        "outputId": "9468be64-af17-4d9d-c1de-3cb96b65139c"
      },
      "outputs": [
        {
          "output_type": "stream",
          "name": "stdout",
          "text": [
            "Original dataset\n",
            "Random Forest Classifier :\n",
            "Accuracy: 0.9890245619424285  F1: 0.04029099048684947\n",
            "AUC = 0.510336675426763\n",
            "SMOTE dataset\n",
            "Random Forest Classifier :\n",
            "Accuracy: 0.9903738816715472  F1: 0.9703157999767184\n",
            "AUC = 0.9718200972281303\n",
            "ROS dataset\n",
            "Logistic Regression :\n",
            "Accuracy: 0.9997346759163388  F1: 0.9997347462945351\n",
            "AUC = 0.9997346759163388\n"
          ]
        }
      ],
      "source": [
        "# Random Forest Classifier\n",
        "\n",
        "n = 50\n",
        "rfc = RandomForestClassifier(n_estimators=n)\n",
        "\n",
        "print('Original dataset')\n",
        "acc, f1, auc = train_validate_model(rfc, f'Random Forest Classifier_{n}', X, y, storage=combined_res)\n",
        "\n",
        "print('SMOTE dataset')\n",
        "acc, f1, auc = train_validate_model(rfc, f'Random Forest Classifier_{n}_smote', X_smote, y_smote, storage=combined_res)\n",
        "\n",
        "print('ROS dataset')\n",
        "acc, f1, auc = train_validate_model(rfc, f'Random Forest Classifier_{n}_ros', X_ros, y_ros, storage=combined_res)"
      ]
    },
    {
      "cell_type": "code",
      "source": [
        "# XGBoost\n",
        "\n",
        "n_estimators =[ 40, 60, 80, 100]\n",
        "\n",
        "for n in n_estimators:\n",
        "  xgb = XGBClassifier(n_estimators=n, scale_pos_weight= (len(y) - sum(y)) / sum(y))\n",
        "\n",
        "  y_true, y_pred, acc = train_validate_model(xgb, f'XGB Classifier_{n}', X, y, storage=combined_res)\n",
        "\n",
        "  y_true, y_pred, acc = train_validate_model(xgb,f'XGB Classifier_{n}_smote', X_smote, y_smote, storage=combined_res)\n",
        "\n",
        "  y_true, y_pred, auc = train_validate_model(xgb, f'XGB Classifier_{n}_ros', X_ros, y_ros, storage=combined_res)\n"
      ],
      "metadata": {
        "id": "mKDDfMyqLc00"
      },
      "execution_count": null,
      "outputs": []
    },
    {
      "cell_type": "markdown",
      "source": [
        "Results"
      ],
      "metadata": {
        "id": "fNS34-bomhxP"
      }
    },
    {
      "cell_type": "code",
      "source": [
        "fp_res_df = pd.DataFrame(data=fingerprint_res, columns=['classifier', 'acc', 'f1', 'auc'])\n",
        "#fp_res_df.to_csv(FP_RES_PATH)"
      ],
      "metadata": {
        "id": "n0t0nUc9L1hy"
      },
      "execution_count": null,
      "outputs": []
    },
    {
      "cell_type": "code",
      "source": [
        "custom_res_df = pd.DataFrame(data=custom_features_res, columns=['classifier', 'acc', 'f1', 'auc'])\n",
        "#custom_res_df.to_csv(CUSTOM_RES_PATH)"
      ],
      "metadata": {
        "id": "0GE-YKQQMBVw"
      },
      "execution_count": null,
      "outputs": []
    },
    {
      "cell_type": "code",
      "source": [
        "combined_res_df = pd.DataFrame(data=combined_res, columns=['classifier', 'acc', 'f1', 'auc'])\n",
        "#combined_res_df.to_csv(COMBINED_RES_PATH)"
      ],
      "metadata": {
        "id": "xxk15ScGFCUD"
      },
      "execution_count": null,
      "outputs": []
    },
    {
      "cell_type": "markdown",
      "source": [
        "Extract optimal features for the test dataset"
      ],
      "metadata": {
        "id": "cqHYWTJ3Ecxm"
      }
    },
    {
      "cell_type": "markdown",
      "source": [
        "# Test set label prediction\n",
        "\n"
      ],
      "metadata": {
        "id": "TDBRIp2QEWQu"
      }
    },
    {
      "cell_type": "code",
      "source": [
        "test_data = pd.read_csv(TEST_DATASET_PATH)\n",
        "\n",
        "\n",
        "test_data['MOL'] = extract_mol(test_data)\n",
        "test_data['CHARGE'] = extract_charge(test_data)\n",
        "test_data['NUM_C'] = extract_num_atoms(test_data, 'C')\n",
        "test_data['NUM_O'] = extract_num_atoms(test_data, 'O')\n",
        "test_data['NUM_N'] = extract_num_atoms(test_data, 'N')\n",
        "test_data['NUM_HEAVY'] = extract_heavy_atom_count(test_data)\n",
        "test_data['MASS'] = calculate_mass(test_data)\n",
        "test_data['ACCEPTORS'], train_data['DONORS'] = extract_donors_and_acceptors(test_data)\n",
        "test_data['AL_OOF'] = extract_Al_OOF(test_data)\n",
        "test_data['AL_OH'] = extract_Al_OH(test_data)\n",
        "test_data['NUM_NHOH'] = extract_NHOH(test_data)\n",
        "test_data['NUM_RINGS'] = extract_num_rings(test_data)\n",
        "test_data['NUM_AROM_RINGS'] = extract_num_aromatic_rings(test_data)\n",
        "test_data['NUM_SAT_RINGS'] = extract_num_saturated_rings(test_data)\n",
        "test_data['NUM_HETCYCLES'] = extract_saturated_heterocycles(test_data)\n",
        "test_data['NUM_CARBCYCLES'] = extract_saturated_carbocycles(test_data)\n",
        "\n",
        "# newly added \n",
        "test_data['ROTATABLE_BONDS'] = calc_rotatable_bonds(test_data)\n",
        "test_data['LOG_P'] = extract_log_p(test_data)\n",
        "test_data['FUNC_GROUP'] = extract_functional_groups(test_data)\n",
        "test_data['MR'] = extract_mol_mr(test_data)\n",
        "\n",
        "\n",
        "# fingerprints\n",
        "size_fp = 512\n",
        "fingerprints, fp_features = extract_fingerprints(test_data, size_fp)\n",
        "test_data = test_data.join(fingerprints)"
      ],
      "metadata": {
        "id": "RZE9tHB_mlTQ"
      },
      "execution_count": null,
      "outputs": []
    },
    {
      "cell_type": "code",
      "source": [
        "#test_data.to_csv(TEST_DATASET_PREPARED_PATH)\n",
        "\n",
        "test_data = pd.read_csv(TEST_DATASET_PREPARED_PATH, dtype = {'ACTIVE': int})\n",
        "\n"
      ],
      "metadata": {
        "id": "jY1Q0S1qnRNs"
      },
      "execution_count": null,
      "outputs": []
    },
    {
      "cell_type": "code",
      "source": [
        "test_data.head()"
      ],
      "metadata": {
        "colab": {
          "base_uri": "https://localhost:8080/",
          "height": 491
        },
        "id": "cD3HV0NUpr64",
        "outputId": "f258917e-0172-45e0-c57e-8c169312db12"
      },
      "execution_count": null,
      "outputs": [
        {
          "output_type": "execute_result",
          "data": {
            "text/plain": [
              "   Unnamed: 0   INDEX                                             SMILES  \\\n",
              "0           0  156259                   COCCCNc1ncnc2c1cnn2-c1ccc(C)cc1C   \n",
              "1           1  156260             Cc1cccc(Nc2nnc(SCC(=O)NCc3cccs3)s2)c1C   \n",
              "2           2  156261                O=C1/C(=C/c2cccnc2)CC/C1=C\\c1cccnc1   \n",
              "3           3  156262          CC(C)(C)NC(=O)COC(=O)c1ccc(NC(=O)CC#N)cc1   \n",
              "4           4  156263  O=C(/C=C/c1ccco1)Nc1ccc(Cl)c(S(=O)(=O)N2CCOCC2)c1   \n",
              "\n",
              "                                                MOL  CHARGE  NUM_C  NUM_O  \\\n",
              "0  <rdkit.Chem.rdchem.Mol object at 0x7f5957ea3b30>       0      6      1   \n",
              "1  <rdkit.Chem.rdchem.Mol object at 0x7f595be343c0>       0      5      1   \n",
              "2  <rdkit.Chem.rdchem.Mol object at 0x7f595be34350>       0      7      1   \n",
              "3  <rdkit.Chem.rdchem.Mol object at 0x7f595be342e0>       0     10      4   \n",
              "4  <rdkit.Chem.rdchem.Mol object at 0x7f595be34270>       0      7      4   \n",
              "\n",
              "   NUM_N  NUM_HEAVY        MASS  ...  fp_502  fp_503  fp_504  fp_505  fp_506  \\\n",
              "0      1         23  311.382261  ...       0       0       0       0       0   \n",
              "1      2         25  390.546135  ...       0       0       0       0       0   \n",
              "2      0         20  262.306565  ...       0       0       0       0       0   \n",
              "3      3         23  317.340448  ...       0       0       0       0       0   \n",
              "4      2         26  396.845708  ...       0       1       0       0       0   \n",
              "\n",
              "   fp_507  fp_508  fp_509  fp_510  fp_511  \n",
              "0       0       0       0       0       1  \n",
              "1       0       0       0       0       0  \n",
              "2       0       0       0       0       1  \n",
              "3       0       0       0       0       0  \n",
              "4       0       0       0       0       0  \n",
              "\n",
              "[5 rows x 536 columns]"
            ],
            "text/html": [
              "\n",
              "  <div id=\"df-e558adde-b288-44c1-95c9-39eda31dd54e\">\n",
              "    <div class=\"colab-df-container\">\n",
              "      <div>\n",
              "<style scoped>\n",
              "    .dataframe tbody tr th:only-of-type {\n",
              "        vertical-align: middle;\n",
              "    }\n",
              "\n",
              "    .dataframe tbody tr th {\n",
              "        vertical-align: top;\n",
              "    }\n",
              "\n",
              "    .dataframe thead th {\n",
              "        text-align: right;\n",
              "    }\n",
              "</style>\n",
              "<table border=\"1\" class=\"dataframe\">\n",
              "  <thead>\n",
              "    <tr style=\"text-align: right;\">\n",
              "      <th></th>\n",
              "      <th>Unnamed: 0</th>\n",
              "      <th>INDEX</th>\n",
              "      <th>SMILES</th>\n",
              "      <th>MOL</th>\n",
              "      <th>CHARGE</th>\n",
              "      <th>NUM_C</th>\n",
              "      <th>NUM_O</th>\n",
              "      <th>NUM_N</th>\n",
              "      <th>NUM_HEAVY</th>\n",
              "      <th>MASS</th>\n",
              "      <th>...</th>\n",
              "      <th>fp_502</th>\n",
              "      <th>fp_503</th>\n",
              "      <th>fp_504</th>\n",
              "      <th>fp_505</th>\n",
              "      <th>fp_506</th>\n",
              "      <th>fp_507</th>\n",
              "      <th>fp_508</th>\n",
              "      <th>fp_509</th>\n",
              "      <th>fp_510</th>\n",
              "      <th>fp_511</th>\n",
              "    </tr>\n",
              "  </thead>\n",
              "  <tbody>\n",
              "    <tr>\n",
              "      <th>0</th>\n",
              "      <td>0</td>\n",
              "      <td>156259</td>\n",
              "      <td>COCCCNc1ncnc2c1cnn2-c1ccc(C)cc1C</td>\n",
              "      <td>&lt;rdkit.Chem.rdchem.Mol object at 0x7f5957ea3b30&gt;</td>\n",
              "      <td>0</td>\n",
              "      <td>6</td>\n",
              "      <td>1</td>\n",
              "      <td>1</td>\n",
              "      <td>23</td>\n",
              "      <td>311.382261</td>\n",
              "      <td>...</td>\n",
              "      <td>0</td>\n",
              "      <td>0</td>\n",
              "      <td>0</td>\n",
              "      <td>0</td>\n",
              "      <td>0</td>\n",
              "      <td>0</td>\n",
              "      <td>0</td>\n",
              "      <td>0</td>\n",
              "      <td>0</td>\n",
              "      <td>1</td>\n",
              "    </tr>\n",
              "    <tr>\n",
              "      <th>1</th>\n",
              "      <td>1</td>\n",
              "      <td>156260</td>\n",
              "      <td>Cc1cccc(Nc2nnc(SCC(=O)NCc3cccs3)s2)c1C</td>\n",
              "      <td>&lt;rdkit.Chem.rdchem.Mol object at 0x7f595be343c0&gt;</td>\n",
              "      <td>0</td>\n",
              "      <td>5</td>\n",
              "      <td>1</td>\n",
              "      <td>2</td>\n",
              "      <td>25</td>\n",
              "      <td>390.546135</td>\n",
              "      <td>...</td>\n",
              "      <td>0</td>\n",
              "      <td>0</td>\n",
              "      <td>0</td>\n",
              "      <td>0</td>\n",
              "      <td>0</td>\n",
              "      <td>0</td>\n",
              "      <td>0</td>\n",
              "      <td>0</td>\n",
              "      <td>0</td>\n",
              "      <td>0</td>\n",
              "    </tr>\n",
              "    <tr>\n",
              "      <th>2</th>\n",
              "      <td>2</td>\n",
              "      <td>156261</td>\n",
              "      <td>O=C1/C(=C/c2cccnc2)CC/C1=C\\c1cccnc1</td>\n",
              "      <td>&lt;rdkit.Chem.rdchem.Mol object at 0x7f595be34350&gt;</td>\n",
              "      <td>0</td>\n",
              "      <td>7</td>\n",
              "      <td>1</td>\n",
              "      <td>0</td>\n",
              "      <td>20</td>\n",
              "      <td>262.306565</td>\n",
              "      <td>...</td>\n",
              "      <td>0</td>\n",
              "      <td>0</td>\n",
              "      <td>0</td>\n",
              "      <td>0</td>\n",
              "      <td>0</td>\n",
              "      <td>0</td>\n",
              "      <td>0</td>\n",
              "      <td>0</td>\n",
              "      <td>0</td>\n",
              "      <td>1</td>\n",
              "    </tr>\n",
              "    <tr>\n",
              "      <th>3</th>\n",
              "      <td>3</td>\n",
              "      <td>156262</td>\n",
              "      <td>CC(C)(C)NC(=O)COC(=O)c1ccc(NC(=O)CC#N)cc1</td>\n",
              "      <td>&lt;rdkit.Chem.rdchem.Mol object at 0x7f595be342e0&gt;</td>\n",
              "      <td>0</td>\n",
              "      <td>10</td>\n",
              "      <td>4</td>\n",
              "      <td>3</td>\n",
              "      <td>23</td>\n",
              "      <td>317.340448</td>\n",
              "      <td>...</td>\n",
              "      <td>0</td>\n",
              "      <td>0</td>\n",
              "      <td>0</td>\n",
              "      <td>0</td>\n",
              "      <td>0</td>\n",
              "      <td>0</td>\n",
              "      <td>0</td>\n",
              "      <td>0</td>\n",
              "      <td>0</td>\n",
              "      <td>0</td>\n",
              "    </tr>\n",
              "    <tr>\n",
              "      <th>4</th>\n",
              "      <td>4</td>\n",
              "      <td>156263</td>\n",
              "      <td>O=C(/C=C/c1ccco1)Nc1ccc(Cl)c(S(=O)(=O)N2CCOCC2)c1</td>\n",
              "      <td>&lt;rdkit.Chem.rdchem.Mol object at 0x7f595be34270&gt;</td>\n",
              "      <td>0</td>\n",
              "      <td>7</td>\n",
              "      <td>4</td>\n",
              "      <td>2</td>\n",
              "      <td>26</td>\n",
              "      <td>396.845708</td>\n",
              "      <td>...</td>\n",
              "      <td>0</td>\n",
              "      <td>1</td>\n",
              "      <td>0</td>\n",
              "      <td>0</td>\n",
              "      <td>0</td>\n",
              "      <td>0</td>\n",
              "      <td>0</td>\n",
              "      <td>0</td>\n",
              "      <td>0</td>\n",
              "      <td>0</td>\n",
              "    </tr>\n",
              "  </tbody>\n",
              "</table>\n",
              "<p>5 rows × 536 columns</p>\n",
              "</div>\n",
              "      <button class=\"colab-df-convert\" onclick=\"convertToInteractive('df-e558adde-b288-44c1-95c9-39eda31dd54e')\"\n",
              "              title=\"Convert this dataframe to an interactive table.\"\n",
              "              style=\"display:none;\">\n",
              "        \n",
              "  <svg xmlns=\"http://www.w3.org/2000/svg\" height=\"24px\"viewBox=\"0 0 24 24\"\n",
              "       width=\"24px\">\n",
              "    <path d=\"M0 0h24v24H0V0z\" fill=\"none\"/>\n",
              "    <path d=\"M18.56 5.44l.94 2.06.94-2.06 2.06-.94-2.06-.94-.94-2.06-.94 2.06-2.06.94zm-11 1L8.5 8.5l.94-2.06 2.06-.94-2.06-.94L8.5 2.5l-.94 2.06-2.06.94zm10 10l.94 2.06.94-2.06 2.06-.94-2.06-.94-.94-2.06-.94 2.06-2.06.94z\"/><path d=\"M17.41 7.96l-1.37-1.37c-.4-.4-.92-.59-1.43-.59-.52 0-1.04.2-1.43.59L10.3 9.45l-7.72 7.72c-.78.78-.78 2.05 0 2.83L4 21.41c.39.39.9.59 1.41.59.51 0 1.02-.2 1.41-.59l7.78-7.78 2.81-2.81c.8-.78.8-2.07 0-2.86zM5.41 20L4 18.59l7.72-7.72 1.47 1.35L5.41 20z\"/>\n",
              "  </svg>\n",
              "      </button>\n",
              "      \n",
              "  <style>\n",
              "    .colab-df-container {\n",
              "      display:flex;\n",
              "      flex-wrap:wrap;\n",
              "      gap: 12px;\n",
              "    }\n",
              "\n",
              "    .colab-df-convert {\n",
              "      background-color: #E8F0FE;\n",
              "      border: none;\n",
              "      border-radius: 50%;\n",
              "      cursor: pointer;\n",
              "      display: none;\n",
              "      fill: #1967D2;\n",
              "      height: 32px;\n",
              "      padding: 0 0 0 0;\n",
              "      width: 32px;\n",
              "    }\n",
              "\n",
              "    .colab-df-convert:hover {\n",
              "      background-color: #E2EBFA;\n",
              "      box-shadow: 0px 1px 2px rgba(60, 64, 67, 0.3), 0px 1px 3px 1px rgba(60, 64, 67, 0.15);\n",
              "      fill: #174EA6;\n",
              "    }\n",
              "\n",
              "    [theme=dark] .colab-df-convert {\n",
              "      background-color: #3B4455;\n",
              "      fill: #D2E3FC;\n",
              "    }\n",
              "\n",
              "    [theme=dark] .colab-df-convert:hover {\n",
              "      background-color: #434B5C;\n",
              "      box-shadow: 0px 1px 3px 1px rgba(0, 0, 0, 0.15);\n",
              "      filter: drop-shadow(0px 1px 2px rgba(0, 0, 0, 0.3));\n",
              "      fill: #FFFFFF;\n",
              "    }\n",
              "  </style>\n",
              "\n",
              "      <script>\n",
              "        const buttonEl =\n",
              "          document.querySelector('#df-e558adde-b288-44c1-95c9-39eda31dd54e button.colab-df-convert');\n",
              "        buttonEl.style.display =\n",
              "          google.colab.kernel.accessAllowed ? 'block' : 'none';\n",
              "\n",
              "        async function convertToInteractive(key) {\n",
              "          const element = document.querySelector('#df-e558adde-b288-44c1-95c9-39eda31dd54e');\n",
              "          const dataTable =\n",
              "            await google.colab.kernel.invokeFunction('convertToInteractive',\n",
              "                                                     [key], {});\n",
              "          if (!dataTable) return;\n",
              "\n",
              "          const docLinkHtml = 'Like what you see? Visit the ' +\n",
              "            '<a target=\"_blank\" href=https://colab.research.google.com/notebooks/data_table.ipynb>data table notebook</a>'\n",
              "            + ' to learn more about interactive tables.';\n",
              "          element.innerHTML = '';\n",
              "          dataTable['output_type'] = 'display_data';\n",
              "          await google.colab.output.renderOutput(dataTable, element);\n",
              "          const docLink = document.createElement('div');\n",
              "          docLink.innerHTML = docLinkHtml;\n",
              "          element.appendChild(docLink);\n",
              "        }\n",
              "      </script>\n",
              "    </div>\n",
              "  </div>\n",
              "  "
            ]
          },
          "metadata": {},
          "execution_count": 62
        }
      ]
    },
    {
      "cell_type": "markdown",
      "source": [
        "### Training the model"
      ],
      "metadata": {
        "id": "EJlL7r3MoL7-"
      }
    },
    {
      "cell_type": "code",
      "source": [
        "X, y = train_data[fp_features], train_data['ACTIVE']\n",
        "\n",
        "X_test = test_data[fp_features]\n",
        "\n",
        "seed=10\n",
        "\n",
        "smote = SMOTE(sampling_strategy=0.1, random_state=seed)\n",
        "X_smote, y_smote = smote.fit_resample(X, y)"
      ],
      "metadata": {
        "id": "xYb-znpPnjGR"
      },
      "execution_count": null,
      "outputs": []
    },
    {
      "cell_type": "code",
      "source": [
        "rez = []\n",
        "classifiers = [RandomForestClassifier(40), RandomForestClassifier(50), RandomForestClassifier(60), RandomForestClassifier(70)]\n",
        "for c in classifiers:\n",
        "\n",
        "  train_validate_model(c, f'RFC', X_smote, y_smote, rez)"
      ],
      "metadata": {
        "colab": {
          "base_uri": "https://localhost:8080/"
        },
        "id": "EXI97X2HoOou",
        "outputId": "057b7c86-d765-450d-c821-1e95f27a7036"
      },
      "execution_count": null,
      "outputs": [
        {
          "output_type": "stream",
          "name": "stdout",
          "text": [
            "RFC :\n",
            "Accuracy: 0.9873691022473232  F1: 0.926535500427716\n",
            "AUC = 0.9373414836730176\n",
            "RFC :\n",
            "Accuracy: 0.9874161666078363  F1: 0.926789198069617\n",
            "AUC = 0.9373673689494724\n",
            "RFC :\n",
            "Accuracy: 0.9872396752559125  F1: 0.9257420658016366\n",
            "AUC = 0.936716969549641\n",
            "RFC :\n",
            "Accuracy: 0.9873632192022591  F1: 0.9264383561643835\n",
            "AUC = 0.9369596540676376\n"
          ]
        }
      ]
    },
    {
      "cell_type": "code",
      "source": [
        "classifier = RandomForestClassifier(50)\n",
        "classifier.fit(X_smote, y_smote)"
      ],
      "metadata": {
        "id": "E39jlZ850WRf",
        "colab": {
          "base_uri": "https://localhost:8080/"
        },
        "outputId": "651c7262-a4ea-459e-d55c-cf2a21313a9f"
      },
      "execution_count": null,
      "outputs": [
        {
          "output_type": "execute_result",
          "data": {
            "text/plain": [
              "RandomForestClassifier(n_estimators=50)"
            ]
          },
          "metadata": {},
          "execution_count": 65
        }
      ]
    },
    {
      "cell_type": "code",
      "source": [
        "y_pred_proba = classifier.predict_proba(X_test)"
      ],
      "metadata": {
        "id": "Dv0jkZFq8bsN"
      },
      "execution_count": null,
      "outputs": []
    },
    {
      "cell_type": "code",
      "source": [
        "y_pred_proba[:, 1]"
      ],
      "metadata": {
        "colab": {
          "base_uri": "https://localhost:8080/"
        },
        "id": "X0CXpnFh8tOV",
        "outputId": "c2285409-986a-4ae0-bbe7-8224cf70992f"
      },
      "execution_count": null,
      "outputs": [
        {
          "output_type": "execute_result",
          "data": {
            "text/plain": [
              "array([0.  , 0.  , 0.02, ..., 0.  , 0.  , 0.  ])"
            ]
          },
          "metadata": {},
          "execution_count": 67
        }
      ]
    },
    {
      "cell_type": "code",
      "source": [
        "with open(RESULT_PATH, \"w\") as f:\n",
        "  f.write('0.9373' + '\\n')\n",
        "  for i in y_pred_proba[:, 1]:\n",
        "    f.write(\"{:e}\\n\".format(i))"
      ],
      "metadata": {
        "id": "cYhn2hdj8vob"
      },
      "execution_count": null,
      "outputs": []
    },
    {
      "cell_type": "code",
      "source": [],
      "metadata": {
        "id": "zXdNIxRyzR1N"
      },
      "execution_count": null,
      "outputs": []
    }
  ],
  "metadata": {
    "colab": {
      "provenance": [],
      "collapsed_sections": [
        "Vz1DISEwyqG3"
      ]
    },
    "kernelspec": {
      "display_name": "Python 3",
      "name": "python3"
    },
    "language_info": {
      "name": "python"
    }
  },
  "nbformat": 4,
  "nbformat_minor": 0
}